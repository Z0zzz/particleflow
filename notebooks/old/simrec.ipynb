{
 "cells": [
  {
   "cell_type": "code",
   "execution_count": null,
   "metadata": {},
   "outputs": [],
   "source": [
    "import numpy as np\n",
    "import matplotlib.pyplot as plt\n",
    "import pandas as pd\n",
    "import mplhep\n",
    "plt.style.use(mplhep.style.CMS)"
   ]
  },
  {
   "cell_type": "code",
   "execution_count": null,
   "metadata": {},
   "outputs": [],
   "source": [
    "import scipy\n",
    "import scipy.sparse"
   ]
  },
  {
   "cell_type": "code",
   "execution_count": null,
   "metadata": {},
   "outputs": [],
   "source": [
    "dm = scipy.sparse.load_npz(\"../dist_0.npz\")"
   ]
  },
  {
   "cell_type": "code",
   "execution_count": null,
   "metadata": {},
   "outputs": [],
   "source": [
    "plt.imshow(dm.todense()>0.0, cmap=\"Greys\")"
   ]
  },
  {
   "cell_type": "code",
   "execution_count": null,
   "metadata": {},
   "outputs": [],
   "source": [
    "gen = pd.read_csv(\"../gen_0.csv\", index_col=0)\n",
    "reco = pd.read_csv(\"../reco_0.csv\", index_col=0)\n",
    "\n",
    "fi0 = np.load(\"../ev_0.npz\")\n",
    "rg = fi0[\"reco_gen\"]\n",
    "rc = fi0[\"reco_cand\"]"
   ]
  },
  {
   "cell_type": "code",
   "execution_count": null,
   "metadata": {},
   "outputs": [],
   "source": [
    "gen[\"num_matched\"] = (rg > 0.0).sum(axis=0)\n",
    "reco[\"num_matched\"] = (rg > 0.0).sum(axis=1)"
   ]
  },
  {
   "cell_type": "code",
   "execution_count": null,
   "metadata": {},
   "outputs": [],
   "source": [
    "plt.figure(figsize=(5,5))\n",
    "gen[\"pt\"].hist(bins=np.linspace(0,10,100))\n",
    "plt.yscale(\"log\")"
   ]
  },
  {
   "cell_type": "code",
   "execution_count": null,
   "metadata": {},
   "outputs": [],
   "source": [
    "Xs = []\n",
    "ys = []\n",
    "ycs = []\n",
    "for i in range(10):\n",
    "    fi = np.load(\"../ev_{}.npz\".format(i))\n",
    "    X = fi[\"X\"]\n",
    "    y = fi[\"ygen\"]\n",
    "    yc = fi[\"ycand\"]\n",
    "    \n",
    "    Xs += [X]\n",
    "    ys += [y]\n",
    "    ycs += [yc]"
   ]
  },
  {
   "cell_type": "code",
   "execution_count": null,
   "metadata": {},
   "outputs": [],
   "source": [
    "# plt.hist(rg[rg>0], bins=np.linspace(0,200,100));\n",
    "# plt.yscale(\"log\")"
   ]
  },
  {
   "cell_type": "code",
   "execution_count": null,
   "metadata": {},
   "outputs": [],
   "source": [
    "for igen in range(20):\n",
    "    idx_max = np.argmax(rg[:, igen])\n",
    "    inds_max = np.argsort(rg[:, igen])[::-1][:3]\n",
    "    rgs = rg[inds_max, igen]\n",
    "    print(igen, inds_max, rgs)"
   ]
  },
  {
   "cell_type": "code",
   "execution_count": null,
   "metadata": {},
   "outputs": [],
   "source": [
    "plt.figure(figsize=(5, 5))\n",
    "plt.imshow(rg>0.0, cmap=\"Greys\", interpolation='None')\n",
    "plt.xlabel(\"genparticle index\")\n",
    "plt.ylabel(\"recoparticle index\")"
   ]
  },
  {
   "cell_type": "code",
   "execution_count": null,
   "metadata": {},
   "outputs": [],
   "source": [
    "plt.figure(figsize=(5, 5))\n",
    "\n",
    "rgs = rg>0.0\n",
    "plt.hist(rgs.sum(axis=0), bins=np.linspace(0, 20, 21), density=1.0, histtype=\"step\", lw=2, label=\"gen\");\n",
    "plt.hist(rgs.sum(axis=1), bins=np.linspace(0, 20, 21), density=1.0, histtype=\"step\", lw=2, label=\"reco\");\n",
    "plt.legend()\n",
    "#plt.yscale(\"log\")\n",
    "plt.xlabel(\"number of associations\")\n",
    "plt.ylabel(\"fraction of total\")"
   ]
  },
  {
   "cell_type": "code",
   "execution_count": null,
   "metadata": {},
   "outputs": [],
   "source": [
    "plt.figure(figsize=(5, 5))\n",
    "plt.imshow(rc>0.0, cmap=\"Greys\", interpolation='None')\n",
    "plt.xlabel(\"PFCandidate index\")\n",
    "plt.ylabel(\"recoparticle index\")"
   ]
  },
  {
   "cell_type": "code",
   "execution_count": null,
   "metadata": {},
   "outputs": [],
   "source": [
    "plt.figure(figsize=(5, 5))\n",
    "rcs = rc>0.0\n",
    "plt.hist(rcs.sum(axis=0), bins=np.linspace(0, 10, 11), density=1.0, histtype=\"step\", lw=2, label=\"candidate\");\n",
    "plt.hist(rcs.sum(axis=1), bins=np.linspace(0, 10, 11), density=1.0, histtype=\"step\", lw=2, label=\"reco\");\n",
    "plt.legend()\n",
    "#plt.yscale(\"log\")\n",
    "plt.xlabel(\"number of associations\")\n",
    "plt.ylabel(\"fraction of total\")"
   ]
  },
  {
   "cell_type": "code",
   "execution_count": null,
   "metadata": {},
   "outputs": [],
   "source": [
    "from collections import Counter"
   ]
  },
  {
   "cell_type": "code",
   "execution_count": null,
   "metadata": {},
   "outputs": [],
   "source": []
  },
  {
   "cell_type": "code",
   "execution_count": null,
   "metadata": {},
   "outputs": [],
   "source": []
  },
  {
   "cell_type": "code",
   "execution_count": null,
   "metadata": {},
   "outputs": [],
   "source": [
    "plot_id_pairs(yc[:, 0], X[:, 0])\n",
    "plt.title(\"reco to PFCandidate\", y=1.0)\n",
    "plt.ylabel(\"PFCandidate PDGID\")\n",
    "plt.xlabel(\"Reco object type\")"
   ]
  },
  {
   "cell_type": "code",
   "execution_count": null,
   "metadata": {},
   "outputs": [],
   "source": [
    "plot_id_pairs(yc[m2, 0], y[m2, 0])\n",
    "plt.title(\"gen to PFCandidate\", y=1.0)\n",
    "plt.xlabel(\"GenParticle PDGID\")\n",
    "plt.ylabel(\"PFCandidate PDGID\")"
   ]
  },
  {
   "cell_type": "code",
   "execution_count": null,
   "metadata": {},
   "outputs": [],
   "source": [
    "has_cand = (yc[:, 0] != 0)\n",
    "has_gen = (y[:, 0] != 0)\n",
    "\n",
    "is_track = X[:, 0] == 1"
   ]
  },
  {
   "cell_type": "code",
   "execution_count": null,
   "metadata": {},
   "outputs": [],
   "source": [
    "X.shape"
   ]
  },
  {
   "cell_type": "code",
   "execution_count": null,
   "metadata": {},
   "outputs": [],
   "source": [
    "Counter(X[has_gen, 0])"
   ]
  },
  {
   "cell_type": "code",
   "execution_count": null,
   "metadata": {},
   "outputs": [],
   "source": [
    "Counter(X[~has_gen, 0])"
   ]
  },
  {
   "cell_type": "code",
   "execution_count": null,
   "metadata": {},
   "outputs": [],
   "source": [
    "X[is_track].shape"
   ]
  },
  {
   "cell_type": "code",
   "execution_count": null,
   "metadata": {},
   "outputs": [],
   "source": [
    "X[is_track & has_cand & has_gen].shape"
   ]
  },
  {
   "cell_type": "code",
   "execution_count": null,
   "metadata": {},
   "outputs": [],
   "source": [
    "X[is_track & has_cand & ~has_gen].shape"
   ]
  },
  {
   "cell_type": "code",
   "execution_count": null,
   "metadata": {},
   "outputs": [],
   "source": [
    "X[is_track & ~has_cand].shape"
   ]
  },
  {
   "cell_type": "code",
   "execution_count": null,
   "metadata": {},
   "outputs": [],
   "source": [
    "yc[has_cand & has_gen, 0].shape"
   ]
  },
  {
   "cell_type": "code",
   "execution_count": null,
   "metadata": {},
   "outputs": [],
   "source": [
    "yc[has_cand & ~has_gen, 0].shape"
   ]
  },
  {
   "cell_type": "code",
   "execution_count": null,
   "metadata": {},
   "outputs": [],
   "source": [
    "pids = np.unique(yc[has_cand, 0])\n",
    "c1 = Counter(yc[has_cand&has_gen, 0])\n",
    "c2 = Counter(yc[has_cand&~has_gen, 0])"
   ]
  },
  {
   "cell_type": "code",
   "execution_count": null,
   "metadata": {},
   "outputs": [],
   "source": [
    "yvals = [c1[p]/np.sum(has_cand) for p in pids]\n",
    "yvals2 = [c2[p]/np.sum(has_cand) for p in pids]"
   ]
  },
  {
   "cell_type": "code",
   "execution_count": null,
   "metadata": {},
   "outputs": [],
   "source": [
    "plt.figure(figsize=(9,5))\n",
    "xs = np.arange(len(pids))\n",
    "plt.bar(xs, yvals, label=\"matched\")\n",
    "plt.bar(xs, yvals2, bottom=yvals, label=\"not matched\")\n",
    "plt.xticks(xs, [int(x) for x in pids]);\n",
    "plt.ylabel(\"fraction of total candidates\")\n",
    "plt.xlabel(\"PFCandidate PDGID\")\n",
    "plt.title(\"PFCandidate to Gen match\")\n",
    "plt.legend()\n",
    "plt.ylim(0,0.4)"
   ]
  },
  {
   "cell_type": "code",
   "execution_count": null,
   "metadata": {},
   "outputs": [],
   "source": [
    "df2 = pd.DataFrame(np.hstack([X, y, yc]))"
   ]
  },
  {
   "cell_type": "code",
   "execution_count": null,
   "metadata": {},
   "outputs": [],
   "source": [
    "df2[df2[0]==4]"
   ]
  },
  {
   "cell_type": "code",
   "execution_count": null,
   "metadata": {},
   "outputs": [],
   "source": [
    "randinds = np.random.permutation(range(len(df2)))[:100]\n",
    "df3 = df2[[0, 4, 6, 12]]"
   ]
  },
  {
   "cell_type": "code",
   "execution_count": null,
   "metadata": {},
   "outputs": [],
   "source": [
    "df3.loc[randinds]"
   ]
  },
  {
   "cell_type": "code",
   "execution_count": null,
   "metadata": {},
   "outputs": [],
   "source": [
    "plt.figure(figsize=(5,5))\n",
    "ax = plt.axes()\n",
    "\n",
    "bigmask = (np.abs(X[:, 2]) < 0.2) & (np.abs(X[:, 3]) < 0.2)\n",
    "plt.scatter(X[bigmask, 2], X[bigmask, 3], marker=\".\", label=\"reco\")\n",
    "plt.scatter(y[bigmask & m, 2], y[bigmask & m, 3], marker=\"x\", label=\"gen\")\n",
    "plt.scatter(yc[bigmask & m2, 2], yc[bigmask & m2, 3], marker=\".\", label=\"PF\")\n",
    "\n",
    "for idx in np.nonzero(bigmask)[0]:\n",
    "    _x1, _y1 = X[idx, 2], X[idx, 3]\n",
    "    _x2, _y2 = y[idx, 2], y[idx, 3]\n",
    "    _x3, _y3 = yc[idx, 2], yc[idx, 3]\n",
    "    if _x2 != 0 and abs(_x2) < 0.2 and abs(_y2) < 0.2:\n",
    "        plt.plot([_x1, _x2], [_y1, _y2], color=\"gray\")\n",
    "    if _x3 != 0 and abs(_x3) < 0.2 and abs(_y3) < 0.2:\n",
    "        plt.plot([_x1, _x3], [_y1, _y3], color=\"gray\")\n",
    "        \n",
    "plt.xlim(-0.2, 0.2)\n",
    "plt.ylim(-0.2, 0.2)\n",
    "plt.xlabel(\"eta\")\n",
    "plt.ylabel(\"phi\")\n",
    "plt.legend(loc=(1.01,0.1))"
   ]
  },
  {
   "cell_type": "code",
   "execution_count": null,
   "metadata": {},
   "outputs": [],
   "source": [
    "plt.legend?"
   ]
  },
  {
   "cell_type": "code",
   "execution_count": null,
   "metadata": {},
   "outputs": [],
   "source": []
  }
 ],
 "metadata": {
  "kernelspec": {
   "display_name": "Python 3",
   "language": "python",
   "name": "python3"
  },
  "language_info": {
   "codemirror_mode": {
    "name": "ipython",
    "version": 3
   },
   "file_extension": ".py",
   "mimetype": "text/x-python",
   "name": "python",
   "nbconvert_exporter": "python",
   "pygments_lexer": "ipython3",
   "version": "3.6.9"
  }
 },
 "nbformat": 4,
 "nbformat_minor": 2
}
