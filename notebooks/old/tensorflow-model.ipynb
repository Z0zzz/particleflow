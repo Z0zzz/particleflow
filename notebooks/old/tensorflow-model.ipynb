{
 "cells": [
  {
   "cell_type": "code",
   "execution_count": 6,
   "metadata": {},
   "outputs": [],
   "source": [
    "import os\n",
    "os.environ[\"KERAS_BACKEND\"] = \"tensorflow\"\n",
    "os.environ[\"CUDA_VISIBLE_DEVICES\"] = \"0\"\n",
    "\n",
    "import pickle\n",
    "import matplotlib.pyplot as plt\n",
    "import numpy as np\n",
    "from sklearn.metrics import confusion_matrix, accuracy_score"
   ]
  },
  {
   "cell_type": "code",
   "execution_count": 7,
   "metadata": {},
   "outputs": [],
   "source": [
    "import keras\n",
    "import tensorflow as tf"
   ]
  },
  {
   "cell_type": "code",
   "execution_count": 8,
   "metadata": {},
   "outputs": [],
   "source": [
    "from keras.layers import Input, Dense\n",
    "from keras.models import Model"
   ]
  },
  {
   "cell_type": "code",
   "execution_count": 9,
   "metadata": {},
   "outputs": [],
   "source": [
    "elem_labels = [1.0, 2.0, 3.0, 4.0, 5.0, 6.0, 7.0, 8.0, 9.0, 10.0, 11.0]\n",
    "class_labels = [0., -211., -13., -11., 1., 2., 11.0, 13., 22., 130., 211.]"
   ]
  },
  {
   "cell_type": "code",
   "execution_count": 10,
   "metadata": {},
   "outputs": [],
   "source": [
    "Xs = []\n",
    "ys = []\n",
    "for iev in range(1, 60):\n",
    "    for ifile in range(10):\n",
    "        data = pickle.load(open(\"../data/TTbar_14TeV_TuneCUETP8M1_cfi/raw/pfntuple_{}_{}.pkl\".format(iev, ifile), \"rb\"), encoding='iso-8859-1')\n",
    "        Xelem = data[0][\"Xelem\"]\n",
    "        ygen = data[0][\"ygen\"]\n",
    "        Xelem[:, 0] = [int(elem_labels.index(i)) for i in Xelem[:, 0]]\n",
    "        ygen[:, 0] = [int(class_labels.index(i)) for i in ygen[:, 0]]\n",
    "        Xs += [Xelem.copy()]\n",
    "        ys += [ygen.copy()]\n",
    "        del data"
   ]
  },
  {
   "cell_type": "code",
   "execution_count": 11,
   "metadata": {},
   "outputs": [],
   "source": [
    "Xs_training = Xs[:500]\n",
    "ys_training = ys[:500]\n",
    "\n",
    "Xs_testing = Xs[500:]\n",
    "ys_testing = ys[500:]"
   ]
  },
  {
   "cell_type": "code",
   "execution_count": 12,
   "metadata": {},
   "outputs": [],
   "source": [
    "def dist(A,B):\n",
    "    na = tf.reduce_sum(tf.square(A), 1)\n",
    "    nb = tf.reduce_sum(tf.square(B), 1)\n",
    "\n",
    "    na = tf.reshape(na, [-1, 1])\n",
    "    nb = tf.reshape(nb, [1, -1])\n",
    "    D = tf.sqrt(tf.maximum(na - 2*tf.matmul(A, B, False, True) + nb, 0.0))\n",
    "    return D"
   ]
  },
  {
   "cell_type": "code",
   "execution_count": 13,
   "metadata": {},
   "outputs": [],
   "source": [
    "class InputEncoding(tf.keras.layers.Layer):\n",
    "    def __init__(self, num_input_classes):\n",
    "        super(InputEncoding, self).__init__()\n",
    "        self.num_input_classes = num_input_classes\n",
    "        \n",
    "    def call(self, X):\n",
    "        Xid = tf.one_hot(tf.cast(X[:, 0], tf.int32), self.num_input_classes)\n",
    "        Xprop = X[:, 1:]\n",
    "        return tf.concat([Xid, Xprop], axis=-1)\n",
    "    \n",
    "class Distance(tf.keras.layers.Layer):\n",
    "\n",
    "    def __init__(self, *args, **kwargs):\n",
    "        super(Distance, self).__init__(*args, **kwargs)\n",
    "\n",
    "    def call(self, inputs):\n",
    "        \n",
    "        #compute the pairwise distance matrix between the vectors defined by the first two components of the input array\n",
    "        D =  dist(inputs[:, :2], inputs[:, :2])\n",
    "        \n",
    "        #closer nodes have higher weight, could also consider exp(-D) or such here\n",
    "        D = tf.math.divide_no_nan(1.0, D)\n",
    "        \n",
    "        #turn edges on or off based on activation with an arbitrary shift parameter\n",
    "        D = tf.keras.activations.sigmoid(D - 5.0)\n",
    "        \n",
    "        #keep only upper triangular matrix (unidirectional edges)\n",
    "        D = tf.linalg.band_part(D, 0, -1)\n",
    "        return D\n",
    "    \n",
    "class GraphConv(tf.keras.layers.Dense):\n",
    "    def __init__(self, *args, **kwargs):\n",
    "        super(GraphConv, self).__init__(*args, **kwargs)\n",
    "    \n",
    "    def call(self, inputs, adj):\n",
    "        W = self.weights[0]\n",
    "        b = self.weights[1]\n",
    "        support = tf.matmul(inputs, W) + b\n",
    "        out = tf.matmul(adj, support)\n",
    "        return self.activation(out)"
   ]
  },
  {
   "cell_type": "code",
   "execution_count": 14,
   "metadata": {},
   "outputs": [],
   "source": [
    "class PFNet(tf.keras.Model):\n",
    "    \n",
    "    def __init__(self, activation=tf.keras.activations.relu, hidden_dim=256):\n",
    "        super(PFNet, self).__init__()\n",
    "        self.enc = InputEncoding(len(elem_labels))\n",
    "        self.layer_input1 = tf.keras.layers.Dense(hidden_dim, activation=activation, name=\"input1\")\n",
    "        self.layer_input2 = tf.keras.layers.Dense(hidden_dim, activation=activation, name=\"input2\")\n",
    "        self.layer_input3 = tf.keras.layers.Dense(hidden_dim, activation=activation, name=\"input3\")\n",
    "        \n",
    "        self.layer_dist = Distance(name=\"distance\")\n",
    "        self.layer_conv = GraphConv(hidden_dim, activation=activation, name=\"conv\")\n",
    "        \n",
    "        self.layer_id1 = tf.keras.layers.Dense(hidden_dim, activation=activation, name=\"id1\")\n",
    "        self.layer_id2 = tf.keras.layers.Dense(hidden_dim, activation=activation, name=\"id2\")\n",
    "        self.layer_id3 = tf.keras.layers.Dense(hidden_dim, activation=activation, name=\"id3\")\n",
    "        self.layer_id = tf.keras.layers.Dense(len(class_labels), activation=\"linear\", name=\"out_id\")\n",
    "        \n",
    "        self.layer_momentum1 = tf.keras.layers.Dense(hidden_dim, activation=activation, name=\"momentum1\")\n",
    "        self.layer_momentum2 = tf.keras.layers.Dense(hidden_dim, activation=activation, name=\"momentum2\")\n",
    "        self.layer_momentum3 = tf.keras.layers.Dense(hidden_dim, activation=activation, name=\"momentum3\")\n",
    "        self.layer_momentum = tf.keras.layers.Dense(3, activation=\"linear\", name=\"out_momentum\")\n",
    "        \n",
    "    def call(self, inputs):\n",
    "        x = self.enc(inputs)\n",
    "        x = self.layer_input1(x)\n",
    "        x = self.layer_input2(x)\n",
    "        x = self.layer_input3(x)\n",
    "        \n",
    "        dm = self.layer_dist(x)\n",
    "        x = self.layer_conv(x, dm)\n",
    "        \n",
    "        a = self.layer_id1(x)\n",
    "        a = self.layer_id2(a)\n",
    "        a = self.layer_id3(a)\n",
    "        out_id = self.layer_id(a)\n",
    "        \n",
    "        b = self.layer_momentum1(x)\n",
    "        b = self.layer_momentum2(b)\n",
    "        b = self.layer_momentum3(b)\n",
    "        out_momentum = self.layer_momentum(b)\n",
    "        \n",
    "        return out_id, out_momentum, dm"
   ]
  },
  {
   "cell_type": "code",
   "execution_count": 15,
   "metadata": {},
   "outputs": [],
   "source": [
    "model = PFNet(hidden_dim=256)\n",
    "opt = tf.keras.optimizers.Adam(lr=0.001)\n",
    "ret = model(Xs[0]);"
   ]
  },
  {
   "cell_type": "code",
   "execution_count": 16,
   "metadata": {},
   "outputs": [
    {
     "data": {
      "image/png": "[encoded data removed]",
      "text/plain": [
       "<Figure size 432x288 with 1 Axes>"
      ]
     },
     "metadata": {
      "needs_background": "light"
     },
     "output_type": "display_data"
    }
   ],
   "source": [
    "plt.hist(ret[2].numpy().flatten(), bins=np.linspace(0,1,100));"
   ]
  },
  {
   "cell_type": "code",
   "execution_count": 17,
   "metadata": {},
   "outputs": [],
   "source": [
    "def loss(model, inputs, targets, epoch, training):\n",
    "    pred_id, pred_momentum, _ = model(inputs)\n",
    "    pred_inds = tf.argmax(pred_id, axis=-1)\n",
    "    #mask_correct = (pred_inds==targets[:, 0])\n",
    "    l1 = tf.reduce_mean(tf.nn.softmax_cross_entropy_with_logits(\n",
    "        tf.one_hot(tf.cast(targets[:, 0], tf.int32), depth=len(class_labels)), pred_id))\n",
    "    l0 = 0*tf.reduce_mean(tf.keras.losses.mse(targets[:, 1:4], pred_momentum[:]))\n",
    "    return l1 + l0"
   ]
  },
  {
   "cell_type": "code",
   "execution_count": 18,
   "metadata": {},
   "outputs": [],
   "source": [
    "def grad(model, inputs, targets, epoch):\n",
    "    with tf.GradientTape() as tape:\n",
    "        loss_value = loss(model, inputs, targets, epoch, training=True)\n",
    "        return loss_value, tape.gradient(loss_value, model.trainable_variables)"
   ]
  },
  {
   "cell_type": "code",
   "execution_count": 33,
   "metadata": {
    "scrolled": false
   },
   "outputs": [
    {
     "name": "stdout",
     "output_type": "stream",
     "text": [
      "epoch=0 loss=220.12 acc=0.8198/0.8197\n",
      "epoch=1 loss=217.86 acc=0.8210/0.8214\n",
      "epoch=2 loss=217.35 acc=0.8212/0.8221\n",
      "epoch=3 loss=216.78 acc=0.8215/0.8223\n",
      "epoch=4 loss=216.34 acc=0.8218/0.8231\n",
      "epoch=5 loss=215.48 acc=0.8224/0.8233\n",
      "epoch=6 loss=215.27 acc=0.8225/0.8235\n",
      "epoch=7 loss=214.84 acc=0.8229/0.8234\n",
      "epoch=8 loss=213.99 acc=0.8232/0.8244\n",
      "epoch=9 loss=213.28 acc=0.8235/0.8242\n"
     ]
    }
   ],
   "source": [
    "accum_vars = [tf.Variable(tf.zeros_like(tv.initialized_value()), trainable=False) for tv in model.trainable_variables]\n",
    "\n",
    "for i in range(10):\n",
    "    loss_tot = 0.0\n",
    "    \n",
    "    ibatch = 0\n",
    "    \n",
    "    true_ids = []\n",
    "    pred_ids = []\n",
    "    \n",
    "    for Xelem, ygen in zip(Xs_training, ys_training):\n",
    "        loss_value, grads = grad(model, Xelem, ygen, i)\n",
    "        for igrad, gv in enumerate(grads):\n",
    "            accum_vars[igrad].assign_add(gv)\n",
    "        \n",
    "        loss_tot += loss_value.numpy()\n",
    "        if ibatch == 5:\n",
    "            opt.apply_gradients([(accum_vars[igrad] / 5, model.trainable_variables[igrad]) for igrad in range(len(accum_vars))])\n",
    "            ibatch = 0\n",
    "            for igrad in range(len(accum_vars)):\n",
    "                accum_vars[igrad].assign(tf.zeros_like(accum_vars[igrad]))\n",
    "\n",
    "        pred_id, pred_momentum, dm = model(Xelem)\n",
    "        pred_ids += [tf.argmax(pred_id, axis=-1).numpy()]\n",
    "        true_ids += [ygen[:, 0]]\n",
    "        ibatch += 1\n",
    "    true_ids = np.concatenate(true_ids)\n",
    "    pred_ids = np.concatenate(pred_ids)\n",
    "    \n",
    "    true_ids_testing = []\n",
    "    pred_ids_testing = []\n",
    "    loss_tot_testing = 0.0\n",
    "    for Xelem, ygen in zip(Xs_testing, ys_testing):\n",
    "        pred_id, pred_momentum, _ = model(Xelem)\n",
    "        true_ids_testing += [ygen[:, 0]]\n",
    "        pred_ids_testing += [tf.argmax(pred_id, axis=-1).numpy()]\n",
    "    true_ids_testing = np.concatenate(true_ids_testing)\n",
    "    pred_ids_testing = np.concatenate(pred_ids_testing)\n",
    "\n",
    "    acc = accuracy_score(true_ids, pred_ids)\n",
    "    acc_testing = accuracy_score(true_ids_testing, pred_ids_testing)\n",
    "    print(\"epoch={epoch} loss={loss:.2f} acc={acc:.4f}/{acc_testing:.4f}\".format(epoch=i, loss=loss_tot, acc=acc, acc_testing=acc_testing))"
   ]
  },
  {
   "cell_type": "code",
   "execution_count": 34,
   "metadata": {},
   "outputs": [],
   "source": [
    "def plot_confusion_matrix(cm,\n",
    "                          target_names,\n",
    "                          title='Confusion matrix',\n",
    "                          cmap=None,\n",
    "                          normalize=True):\n",
    "    \"\"\"\n",
    "    given a sklearn confusion matrix (cm), make a nice plot\n",
    "\n",
    "    Arguments\n",
    "    ---------\n",
    "    cm:           confusion matrix from sklearn.metrics.confusion_matrix\n",
    "\n",
    "    target_names: given classification classes such as [0, 1, 2]\n",
    "                  the class names, for example: ['high', 'medium', 'low']\n",
    "\n",
    "    title:        the text to display at the top of the matrix\n",
    "\n",
    "    cmap:         the gradient of the values displayed from matplotlib.pyplot.cm\n",
    "                  see http://matplotlib.org/examples/color/colormaps_reference.html\n",
    "                  plt.get_cmap('jet') or plt.cm.Blues\n",
    "\n",
    "    normalize:    If False, plot the raw numbers\n",
    "                  If True, plot the proportions\n",
    "\n",
    "    Usage\n",
    "    -----\n",
    "    plot_confusion_matrix(cm           = cm,                  # confusion matrix created by\n",
    "                                                              # sklearn.metrics.confusion_matrix\n",
    "                          normalize    = True,                # show proportions\n",
    "                          target_names = y_labels_vals,       # list of names of the classes\n",
    "                          title        = best_estimator_name) # title of graph\n",
    "\n",
    "    Citiation\n",
    "    ---------\n",
    "    http://scikit-learn.org/stable/auto_examples/model_selection/plot_confusion_matrix.html\n",
    "\n",
    "    \"\"\"\n",
    "    import matplotlib.pyplot as plt\n",
    "    import numpy as np\n",
    "    import itertools\n",
    "\n",
    "    accuracy = np.trace(cm) / float(np.sum(cm))\n",
    "    misclass = 1 - accuracy\n",
    "\n",
    "    if cmap is None:\n",
    "        cmap = plt.get_cmap('Blues')\n",
    "\n",
    "    if normalize:\n",
    "        cm = cm.astype('float') / cm.sum(axis=1)[:, np.newaxis]\n",
    "    cm[np.isnan(cm)] = 0.0\n",
    "\n",
    "    plt.figure(figsize=(8, 6))\n",
    "    plt.imshow(cm, interpolation='nearest', cmap=cmap)\n",
    "    plt.title(title)\n",
    "    plt.colorbar()\n",
    "\n",
    "    if target_names is not None:\n",
    "        tick_marks = np.arange(len(target_names))\n",
    "        plt.xticks(tick_marks, target_names, rotation=45)\n",
    "        plt.yticks(tick_marks, target_names)\n",
    "\n",
    "    thresh = cm.max() / 1.5 if normalize else cm.max() / 2\n",
    "    for i, j in itertools.product(range(cm.shape[0]), range(cm.shape[1])):\n",
    "        if normalize:\n",
    "            plt.text(j, i, \"{:0.2f}\".format(cm[i, j]),\n",
    "                     horizontalalignment=\"center\",\n",
    "                     color=\"white\" if cm[i, j] > thresh else \"black\")\n",
    "        else:\n",
    "            plt.text(j, i, \"{:,}\".format(cm[i, j]),\n",
    "                     horizontalalignment=\"center\",\n",
    "                     color=\"white\" if cm[i, j] > thresh else \"black\")\n",
    "\n",
    "\n",
    "    plt.ylabel('True label')\n",
    "    plt.xlim(-1, len(target_names))\n",
    "    plt.ylim(-1, len(target_names))\n",
    "    plt.xlabel('Predicted label\\naccuracy={:0.4f}; misclass={:0.4f}'.format(accuracy, misclass))\n",
    "    plt.tight_layout()"
   ]
  },
  {
   "cell_type": "code",
   "execution_count": 35,
   "metadata": {},
   "outputs": [],
   "source": [
    "true_ids_testing = np.array(true_ids_testing)\n",
    "pred_ids_testing = np.array(pred_ids_testing)\n",
    "msk = (true_ids_testing!=0) & (pred_ids_testing!=0)"
   ]
  },
  {
   "cell_type": "code",
   "execution_count": 36,
   "metadata": {},
   "outputs": [],
   "source": [
    "cm = confusion_matrix(true_ids_testing[msk], pred_ids_testing[msk], range(1,len(class_labels)))"
   ]
  },
  {
   "cell_type": "code",
   "execution_count": 37,
   "metadata": {},
   "outputs": [
    {
     "data": {
      "image/png": "[encoded data removed]",
      "text/plain": [
       "<Figure size 576x432 with 2 Axes>"
      ]
     },
     "metadata": {
      "needs_background": "light"
     },
     "output_type": "display_data"
    }
   ],
   "source": [
    "plot_confusion_matrix(cm, class_labels[1:], normalize=True)"
   ]
  },
  {
   "cell_type": "code",
   "execution_count": null,
   "metadata": {},
   "outputs": [],
   "source": []
  }
 ],
 "metadata": {
  "kernelspec": {
   "display_name": "Python 3",
   "language": "python",
   "name": "python3"
  },
  "language_info": {
   "codemirror_mode": {
    "name": "ipython",
    "version": 3
   },
   "file_extension": ".py",
   "mimetype": "text/x-python",
   "name": "python",
   "nbconvert_exporter": "python",
   "pygments_lexer": "ipython3",
   "version": "3.6.9"
  }
 },
 "nbformat": 4,
 "nbformat_minor": 2
}
