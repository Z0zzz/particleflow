{
 "cells": [
  {
   "cell_type": "code",
   "execution_count": null,
   "metadata": {},
   "outputs": [],
   "source": [
    "import scipy\n",
    "from matplotlib.colors import LogNorm\n",
    "import networkx\n",
    "import sklearn\n",
    "import sklearn.cluster"
   ]
  },
  {
   "cell_type": "code",
   "execution_count": null,
   "metadata": {},
   "outputs": [],
   "source": [
    "import json\n",
    "import matplotlib.pyplot as plt\n",
    "import sys\n",
    "\n",
    "import numpy as np\n",
    "import sklearn\n",
    "import keras\n",
    "\n",
    "import os\n",
    "os.chdir(\"..\")\n",
    "\n",
    "sys.path += [\"test\"]\n",
    "from train_clustering import load_element_pairs, fill_target_matrix, fill_elem_pairs"
   ]
  },
  {
   "cell_type": "code",
   "execution_count": null,
   "metadata": {},
   "outputs": [],
   "source": [
    "training_info = json.load(open(\"clustering.json\"))"
   ]
  },
  {
   "cell_type": "code",
   "execution_count": null,
   "metadata": {},
   "outputs": [],
   "source": [
    "plt.title(\"Edge classifier\")\n",
    "plt.plot(training_info[\"loss\"])\n",
    "plt.plot(training_info[\"val_loss\"])\n",
    "plt.xlabel(\"epoch\")"
   ]
  },
  {
   "cell_type": "code",
   "execution_count": null,
   "metadata": {},
   "outputs": [],
   "source": [
    "fn = \"data/TTbar/191009_155100/step3_AOD_{0}_ev{1}.npz\".format(1, 0)\n",
    "data = np.load(fn)\n",
    "els = data[\"elements\"]\n",
    "els_blid = data[\"element_block_id\"]\n",
    "\n",
    "fi = open(fn.replace(\"ev\", \"dist\"), \"rb\")\n",
    "dm = scipy.sparse.load_npz(fi).todense()\n",
    "\n",
    "#Create the matrix of elements thar are connected according to the miniblock id\n",
    "target_matrix = np.zeros((len(els_blid), len(els_blid)), dtype=np.int32)\n",
    "fill_target_matrix(target_matrix, els_blid)"
   ]
  },
  {
   "cell_type": "code",
   "execution_count": null,
   "metadata": {},
   "outputs": [],
   "source": [
    "g = networkx.from_numpy_matrix(dm)"
   ]
  },
  {
   "cell_type": "code",
   "execution_count": null,
   "metadata": {},
   "outputs": [],
   "source": [
    "plt.figure(figsize=(5,5))\n",
    "ax = plt.axes()\n",
    "networkx.draw(\n",
    "    g,\n",
    "    pos=[(els[i, 2], els[i, 3]) for i in range(len(els))],\n",
    "    node_size=1, axes=ax, alpha=0.2, edge_color=\"grey\", edgelist=[])\n",
    "plt.axis('on')\n",
    "plt.xlabel(\"$\\eta$\")\n",
    "plt.ylabel(\"$\\phi$\")"
   ]
  },
  {
   "cell_type": "code",
   "execution_count": null,
   "metadata": {},
   "outputs": [],
   "source": [
    "plt.figure(figsize=(5,5))\n",
    "ax = plt.axes()\n",
    "networkx.draw(\n",
    "    g,\n",
    "    pos=[(els[i, 2], els[i, 3]) for i in range(len(els))],\n",
    "    node_size=1, axes=ax, alpha=0.2, edge_color=\"grey\", edgelist=list(g.edges)[:200])\n",
    "plt.axis('on')\n",
    "plt.title(\"{0} elements,  200 / {1} edges\".format(len(g.edges), len(g.edges)))\n",
    "plt.xlabel(\"$\\eta$\")\n",
    "plt.ylabel(\"$\\phi$\")"
   ]
  },
  {
   "cell_type": "code",
   "execution_count": null,
   "metadata": {
    "scrolled": false
   },
   "outputs": [],
   "source": [
    "all_elem_pairs_X = []\n",
    "all_dms = []\n",
    "all_blockids_true = [] \n",
    "all_elem_pairs_y = []\n",
    "\n",
    "for i in range(500):\n",
    "    for j in range(6,7):\n",
    "        fn = \"data/TTbar/191009_155100/step3_AOD_{1}_ev{0}.npz\".format(i, j)\n",
    "        all_blockids_true += [np.load(open(fn, \"rb\"))[\"element_block_id\"]]\n",
    "        \n",
    "        print(\"Loading {0}\".format(fn))\n",
    "        elem_pairs_X, elem_pairs_y = load_element_pairs(fn)\n",
    "        all_elem_pairs_X += [elem_pairs_X]\n",
    "        all_elem_pairs_y += [elem_pairs_y]\n",
    "        \n",
    "        fi = open(fn.replace(\"ev\", \"dist\"), \"rb\")\n",
    "        dm = scipy.sparse.load_npz(fi).todense()\n",
    "        all_dms += [dm]"
   ]
  },
  {
   "cell_type": "code",
   "execution_count": null,
   "metadata": {},
   "outputs": [],
   "source": [
    "elem_pairs_X = np.vstack(all_elem_pairs_X)\n",
    "elem_pairs_y = np.vstack(all_elem_pairs_y)"
   ]
  },
  {
   "cell_type": "code",
   "execution_count": null,
   "metadata": {},
   "outputs": [],
   "source": [
    "from collections import Counter"
   ]
  },
  {
   "cell_type": "code",
   "execution_count": null,
   "metadata": {},
   "outputs": [],
   "source": [
    "model = keras.models.load_model(\"clustering.h5\")"
   ]
  },
  {
   "cell_type": "code",
   "execution_count": null,
   "metadata": {},
   "outputs": [],
   "source": [
    "pp = model.predict(elem_pairs_X, batch_size=10000)"
   ]
  },
  {
   "cell_type": "code",
   "execution_count": null,
   "metadata": {},
   "outputs": [],
   "source": [
    "from sklearn.linear_model import LogisticRegression\n",
    "t0 = 5\n",
    "t1 = 1\n",
    "sel = (elem_pairs_X[:, 0]==t0) & (elem_pairs_X[:, 1]==t1)\n",
    "\n",
    "dumdum = LogisticRegression(solver=\"lbfgs\")\n",
    "dumdum.fit(elem_pairs_X[sel], elem_pairs_y[sel, 0])"
   ]
  },
  {
   "cell_type": "code",
   "execution_count": null,
   "metadata": {},
   "outputs": [],
   "source": [
    "r = sklearn.metrics.roc_curve(elem_pairs_y[sel, 0], pp[sel])\n",
    "r2 = sklearn.metrics.roc_curve(elem_pairs_y[sel, 0], 1.0 - elem_pairs_X[sel, 2])"
   ]
  },
  {
   "cell_type": "code",
   "execution_count": null,
   "metadata": {},
   "outputs": [],
   "source": [
    "threshold = 0.5\n",
    "idx = len(r2) - np.searchsorted(r[2][::-1], threshold)"
   ]
  },
  {
   "cell_type": "code",
   "execution_count": null,
   "metadata": {},
   "outputs": [],
   "source": [
    "plt.plot(r[2], r[0], label=\"edge FPR\")\n",
    "plt.plot(r[2], r[1], label=\"edge TPR\")\n",
    "plt.xlim(0,1)\n",
    "plt.legend()\n",
    "plt.ylabel(\"rate\")\n",
    "plt.xlabel(\"threshold\")\n",
    "plt.title(\"Element {0}<->{1} linking\".format(t0, t1))"
   ]
  },
  {
   "cell_type": "code",
   "execution_count": null,
   "metadata": {},
   "outputs": [],
   "source": [
    "plt.figure(figsize=(5,5))\n",
    "plt.plot(r[0], r[1], label=\"simple feedforward DNN\")\n",
    "plt.plot(r2[0], r2[1], color=\"black\", ls=\"--\", label=\"logistic regression\")\n",
    "plt.title(\"Element {0}<->{1} linking\".format(t0, t1))\n",
    "plt.xlabel(\"edge FPR\")\n",
    "plt.ylabel(\"edge TPR\")\n",
    "plt.xlim(0,1)\n",
    "plt.ylim(0,1)"
   ]
  },
  {
   "cell_type": "code",
   "execution_count": null,
   "metadata": {},
   "outputs": [],
   "source": [
    "pp"
   ]
  },
  {
   "cell_type": "code",
   "execution_count": null,
   "metadata": {},
   "outputs": [],
   "source": [
    "elem_pairs_X[0]"
   ]
  },
  {
   "cell_type": "code",
   "execution_count": null,
   "metadata": {},
   "outputs": [],
   "source": [
    "import numba\n",
    "@numba.njit\n",
    "def pred_to_adj_matrix(nelems, pred, dm, adj_matrix):\n",
    "    n = 0\n",
    "    for i in range(nelems):\n",
    "        for j in range(i+1, nelems):\n",
    "            assert(n <= len(pred))\n",
    "            if dm[i,j] > 0:\n",
    "                adj_matrix[i,j] = pred[n, 0]\n",
    "            n += 1"
   ]
  },
  {
   "cell_type": "code",
   "execution_count": null,
   "metadata": {},
   "outputs": [],
   "source": [
    "def predict_clustering(fn):\n",
    "    fi = open(fn, \"rb\")\n",
    "    data = np.load(fi)\n",
    "    els = data[\"elements\"]\n",
    "    els_blid = data[\"element_block_id\"]\n",
    "    nelem = len(els)\n",
    "\n",
    "    #Load the distance matrix\n",
    "    fi = open(fn.replace(\"ev\", \"dist\"), \"rb\")\n",
    "    dm = scipy.sparse.load_npz(fi).todense()\n",
    "  \n",
    "    print(els.shape, dm.shape)\n",
    "    return els, dm\n",
    "#     elem_pairs_X, elem_pairs_y = load_element_pairs(fn)\n",
    "#     pp = model.predict(elem_pairs_X)\n",
    "    \n",
    "#     adj_matrix = np.zeros((nelem, nelem), dtype=np.float32)\n",
    "#     pred_to_adj_matrix(nelem, pp, dm, adj_matrix)\n",
    "#     return adj_matrix"
   ]
  },
  {
   "cell_type": "code",
   "execution_count": null,
   "metadata": {},
   "outputs": [],
   "source": [
    "fn"
   ]
  },
  {
   "cell_type": "code",
   "execution_count": null,
   "metadata": {},
   "outputs": [],
   "source": [
    "els, dm = predict_clustering('data/TTbar/191009_155100/step3_AOD_7_ev0.npz')"
   ]
  },
  {
   "cell_type": "code",
   "execution_count": null,
   "metadata": {},
   "outputs": [],
   "source": [
    "@numba.njit\n",
    "def set_triu(i1, i2, vec, mat):\n",
    "    for i in range(len(i1)):\n",
    "        mat[i1[i], i2[i]] = vec[i]"
   ]
  },
  {
   "cell_type": "code",
   "execution_count": null,
   "metadata": {},
   "outputs": [],
   "source": [
    "i1, i2 = np.triu_indices(len(els))\n",
    "dmv = np.array(dm[i1, i2])[0, :]\n",
    "vec = np.vstack([els[i1, 0], els[i2, 0], dmv]).T\n",
    "p2 = model.predict_proba(vec, batch_size=100000)\n",
    "p2[dmv==0]=0\n",
    "\n",
    "mat = np.zeros((len(els), len(els)))\n",
    "set_triu(i1, i2, p2[:, 0], mat)"
   ]
  },
  {
   "cell_type": "code",
   "execution_count": null,
   "metadata": {},
   "outputs": [],
   "source": [
    "g1 = networkx.from_numpy_matrix(dm)\n",
    "g2 = networkx.from_numpy_matrix(mat>0.5)"
   ]
  },
  {
   "cell_type": "code",
   "execution_count": null,
   "metadata": {},
   "outputs": [],
   "source": [
    "len(list(networkx.connected_component_subgraphs(g1)))"
   ]
  },
  {
   "cell_type": "code",
   "execution_count": null,
   "metadata": {},
   "outputs": [],
   "source": [
    "len(list(networkx.connected_component_subgraphs(g2)))"
   ]
  },
  {
   "cell_type": "code",
   "execution_count": null,
   "metadata": {},
   "outputs": [],
   "source": [
    "sklearn.metrics"
   ]
  }
 ],
 "metadata": {
  "kernelspec": {
   "display_name": "Python 3",
   "language": "python",
   "name": "python3"
  },
  "language_info": {
   "codemirror_mode": {
    "name": "ipython",
    "version": 3
   },
   "file_extension": ".py",
   "mimetype": "text/x-python",
   "name": "python",
   "nbconvert_exporter": "python",
   "pygments_lexer": "ipython3",
   "version": "3.6.9"
  }
 },
 "nbformat": 4,
 "nbformat_minor": 2
}
