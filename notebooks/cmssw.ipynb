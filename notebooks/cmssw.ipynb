{
 "cells": [
  {
   "cell_type": "code",
   "execution_count": null,
   "id": "cooperative-purpose",
   "metadata": {},
   "outputs": [],
   "source": [
    "import pickle\n",
    "import numpy as np\n",
    "import mplhep\n",
    "import awkward\n",
    "import matplotlib.pyplot as plt"
   ]
  },
  {
   "cell_type": "code",
   "execution_count": null,
   "id": "architectural-coordinator",
   "metadata": {},
   "outputs": [],
   "source": [
    "def cms_label(x0=0.12, x1=0.23, x2=0.67, y=0.90):\n",
    "    plt.figtext(x0, y,'CMS',fontweight='bold', wrap=True, horizontalalignment='left', fontsize=12)\n",
    "    plt.figtext(x1, y,'Simulation Preliminary', style='italic', wrap=True, horizontalalignment='left', fontsize=10)\n",
    "    plt.figtext(x2, y,'Run 3 (14 TeV)',  wrap=True, horizontalalignment='left', fontsize=10)"
   ]
  },
  {
   "cell_type": "code",
   "execution_count": null,
   "id": "handled-transparency",
   "metadata": {},
   "outputs": [],
   "source": [
    "data_mlpf = awkward.Array(pickle.load(open(\"/home/joosep/reco/mlpf/CMSSW_11_3_0_pre2/11834.13/out.pkl\", \"rb\")))\n",
    "data_baseline = awkward.Array(pickle.load(open(\"/home/joosep/reco/mlpf/CMSSW_11_3_0_pre2/11834.13_baseline/out.pkl\", \"rb\")))"
   ]
  },
  {
   "cell_type": "code",
   "execution_count": null,
   "id": "speaking-contents",
   "metadata": {},
   "outputs": [],
   "source": [
    "plt.figure(figsize=(5, 5))\n",
    "\n",
    "bins = np.linspace(0, 100, 41)\n",
    "plt.hist(awkward.flatten(data_baseline[\"ak4PFJetsCHS\"][\"pt\"]), bins=bins, histtype=\"step\", lw=2, label=\"PF\");\n",
    "plt.hist(awkward.flatten(data_mlpf[\"ak4PFJetsCHS\"][\"pt\"]), bins=bins, histtype=\"step\", lw=2, label=\"MLPF\");\n",
    "plt.yscale(\"log\")\n",
    "cms_label()\n",
    "plt.xlabel(\"ak4PFJetsCHS $p_T$\")\n",
    "plt.ylabel(\"Number of jets\")\n",
    "plt.legend(loc=\"best\")\n",
    "\n",
    "plt.savefig(\"ak4jet_pt.pdf\", bbox_inches=\"tight\")"
   ]
  },
  {
   "cell_type": "code",
   "execution_count": null,
   "id": "nonprofit-polish",
   "metadata": {},
   "outputs": [],
   "source": [
    "plt.figure(figsize=(5, 5))\n",
    "\n",
    "bins = np.linspace(-6, 6, 41)\n",
    "plt.hist(awkward.flatten(data_baseline[\"ak4PFJetsCHS\"][\"eta\"]), bins=bins, histtype=\"step\", lw=2, label=\"PF\");\n",
    "plt.hist(awkward.flatten(data_mlpf[\"ak4PFJetsCHS\"][\"eta\"]), bins=bins, histtype=\"step\", lw=2, label=\"MLPF\");\n",
    "#plt.yscale(\"log\")\n",
    "cms_label()\n",
    "plt.xlabel(\"ak4PFJetsCHS $\\eta$\")\n",
    "plt.ylabel(\"Number of jets\")\n",
    "plt.legend(loc=\"best\")\n",
    "\n",
    "plt.savefig(\"ak4jet_eta.pdf\", bbox_inches=\"tight\")"
   ]
  },
  {
   "cell_type": "code",
   "execution_count": null,
   "id": "romantic-disorder",
   "metadata": {},
   "outputs": [],
   "source": [
    "iev = 0"
   ]
  },
  {
   "cell_type": "code",
   "execution_count": null,
   "id": "photographic-windows",
   "metadata": {},
   "outputs": [],
   "source": [
    "pt_0 = data_mlpf[\"particleFlow\"][\"pt\"][iev]\n",
    "energy_0 = data_mlpf[\"particleFlow\"][\"energy\"][iev]\n",
    "eta_0 = data_mlpf[\"particleFlow\"][\"eta\"][iev]\n",
    "phi_0 = data_mlpf[\"particleFlow\"][\"phi\"][iev]\n",
    "pdgid_0 = np.abs(data_mlpf[\"particleFlow\"][\"pdgId\"][iev])"
   ]
  },
  {
   "cell_type": "code",
   "execution_count": null,
   "id": "cardiovascular-mount",
   "metadata": {},
   "outputs": [],
   "source": [
    "pt_1 = data_baseline[\"particleFlow\"][\"pt\"][iev]\n",
    "energy_1 = data_baseline[\"particleFlow\"][\"energy\"][iev]\n",
    "eta_1 = data_baseline[\"particleFlow\"][\"eta\"][iev]\n",
    "phi_1 = data_baseline[\"particleFlow\"][\"phi\"][iev]\n",
    "pdgid_1 = np.abs(data_baseline[\"particleFlow\"][\"pdgId\"][iev])"
   ]
  },
  {
   "cell_type": "code",
   "execution_count": null,
   "id": "assisted-forty",
   "metadata": {},
   "outputs": [],
   "source": [
    "color_map = {\n",
    "    1: \"red\",\n",
    "    2: \"blue\",\n",
    "    11: \"orange\",\n",
    "    22: \"cyan\",\n",
    "    13: \"purple\",\n",
    "    130: \"green\",\n",
    "    211: \"black\"\n",
    "}"
   ]
  },
  {
   "cell_type": "code",
   "execution_count": null,
   "id": "going-intelligence",
   "metadata": {},
   "outputs": [],
   "source": [
    "plt.figure(figsize=(5, 5))\n",
    "plt.scatter(eta_0, phi_0, marker=\".\", s=energy_0, c=[color_map[p] for p in pdgid_0], alpha=0.6)\n",
    "cms_label()\n",
    "plt.xlim(-6,6)\n",
    "plt.xlabel(\"$\\eta$\")\n",
    "plt.ylabel(\"$\\phi$\")\n",
    "plt.title(\"MLPF (trained on PF)\", y=1.05)\n",
    "plt.savefig(\"event_mlpf.pdf\", bbox_inches=\"tight\")"
   ]
  },
  {
   "cell_type": "code",
   "execution_count": null,
   "id": "comfortable-albert",
   "metadata": {},
   "outputs": [],
   "source": [
    "plt.figure(figsize=(5, 5))\n",
    "plt.scatter(eta_1, phi_1, marker=\".\", s=energy_1, c=[color_map[p] for p in pdgid_1], alpha=0.6)\n",
    "cms_label()\n",
    "plt.xlim(-6,6)\n",
    "plt.xlabel(\"$\\eta$\")\n",
    "plt.ylabel(\"$\\phi$\")\n",
    "plt.title(\"Standard PF\", y=1.05)\n",
    "plt.savefig(\"event_pf.pdf\", bbox_inches=\"tight\")"
   ]
  },
  {
   "cell_type": "code",
   "execution_count": null,
   "id": "limiting-permit",
   "metadata": {},
   "outputs": [],
   "source": []
  }
 ],
 "metadata": {
  "kernelspec": {
   "display_name": "Python 3",
   "language": "python",
   "name": "python3"
  },
  "language_info": {
   "codemirror_mode": {
    "name": "ipython",
    "version": 3
   },
   "file_extension": ".py",
   "mimetype": "text/x-python",
   "name": "python",
   "nbconvert_exporter": "python",
   "pygments_lexer": "ipython3",
   "version": "3.8.5"
  }
 },
 "nbformat": 4,
 "nbformat_minor": 5
}
