{
 "cells": [
  {
   "cell_type": "code",
   "execution_count": null,
   "id": "improving-consortium",
   "metadata": {},
   "outputs": [],
   "source": [
    "import pandas as pd\n",
    "import json\n",
    "import glob\n",
    "import matplotlib.pyplot as plt\n",
    "import numpy as np\n",
    "\n",
    "import sklearn\n",
    "import sklearn.metrics\n",
    "import matplotlib\n",
    "import scipy"
   ]
  },
  {
   "cell_type": "code",
   "execution_count": null,
   "id": "improved-response",
   "metadata": {},
   "outputs": [],
   "source": [
    "!ls ../experiments"
   ]
  },
  {
   "cell_type": "code",
   "execution_count": null,
   "id": "employed-offense",
   "metadata": {},
   "outputs": [],
   "source": [
    "def flatten(arr):\n",
    "    return arr.reshape((arr.shape[0]*arr.shape[1], arr.shape[2]))"
   ]
  },
  {
   "cell_type": "code",
   "execution_count": null,
   "id": "generous-shield",
   "metadata": {},
   "outputs": [],
   "source": [
    "dd = np.load(\"../experiments/cms-transformer-skipconn-8ce72f45/pred.npz\")\n",
    "X = dd[\"X\"]\n",
    "ygen = dd[\"ygen\"]\n",
    "ycand = dd[\"ycand\"]\n",
    "ypred = dd[\"ypred\"]\n",
    "ypred_raw = dd[\"ypred_raw\"]\n",
    "\n",
    "X_f = X.reshape((X.shape[0]*X.shape[1], X.shape[2]))\n",
    "ygen_f = ygen.reshape((ygen.shape[0]*ygen.shape[1], ygen.shape[2]))\n",
    "ycand_f = ycand.reshape((ycand.shape[0]*ycand.shape[1], ycand.shape[2]))\n",
    "ypred_f = ypred.reshape((ypred.shape[0]*ypred.shape[1], ypred.shape[2]))\n",
    "ypred_raw_f = ypred_raw.reshape((ypred_raw.shape[0]*ypred_raw.shape[1], ypred_raw.shape[2]))"
   ]
  },
  {
   "cell_type": "code",
   "execution_count": null,
   "id": "appointed-argument",
   "metadata": {},
   "outputs": [],
   "source": [
    "ypred_raw2 = ypred_raw*(ypred_raw>0.0)\n",
    "ypred_ids = np.argmax(ypred_raw2, axis=-1)"
   ]
  },
  {
   "cell_type": "code",
   "execution_count": null,
   "id": "solid-trout",
   "metadata": {},
   "outputs": [],
   "source": [
    "msk_X = X_f[:, 0]!=0"
   ]
  },
  {
   "cell_type": "code",
   "execution_count": null,
   "id": "conceptual-martial",
   "metadata": {},
   "outputs": [],
   "source": [
    "np.unique(ycand_f[msk_X, 0], return_counts=True)"
   ]
  },
  {
   "cell_type": "code",
   "execution_count": null,
   "id": "artistic-mention",
   "metadata": {},
   "outputs": [],
   "source": [
    "np.unique(ypred_f[msk_X, 0], return_counts=True)"
   ]
  },
  {
   "cell_type": "code",
   "execution_count": null,
   "id": "sunset-weight",
   "metadata": {},
   "outputs": [],
   "source": [
    "for icls in range(8):\n",
    "    npred1 = np.sum(ypred[:, :, 0] == icls, axis=1)\n",
    "    npred2 = np.sum(ypred_ids == icls, axis=1)\n",
    "    ngen = np.sum(ygen[:, :, 0] == icls, axis=1)\n",
    "\n",
    "    a = min(np.min(npred1), np.min(npred2), np.min(ngen))\n",
    "    b = max(np.max(npred1), np.min(npred2), np.max(ngen))\n",
    "\n",
    "    plt.figure(figsize=(6,6))\n",
    "    plt.title(\"CLS {}\".format(icls))\n",
    "    plt.scatter(ngen, npred1)\n",
    "    plt.scatter(ngen, npred2)\n",
    "    plt.xlim(a, b)\n",
    "    plt.ylim(a, b)\n",
    "    plt.plot([a, b], [a, b], color=\"black\")"
   ]
  },
  {
   "cell_type": "code",
   "execution_count": null,
   "id": "parliamentary-somerset",
   "metadata": {},
   "outputs": [],
   "source": [
    "ypred_ids_f = ypred_ids.flatten()"
   ]
  },
  {
   "cell_type": "code",
   "execution_count": null,
   "id": "clean-pasta",
   "metadata": {},
   "outputs": [],
   "source": [
    "cm = sklearn.metrics.confusion_matrix(\n",
    "    ycand_f[msk_X, 0],\n",
    "    ypred_f[msk_X, 0],\n",
    "    labels=range(8),\n",
    "    normalize=\"true\"\n",
    ")"
   ]
  },
  {
   "cell_type": "code",
   "execution_count": null,
   "id": "trained-criterion",
   "metadata": {},
   "outputs": [],
   "source": [
    "plt.figure(figsize=(8, 8))\n",
    "plt.imshow(cm, cmap=\"Blues\")\n",
    "plt.colorbar()"
   ]
  },
  {
   "cell_type": "code",
   "execution_count": null,
   "id": "ignored-province",
   "metadata": {},
   "outputs": [],
   "source": [
    "pid = 2\n",
    "msk = (ygen_f[:, 0]==pid) & (ycand_f[:, 0]==pid) & (ypred_ids_f==pid)"
   ]
  },
  {
   "cell_type": "code",
   "execution_count": null,
   "id": "dress-bankruptcy",
   "metadata": {},
   "outputs": [],
   "source": [
    "b = np.linspace(0, 10, 100)\n",
    "plt.hist(ygen_f[msk, 2], bins=b, histtype=\"step\", lw=2, label=\"gen\");\n",
    "plt.hist(ycand_f[msk, 2], bins=b, histtype=\"step\", lw=2, label=\"cand\");\n",
    "plt.hist(ypred_f[msk, 2], bins=b, histtype=\"step\", lw=2, label=\"pred\");\n",
    "plt.legend(loc=\"best\")"
   ]
  },
  {
   "cell_type": "code",
   "execution_count": null,
   "id": "crucial-memorabilia",
   "metadata": {},
   "outputs": [],
   "source": [
    "b = np.linspace(-5, 5, 100)\n",
    "plt.hist(ygen_f[msk, 3], bins=b, histtype=\"step\", lw=2, label=\"gen\");\n",
    "plt.hist(ycand_f[msk, 3], bins=b, histtype=\"step\", lw=2, label=\"cand\");\n",
    "plt.hist(ypred_f[msk, 3], bins=b, histtype=\"step\", lw=2, label=\"pred\");\n",
    "plt.legend(loc=\"best\")"
   ]
  },
  {
   "cell_type": "code",
   "execution_count": null,
   "id": "falling-continent",
   "metadata": {},
   "outputs": [],
   "source": [
    "b = np.linspace(0, 50, 100)\n",
    "plt.hist(ygen_f[msk, 6], bins=b, histtype=\"step\", lw=2, label=\"gen\");\n",
    "plt.hist(ycand_f[msk, 6], bins=b, histtype=\"step\", lw=2, label=\"cand\");\n",
    "plt.hist(ypred_f[msk, 6], bins=b, histtype=\"step\", lw=2, label=\"pred\");\n",
    "plt.legend(loc=\"best\")\n",
    "plt.yscale(\"log\")"
   ]
  },
  {
   "cell_type": "code",
   "execution_count": null,
   "id": "dramatic-translation",
   "metadata": {},
   "outputs": [],
   "source": [
    "for pid in [1,2,3,4]:\n",
    "    \n",
    "    msk = (ygen_f[:, 0]==pid) & (ycand_f[:, 0]==pid) & (ypred_f[:, 0]==pid)\n",
    "    \n",
    "    for var in [2,3,4,5,6]:\n",
    "        a = ygen_f[msk, var]\n",
    "        b = ycand_f[msk, var]\n",
    "        c = ypred_f[msk, var]\n",
    "\n",
    "        plt.figure(figsize=(4,4))\n",
    "        plt.title(\"pid={} var={}\".format(pid, var))\n",
    "        r1 = (b-a)/a\n",
    "        r2 = (c-a)/a\n",
    "        \n",
    "        msk1 = np.abs(r1)<10\n",
    "        mean1 = np.mean(r1[msk1])\n",
    "        std1 = np.std(r1[msk1])\n",
    "    \n",
    "        msk2 = np.abs(r2)<10\n",
    "        mean2 = np.mean(r2[msk2])\n",
    "        std2 = np.std(r2[msk2])\n",
    "        \n",
    "        plt.hist(r1, bins=np.linspace(-2, 2, 100),\n",
    "            histtype=\"step\", label=\"PF m={:.2f} s={:.2f}\".format(mean1, std1));\n",
    "        plt.hist((c-a)/a, bins=np.linspace(-2, 2, 100),\n",
    "            histtype=\"step\", label=\"MLPF m={:.2f} s={:.2f}\".format(mean2, std2));\n",
    "\n",
    "        plt.legend(loc=\"best\")"
   ]
  }
 ],
 "metadata": {
  "kernelspec": {
   "display_name": "Python 3",
   "language": "python",
   "name": "python3"
  },
  "language_info": {
   "codemirror_mode": {
    "name": "ipython",
    "version": 3
   },
   "file_extension": ".py",
   "mimetype": "text/x-python",
   "name": "python",
   "nbconvert_exporter": "python",
   "pygments_lexer": "ipython3",
   "version": "3.8.5"
  }
 },
 "nbformat": 4,
 "nbformat_minor": 5
}
