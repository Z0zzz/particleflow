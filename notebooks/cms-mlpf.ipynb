{
 "cells": [
  {
   "cell_type": "code",
   "execution_count": null,
   "id": "improving-consortium",
   "metadata": {},
   "outputs": [],
   "source": [
    "import pandas as pd\n",
    "import json\n",
    "import glob\n",
    "import matplotlib.pyplot as plt\n",
    "import numpy as np\n",
    "\n",
    "import sklearn\n",
    "import sklearn.metrics\n",
    "import matplotlib\n",
    "import scipy"
   ]
  },
  {
   "cell_type": "code",
   "execution_count": null,
   "id": "smooth-fitting",
   "metadata": {},
   "outputs": [],
   "source": [
    "fis = glob.glob(\"experiments/cms-gnn-skipconn-cb3939ed/logs_*.json\")"
   ]
  },
  {
   "cell_type": "code",
   "execution_count": null,
   "id": "corporate-gross",
   "metadata": {},
   "outputs": [],
   "source": [
    "ds = []\n",
    "for fi in fis:\n",
    "    d = json.load(open(fi, 'r'))\n",
    "    l2_split = d.pop(\"l2_split\")\n",
    "    for i in range(len(l2_split)):\n",
    "        d[\"l2_{}\".format(i)] = l2_split[i]\n",
    "    ds.append(d)"
   ]
  },
  {
   "cell_type": "code",
   "execution_count": null,
   "id": "prescription-subject",
   "metadata": {},
   "outputs": [],
   "source": [
    "df = pd.DataFrame.from_dict(ds)\n",
    "df = df.sort_values('epoch')"
   ]
  },
  {
   "cell_type": "code",
   "execution_count": null,
   "id": "rolled-jimmy",
   "metadata": {},
   "outputs": [],
   "source": [
    "df"
   ]
  },
  {
   "cell_type": "code",
   "execution_count": null,
   "id": "waiting-authority",
   "metadata": {},
   "outputs": [],
   "source": [
    "plt.plot(df['l1'].values)"
   ]
  },
  {
   "cell_type": "code",
   "execution_count": null,
   "id": "ranging-development",
   "metadata": {},
   "outputs": [],
   "source": [
    "plt.figure(figsize=(5,5))\n",
    "plt.plot(df['l1'], df['l2'], marker=\".\")\n",
    "plt.xlabel(\"total cls loss\")\n",
    "plt.ylabel(\"total reg loss\")"
   ]
  },
  {
   "cell_type": "code",
   "execution_count": null,
   "id": "extensive-dodge",
   "metadata": {},
   "outputs": [],
   "source": [
    "plt.figure(figsize=(5,5))\n",
    "plt.plot(df['l1'], df['l3'], marker=\".\")\n",
    "plt.xlabel(\"total cls loss\")\n",
    "plt.ylabel(\"total chg loss\")"
   ]
  },
  {
   "cell_type": "code",
   "execution_count": null,
   "id": "noticed-syndicate",
   "metadata": {},
   "outputs": [],
   "source": [
    "plt.figure(figsize=(5,5))\n",
    "plt.plot(df['l2_0'], df['l2_1'], marker=\".\")"
   ]
  },
  {
   "cell_type": "code",
   "execution_count": null,
   "id": "vietnamese-skiing",
   "metadata": {},
   "outputs": [],
   "source": [
    "plt.figure(figsize=(5,5))\n",
    "plt.plot(df['l2_0'], df['l2_2'], marker=\".\")"
   ]
  },
  {
   "cell_type": "code",
   "execution_count": null,
   "id": "corresponding-relief",
   "metadata": {},
   "outputs": [],
   "source": [
    "plt.figure(figsize=(5,5))\n",
    "plt.plot(df['l2_0'], df['l2_3'], marker=\".\")"
   ]
  },
  {
   "cell_type": "code",
   "execution_count": null,
   "id": "bored-vienna",
   "metadata": {},
   "outputs": [],
   "source": [
    "plt.figure(figsize=(5,5))\n",
    "plt.plot(df['l2_0'], df['l2_4'], marker=\".\")"
   ]
  },
  {
   "cell_type": "code",
   "execution_count": null,
   "id": "average-sauce",
   "metadata": {},
   "outputs": [],
   "source": [
    "for i in range(5):\n",
    "    plt.plot(df[\"l2_{}\".format(i)].values, label=\"{}\".format(i))\n",
    "plt.legend()\n",
    "#plt.yscale(\"log\")"
   ]
  },
  {
   "cell_type": "code",
   "execution_count": null,
   "id": "competitive-driver",
   "metadata": {},
   "outputs": [],
   "source": [
    "dd = np.load(\"experiments/cms-gnn-skipconn-cb3939ed/pred.npz\")"
   ]
  },
  {
   "cell_type": "code",
   "execution_count": null,
   "id": "super-payday",
   "metadata": {},
   "outputs": [],
   "source": [
    "list(dd.keys())"
   ]
  },
  {
   "cell_type": "code",
   "execution_count": null,
   "id": "generous-shield",
   "metadata": {},
   "outputs": [],
   "source": [
    "X = dd[\"X\"]\n",
    "ygen = dd[\"ygen\"]\n",
    "ycand = dd[\"ycand\"]\n",
    "ypred = dd[\"ypred\"]\n",
    "ypred_raw = dd[\"ypred_raw\"]\n",
    "\n",
    "X_f = X.reshape((X.shape[0]*X.shape[1], X.shape[2]))\n",
    "ygen_f = ygen.reshape((ygen.shape[0]*ygen.shape[1], ygen.shape[2]))\n",
    "ycand_f = ycand.reshape((ycand.shape[0]*ycand.shape[1], ycand.shape[2]))\n",
    "ypred_f = ypred.reshape((ypred.shape[0]*ypred.shape[1], ypred.shape[2]))\n",
    "ypred_raw_f = ypred_raw.reshape((ypred_raw.shape[0]*ypred_raw.shape[1], ypred_raw.shape[2]))\n",
    "ypred_raw_f_sm = scipy.special.softmax(ypred_raw_f, axis=-1)"
   ]
  },
  {
   "cell_type": "code",
   "execution_count": null,
   "id": "generous-kennedy",
   "metadata": {},
   "outputs": [],
   "source": [
    "ypred_f[(ypred_f[:, 0]==3) & (ypred_raw_f_sm[:, 3]<0.6), 0] = 0"
   ]
  },
  {
   "cell_type": "code",
   "execution_count": null,
   "id": "golden-solomon",
   "metadata": {},
   "outputs": [],
   "source": [
    "c = np.unique(ycand_f[:, 0], return_counts=True)\n",
    "plt.pie(c[1], labels=c[0]);"
   ]
  },
  {
   "cell_type": "code",
   "execution_count": null,
   "id": "adaptive-trial",
   "metadata": {},
   "outputs": [],
   "source": [
    "plt.hist(\n",
    "    np.sum(X[:, :, 0]!=0, axis=1),\n",
    "    bins=100\n",
    ")"
   ]
  },
  {
   "cell_type": "code",
   "execution_count": null,
   "id": "informational-shooting",
   "metadata": {},
   "outputs": [],
   "source": [
    "#       NONE = 0,\n",
    "#       TRACK = 1,\n",
    "#       PS1 = 2,\n",
    "#       PS2 = 3,\n",
    "#       ECAL = 4,\n",
    "#       HCAL = 5,\n",
    "#       GSF = 6,\n",
    "#       BREM = 7,\n",
    "#       HFEM = 8,\n",
    "#       HFHAD = 9,\n",
    "#       SC = 10,\n",
    "#       HO = 11,\n",
    "#       HGCAL = 12,"
   ]
  },
  {
   "cell_type": "code",
   "execution_count": null,
   "id": "modular-punch",
   "metadata": {},
   "outputs": [],
   "source": [
    "# [0, 211, 130, 1, 2, 22, 11, 13]"
   ]
  },
  {
   "cell_type": "code",
   "execution_count": null,
   "id": "clean-pasta",
   "metadata": {},
   "outputs": [],
   "source": [
    "cm = sklearn.metrics.confusion_matrix(ycand_f[:, 0], ypred_f[:, 0], labels=range(8))"
   ]
  },
  {
   "cell_type": "code",
   "execution_count": null,
   "id": "trained-criterion",
   "metadata": {},
   "outputs": [],
   "source": [
    "plt.imshow(cm, cmap=\"Blues\", norm=matplotlib.colors.LogNorm())\n",
    "plt.colorbar()"
   ]
  },
  {
   "cell_type": "code",
   "execution_count": null,
   "id": "linear-uncertainty",
   "metadata": {},
   "outputs": [],
   "source": [
    "pid = 4\n",
    "m0 = ygen_f[:, 0] == pid\n",
    "plt.hist(ypred_raw_f_sm[m0, pid], bins=np.linspace(0,1,41), histtype=\"step\"); \n",
    "plt.hist(ypred_raw_f_sm[~m0, pid], bins=np.linspace(0,1,41), histtype=\"step\"); \n",
    "plt.yscale(\"log\")"
   ]
  },
  {
   "cell_type": "code",
   "execution_count": null,
   "id": "convenient-focus",
   "metadata": {},
   "outputs": [],
   "source": [
    "fpr, tpr, thresh = sklearn.metrics.roc_curve(m0, ypred_raw_f_sm[:, pid])"
   ]
  },
  {
   "cell_type": "code",
   "execution_count": null,
   "id": "engaged-hunter",
   "metadata": {},
   "outputs": [],
   "source": [
    "plt.plot(thresh, fpr)\n",
    "plt.plot(thresh, tpr)\n",
    "plt.yscale(\"log\")\n",
    "plt.xlim(0,1)"
   ]
  },
  {
   "cell_type": "code",
   "execution_count": null,
   "id": "stock-bachelor",
   "metadata": {},
   "outputs": [],
   "source": [
    "msk = (X_f[:, 0]==8) & (ygen_f[:, 0]!=0) & (ycand_f[:, 0]!=0)"
   ]
  },
  {
   "cell_type": "code",
   "execution_count": null,
   "id": "technical-sculpture",
   "metadata": {},
   "outputs": [],
   "source": [
    "plt.hist(ygen_f[msk, 2], bins=np.linspace(0, 5, 41), histtype=\"step\");\n",
    "plt.hist(ycand_f[msk, 2], bins=np.linspace(0, 5, 41), histtype=\"step\");\n",
    "plt.hist(ypred_f[msk, 2], bins=np.linspace(0, 5, 41), histtype=\"step\");"
   ]
  },
  {
   "cell_type": "code",
   "execution_count": null,
   "id": "fixed-chancellor",
   "metadata": {},
   "outputs": [],
   "source": [
    "c = np.unique(ygen_f[msk, 0], return_counts=True)\n",
    "plt.pie(c[1], labels=c[0]);"
   ]
  },
  {
   "cell_type": "code",
   "execution_count": null,
   "id": "instructional-table",
   "metadata": {},
   "outputs": [],
   "source": [
    "c = np.unique(ycand_f[msk, 0], return_counts=True)\n",
    "plt.pie(c[1], labels=c[0]);"
   ]
  },
  {
   "cell_type": "code",
   "execution_count": null,
   "id": "retained-yellow",
   "metadata": {},
   "outputs": [],
   "source": [
    "plt.hist(ygen_f[msk, 3], bins=np.linspace(-7, 7, 41), histtype=\"step\");\n",
    "plt.hist(ycand_f[msk, 3], bins=np.linspace(-7, 7, 41), histtype=\"step\");"
   ]
  },
  {
   "cell_type": "code",
   "execution_count": null,
   "id": "productive-possible",
   "metadata": {},
   "outputs": [],
   "source": [
    "plt.figure(figsize=(5,5))\n",
    "\n",
    "for pid in [1,2,3,4]:\n",
    "    plt.figure(figsize=(5,5))\n",
    "    plt.title(\"pid={}\".format(pid))\n",
    "    \n",
    "    a = np.sum(ygen[:, :, 0]==pid, axis=1)\n",
    "    b = np.sum(ycand[:, :, 0]==pid, axis=1)\n",
    "    c = np.sum(ypred[:, :, 0]==pid, axis=1)\n",
    "    \n",
    "    minval = min([np.min(a), np.min(b), np.min(c)])\n",
    "    maxval = max([np.max(a), np.max(b), np.max(c)])\n",
    "    \n",
    "    plt.plot([minval, maxval], [minval, maxval], ls=\"--\", color=\"black\")\n",
    "    plt.scatter(\n",
    "        b,\n",
    "        c,\n",
    "        marker=\".\", alpha=0.5\n",
    "    )\n",
    "    \n",
    "#     plt.scatter(\n",
    "#         a,\n",
    "#         b,\n",
    "#         marker=\".\", alpha=0.5\n",
    "#     )\n",
    "\n",
    "#     plt.scatter(\n",
    "#         a,\n",
    "#         c,\n",
    "#         marker=\".\", alpha=0.5\n",
    "#     )\n",
    "    \n",
    "    plt.xlim(minval, maxval)\n",
    "    plt.ylim(minval, maxval)"
   ]
  },
  {
   "cell_type": "code",
   "execution_count": null,
   "id": "ignored-province",
   "metadata": {},
   "outputs": [],
   "source": [
    "pid = 2\n",
    "msk = (ygen_f[:, 0]==pid) & (ycand_f[:, 0]==pid) & (ypred_f[:, 0]==pid)"
   ]
  },
  {
   "cell_type": "code",
   "execution_count": null,
   "id": "dress-bankruptcy",
   "metadata": {},
   "outputs": [],
   "source": [
    "b = np.linspace(0, 10, 100)\n",
    "plt.hist(ygen_f[msk, 2], bins=b, histtype=\"step\", lw=2, label=\"gen\");\n",
    "plt.hist(ycand_f[msk, 2], bins=b, histtype=\"step\", lw=2, label=\"cand\");\n",
    "plt.hist(ypred_f[msk, 2], bins=b, histtype=\"step\", lw=2, label=\"pred\");\n",
    "plt.legend(loc=\"best\")"
   ]
  },
  {
   "cell_type": "code",
   "execution_count": null,
   "id": "crucial-memorabilia",
   "metadata": {},
   "outputs": [],
   "source": [
    "b = np.linspace(-5, 5, 100)\n",
    "plt.hist(ygen_f[msk, 3], bins=b, histtype=\"step\", lw=2, label=\"gen\");\n",
    "plt.hist(ycand_f[msk, 3], bins=b, histtype=\"step\", lw=2, label=\"cand\");\n",
    "plt.hist(ypred_f[msk, 3], bins=b, histtype=\"step\", lw=2, label=\"pred\");\n",
    "plt.legend(loc=\"best\")"
   ]
  },
  {
   "cell_type": "code",
   "execution_count": null,
   "id": "falling-continent",
   "metadata": {},
   "outputs": [],
   "source": [
    "b = np.linspace(0, 50, 100)\n",
    "plt.hist(ygen_f[msk, 6], bins=b, histtype=\"step\", lw=2);\n",
    "plt.hist(ycand_f[msk, 6], bins=b, histtype=\"step\", lw=2);\n",
    "plt.hist(ypred_f[msk, 6], bins=b, histtype=\"step\", lw=2);\n",
    "plt.legend(loc=\"best\")"
   ]
  },
  {
   "cell_type": "code",
   "execution_count": null,
   "id": "dramatic-translation",
   "metadata": {},
   "outputs": [],
   "source": [
    "for pid in [1,2,3,4]:\n",
    "    \n",
    "    msk = (ygen_f[:, 0]==pid) & (ycand_f[:, 0]==pid) & (ypred_f[:, 0]==pid)\n",
    "    \n",
    "    for var in [2,3,4,5,6]:\n",
    "        a = ygen_f[msk, var]\n",
    "        b = ycand_f[msk, var]\n",
    "        c = ypred_f[msk, var]\n",
    "\n",
    "        plt.figure(figsize=(4,4))\n",
    "        plt.title(\"pid={} var={}\".format(pid, var))\n",
    "        r1 = (b-a)/a\n",
    "        r2 = (c-a)/a\n",
    "        \n",
    "        msk1 = np.abs(r1)<10\n",
    "        mean1 = np.mean(r1[msk1])\n",
    "        std1 = np.std(r1[msk1])\n",
    "    \n",
    "        msk2 = np.abs(r2)<10\n",
    "        mean2 = np.mean(r2[msk2])\n",
    "        std2 = np.std(r2[msk2])\n",
    "        \n",
    "        plt.hist(r1, bins=np.linspace(-2, 2, 100),\n",
    "            histtype=\"step\", label=\"PF m={:.2f} s={:.2f}\".format(mean1, std1));\n",
    "        plt.hist((c-a)/a, bins=np.linspace(-2, 2, 100),\n",
    "            histtype=\"step\", label=\"MLPF m={:.2f} s={:.2f}\".format(mean2, std2));\n",
    "\n",
    "        plt.legend(loc=\"best\")"
   ]
  },
  {
   "cell_type": "code",
   "execution_count": null,
   "id": "native-white",
   "metadata": {},
   "outputs": [],
   "source": []
  }
 ],
 "metadata": {
  "kernelspec": {
   "display_name": "Python 3",
   "language": "python",
   "name": "python3"
  },
  "language_info": {
   "codemirror_mode": {
    "name": "ipython",
    "version": 3
   },
   "file_extension": ".py",
   "mimetype": "text/x-python",
   "name": "python",
   "nbconvert_exporter": "python",
   "pygments_lexer": "ipython3",
   "version": "3.6.9"
  }
 },
 "nbformat": 4,
 "nbformat_minor": 5
}
