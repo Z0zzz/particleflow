{
 "cells": [
  {
   "cell_type": "code",
   "execution_count": null,
   "id": "improving-consortium",
   "metadata": {},
   "outputs": [],
   "source": [
    "import pandas as pd\n",
    "import json\n",
    "import glob\n",
    "import matplotlib.pyplot as plt\n",
    "import numpy as np\n",
    "\n",
    "import sklearn\n",
    "import sklearn.metrics\n",
    "import matplotlib\n",
    "import scipy"
   ]
  },
  {
   "cell_type": "code",
   "execution_count": null,
   "id": "improved-response",
   "metadata": {},
   "outputs": [],
   "source": [
    "!ls ../experiments"
   ]
  },
  {
   "cell_type": "code",
   "execution_count": null,
   "id": "employed-offense",
   "metadata": {},
   "outputs": [],
   "source": [
    "def flatten(arr):\n",
    "    return arr.reshape((arr.shape[0]*arr.shape[1], arr.shape[2]))"
   ]
  },
  {
   "cell_type": "code",
   "execution_count": null,
   "id": "generous-shield",
   "metadata": {},
   "outputs": [],
   "source": [
    "dd = np.load(\"../experiments/cms-gnn-skipconn-v2-adfc6adb/pred.npz\")\n",
    "X = dd[\"X\"]\n",
    "ygen = dd[\"ygen\"]\n",
    "ycand = dd[\"ycand\"]\n",
    "ypred = dd[\"ypred\"]\n",
    "ypred_raw = dd[\"ypred_raw\"]\n",
    "\n",
    "X_f = X.reshape((X.shape[0]*X.shape[1], X.shape[2]))\n",
    "ygen_f = ygen.reshape((ygen.shape[0]*ygen.shape[1], ygen.shape[2]))\n",
    "ycand_f = ycand.reshape((ycand.shape[0]*ycand.shape[1], ycand.shape[2]))\n",
    "ypred_f = ypred.reshape((ypred.shape[0]*ypred.shape[1], ypred.shape[2]))\n",
    "ypred_raw_f = ypred_raw.reshape((ypred_raw.shape[0]*ypred_raw.shape[1], ypred_raw.shape[2]))"
   ]
  },
  {
   "cell_type": "code",
   "execution_count": null,
   "id": "solid-trout",
   "metadata": {},
   "outputs": [],
   "source": [
    "msk_X = X_f[:, 0]!=0"
   ]
  },
  {
   "cell_type": "code",
   "execution_count": null,
   "id": "chinese-riding",
   "metadata": {},
   "outputs": [],
   "source": [
    "x_labels = [\n",
    "    \"none\", \"track\", \"PS1\", \"PS2\", \"ECAL\", \"HCAL\", \"GSF\", \"BREM\", \"HFEM\", \"HFHAD\", \"SC\", \"HO\"\n",
    "]\n",
    "y_labels = [\n",
    "    \"none\", \"ch.had\", \"n.had\", \"HFEM\", \"HFHAD\", \"g\", \"el\", \"mu\"\n",
    "]\n",
    "\n",
    "cm0 = sklearn.metrics.confusion_matrix(\n",
    "    X_f[msk_X, 0],\n",
    "    ycand_f[msk_X, 0],\n",
    "    labels=range(12),\n",
    "    normalize=\"pred\"\n",
    ")\n",
    "\n",
    "plt.figure(figsize=(8, 8))\n",
    "plt.imshow(cm0[:12, :8], cmap=\"Blues\")\n",
    "plt.colorbar()\n",
    "plt.yticks(ticks=range(12), labels=x_labels);\n",
    "plt.xticks(ticks=range(8), labels=y_labels);\n",
    "plt.xlabel(\"PFCandidate\")\n",
    "plt.ylabel(\"PFElement\")"
   ]
  },
  {
   "cell_type": "code",
   "execution_count": null,
   "id": "improved-floating",
   "metadata": {},
   "outputs": [],
   "source": [
    "cm1 = sklearn.metrics.confusion_matrix(\n",
    "    X_f[msk_X, 0],\n",
    "    ypred_f[msk_X, 0],\n",
    "    labels=range(12),\n",
    "    normalize=\"pred\"\n",
    ")\n",
    "\n",
    "plt.figure(figsize=(8, 8))\n",
    "plt.imshow(cm1[:12, :8], cmap=\"Blues\")\n",
    "plt.colorbar()\n",
    "plt.yticks(ticks=range(12), labels=x_labels);\n",
    "plt.xticks(ticks=range(8), labels=y_labels);\n",
    "plt.xlabel(\"PFCandidate\")\n",
    "plt.ylabel(\"PFElement\")"
   ]
  },
  {
   "cell_type": "code",
   "execution_count": null,
   "id": "sunset-weight",
   "metadata": {},
   "outputs": [],
   "source": [
    "for icls in range(8):\n",
    "    npred1 = np.sum(ypred[:, :, 0] == icls, axis=1)\n",
    "    ngen = np.sum(ygen[:, :, 0] == icls, axis=1)\n",
    "    ncand = np.sum(ycand[:, :, 0] == icls, axis=1)\n",
    "\n",
    "    a = 0.9*min(np.min(npred1), np.min(ngen), np.min(ncand))\n",
    "    b = 1.1*max(np.max(npred1), np.max(ngen), np.max(ncand))\n",
    "\n",
    "    plt.figure(figsize=(6,6))\n",
    "    plt.title(\"CLS {}\".format(icls))\n",
    "    plt.scatter(ncand, npred1)\n",
    "    plt.xlim(a, b)\n",
    "    plt.ylim(a, b)\n",
    "    plt.plot([a, b], [a, b], color=\"black\")"
   ]
  },
  {
   "cell_type": "code",
   "execution_count": null,
   "id": "clean-pasta",
   "metadata": {},
   "outputs": [],
   "source": [
    "cm_norm = sklearn.metrics.confusion_matrix(\n",
    "    ycand_f[msk_X, 0],\n",
    "    ypred_f[msk_X, 0],\n",
    "    labels=range(8),\n",
    "    normalize=\"true\"\n",
    ")\n",
    "\n",
    "cm = sklearn.metrics.confusion_matrix(\n",
    "    ycand_f[msk_X, 0],\n",
    "    ypred_f[msk_X, 0],\n",
    "    labels=range(8),\n",
    ")"
   ]
  },
  {
   "cell_type": "code",
   "execution_count": null,
   "id": "trained-criterion",
   "metadata": {},
   "outputs": [],
   "source": [
    "plt.figure(figsize=(8, 8))\n",
    "plt.imshow(cm_norm, cmap=\"Blues\")\n",
    "plt.colorbar()"
   ]
  },
  {
   "cell_type": "code",
   "execution_count": null,
   "id": "premier-haven",
   "metadata": {},
   "outputs": [],
   "source": [
    "plt.figure(figsize=(8, 8))\n",
    "plt.imshow(cm, cmap=\"Blues\")\n",
    "plt.colorbar()"
   ]
  }
 ],
 "metadata": {
  "kernelspec": {
   "display_name": "Python 3",
   "language": "python",
   "name": "python3"
  },
  "language_info": {
   "codemirror_mode": {
    "name": "ipython",
    "version": 3
   },
   "file_extension": ".py",
   "mimetype": "text/x-python",
   "name": "python",
   "nbconvert_exporter": "python",
   "pygments_lexer": "ipython3",
   "version": "3.8.5"
  }
 },
 "nbformat": 4,
 "nbformat_minor": 5
}
