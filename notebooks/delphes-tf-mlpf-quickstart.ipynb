{
 "cells": [
  {
   "cell_type": "markdown",
   "id": "incredible-pressing",
   "metadata": {},
   "source": [
    "This quickstart notebook allows to test and mess around with the MLPF GNN model in a standalone way. For actual training, we don't use a notebook, please refer to `README.md`.\n",
    "\n",
    "\n",
    "```bash\n",
    "git clone https://github.com/jpata/particleflow/\n",
    "```\n",
    "\n",
    "Run the notebook from `notebooks/delphes-tf-mlpf-quickstart.ipynb`."
   ]
  },
  {
   "cell_type": "code",
   "execution_count": null,
   "id": "comparative-stockholm",
   "metadata": {},
   "outputs": [],
   "source": [
    "import bz2, pickle\n",
    "import numpy as np\n",
    "import tensorflow as tf\n",
    "import sklearn\n",
    "import matplotlib.pyplot as plt"
   ]
  },
  {
   "cell_type": "code",
   "execution_count": null,
   "id": "limited-prisoner",
   "metadata": {},
   "outputs": [],
   "source": [
    "import sys\n",
    "sys.path += [\"../mlpf\"]"
   ]
  },
  {
   "cell_type": "code",
   "execution_count": null,
   "id": "dominant-thumb",
   "metadata": {},
   "outputs": [],
   "source": [
    "import tfmodel\n",
    "import tfmodel.model as mlpf_model\n",
    "from tfmodel.model_setup import PFNetLoss"
   ]
  },
  {
   "cell_type": "code",
   "execution_count": null,
   "id": "billion-rental",
   "metadata": {},
   "outputs": [],
   "source": [
    "!wget --no-check-certificate -nc https://zenodo.org/record/4452283/files/tev14_pythia8_ttbar_0_0.pkl.bz2"
   ]
  },
  {
   "cell_type": "code",
   "execution_count": null,
   "id": "fatal-residence",
   "metadata": {},
   "outputs": [],
   "source": [
    "data = pickle.load(bz2.BZ2File(\"tev14_pythia8_ttbar_0_0.pkl.bz2\", \"r\"))"
   ]
  },
  {
   "cell_type": "code",
   "execution_count": null,
   "id": "facial-screening",
   "metadata": {},
   "outputs": [],
   "source": [
    "#100 events in one file\n",
    "len(data[\"X\"]), len(data[\"ygen\"])"
   ]
  },
  {
   "cell_type": "code",
   "execution_count": null,
   "id": "charged-defense",
   "metadata": {},
   "outputs": [],
   "source": [
    "#Pad the number of elements to a size that's divisible by the bin size\n",
    "Xs = []\n",
    "ys = []\n",
    "\n",
    "max_size = 50*128\n",
    "for i in range(len(data[\"X\"])):\n",
    "    X = data[\"X\"][i][:max_size, :]\n",
    "    y = data[\"ygen\"][i][:max_size, :]\n",
    "    Xpad = np.pad(X, [(0, max_size - X.shape[0]), (0, 0)])\n",
    "    ypad = np.pad(y, [(0, max_size - y.shape[0]), (0, 0)])\n",
    "    Xpad = Xpad.astype(np.float32)\n",
    "    ypad = ypad.astype(np.float32)\n",
    "    Xs.append(Xpad)\n",
    "    ys.append(ypad)\n",
    "    \n",
    "X = np.stack(Xs)\n",
    "y = np.stack(ys)"
   ]
  },
  {
   "cell_type": "code",
   "execution_count": null,
   "id": "intellectual-trout",
   "metadata": {},
   "outputs": [],
   "source": [
    "#Get the first event\n",
    "input_classes = np.unique(X[:, :, 0].flatten())\n",
    "output_classes = np.unique(y[:, :, 0].flatten())"
   ]
  },
  {
   "cell_type": "code",
   "execution_count": null,
   "id": "optimum-automation",
   "metadata": {},
   "outputs": [],
   "source": [
    "input_classes"
   ]
  },
  {
   "cell_type": "code",
   "execution_count": null,
   "id": "metropolitan-burton",
   "metadata": {},
   "outputs": [],
   "source": [
    "output_classes"
   ]
  },
  {
   "cell_type": "code",
   "execution_count": null,
   "id": "systematic-aquarium",
   "metadata": {},
   "outputs": [],
   "source": [
    "#ygen = (pid, charge, momentum values)\n",
    "num_momentum_outputs = data[\"ygen\"][0].shape[1] - 2"
   ]
  },
  {
   "cell_type": "code",
   "execution_count": null,
   "id": "plain-flooring",
   "metadata": {},
   "outputs": [],
   "source": [
    "model = mlpf_model.PFNet(\n",
    "    num_input_classes=len(input_classes),\n",
    "    num_output_classes=len(output_classes),\n",
    "    num_momentum_outputs=num_momentum_outputs,\n",
    "    activation=tf.nn.elu,\n",
    "    bin_size=128,\n",
    "    num_neighbors=16\n",
    ")\n",
    "\n",
    "#combined multiclass + regression loss\n",
    "loss = PFNetLoss(\n",
    "    num_input_classes=len(input_classes),\n",
    "    num_output_classes=len(output_classes),\n",
    "    \n",
    "    #(pt, eta, sin phi, cos phi, E)\n",
    "    momentum_loss_coefs=[0.001, 1.0, 1.0, 1.0, 0.001]\n",
    ")\n",
    "\n",
    "#temporal weight mode means each input element in the event can get a separate weight\n",
    "model.compile(loss=loss.my_loss_full, optimizer=\"adam\", sample_weight_mode=\"temporal\")"
   ]
  },
  {
   "cell_type": "code",
   "execution_count": null,
   "id": "patient-rating",
   "metadata": {},
   "outputs": [],
   "source": [
    "X.shape, y.shape"
   ]
  },
  {
   "cell_type": "code",
   "execution_count": null,
   "id": "egyptian-working",
   "metadata": {},
   "outputs": [],
   "source": [
    "history = model.fit(X[:80], y[:80], validation_data=(X[80:], y[80:]), batch_size=5, epochs=10)"
   ]
  },
  {
   "cell_type": "code",
   "execution_count": null,
   "id": "shaped-bryan",
   "metadata": {},
   "outputs": [],
   "source": [
    "ypred = model.predict(X, batch_size=5)"
   ]
  },
  {
   "cell_type": "code",
   "execution_count": null,
   "id": "passive-sitting",
   "metadata": {},
   "outputs": [],
   "source": [
    "#index of the class prediction output values\n",
    "pred_id_offset = len(output_classes)\n",
    "ypred_ids_raw = ypred[:, :, :pred_id_offset]\n",
    "ypred_charge = ypred[:, :, pred_id_offset:pred_id_offset+1]\n",
    "ypred_momentum = ypred[:, :, pred_id_offset+1:]"
   ]
  },
  {
   "cell_type": "code",
   "execution_count": null,
   "id": "virtual-reflection",
   "metadata": {},
   "outputs": [],
   "source": [
    "sklearn.metrics.confusion_matrix(\n",
    "    np.argmax(ypred_ids_raw, axis=-1).flatten(),\n",
    "    y[:, :, 0].flatten(), labels=output_classes\n",
    ")"
   ]
  },
  {
   "cell_type": "code",
   "execution_count": null,
   "id": "distinct-sierra",
   "metadata": {},
   "outputs": [],
   "source": [
    "#compare the predicted and true charge\n",
    "np.stack([ypred_charge[:, :, 0].flatten(), y[:, :, 1].flatten()]).T"
   ]
  },
  {
   "cell_type": "code",
   "execution_count": null,
   "id": "split-detail",
   "metadata": {},
   "outputs": [],
   "source": [
    "#first two values in the y array are ID anc charge\n",
    "momentum_offset = 2\n",
    "\n",
    "#momentum eta component\n",
    "imomentum = 1\n",
    "plt.scatter(ypred_momentum[:, :, imomentum].flatten(), y[:, :, imomentum+momentum_offset].flatten(), marker=\".\")"
   ]
  }
 ],
 "metadata": {
  "kernelspec": {
   "display_name": "Python 3",
   "language": "python",
   "name": "python3"
  },
  "language_info": {
   "codemirror_mode": {
    "name": "ipython",
    "version": 3
   },
   "file_extension": ".py",
   "mimetype": "text/x-python",
   "name": "python",
   "nbconvert_exporter": "python",
   "pygments_lexer": "ipython3",
   "version": "3.6.9"
  }
 },
 "nbformat": 4,
 "nbformat_minor": 5
}
