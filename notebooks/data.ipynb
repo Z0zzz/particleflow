{
 "cells": [
  {
   "cell_type": "code",
   "execution_count": null,
   "metadata": {},
   "outputs": [],
   "source": [
    "import os\n",
    "os.environ[\"CUDA_VISIBLE_DEVICES\"]=\"-1\"    \n",
    "os.environ[\"KERAS_BACKEND\"] = \"tensorflow\"\n",
    "\n",
    "import uproot\n",
    "import matplotlib\n",
    "import pandas as pd\n",
    "import numpy as np\n",
    "import matplotlib.pyplot as plt\n",
    "import json\n",
    "import networkx as nx\n",
    "import copy\n",
    "import math\n",
    "import keras\n",
    "import glob\n",
    "import sys\n",
    "import datetime\n",
    "from collections import Counter\n",
    "\n",
    "import numba"
   ]
  },
  {
   "cell_type": "code",
   "execution_count": null,
   "metadata": {},
   "outputs": [],
   "source": [
    "from itertools import combinations"
   ]
  },
  {
   "cell_type": "code",
   "execution_count": null,
   "metadata": {},
   "outputs": [],
   "source": [
    "%matplotlib inline"
   ]
  },
  {
   "cell_type": "code",
   "execution_count": null,
   "metadata": {},
   "outputs": [],
   "source": [
    "@numba.njit\n",
    "def get_index_triu_vector(i, j, vecsize):\n",
    "    k = j - i - 1\n",
    "    k += i*vecsize\n",
    "    missing = int(i*(i+1)/2)\n",
    "    k -= missing\n",
    "    return k"
   ]
  },
  {
   "cell_type": "code",
   "execution_count": null,
   "metadata": {},
   "outputs": [],
   "source": [
    "#This file created using test/ntuplizer.py\n",
    "fn = \"../data/TTbar_run3/step3_ntuple_1.root\"\n",
    "fi = uproot.open(fn)\n",
    "tree = fi.get(\"pftree\")\n",
    "data = tree.arrays(tree.keys())\n",
    "data = {str(k, 'ascii'): v for k, v in data.items()}"
   ]
  },
  {
   "cell_type": "markdown",
   "metadata": {},
   "source": [
    "## Full event"
   ]
  },
  {
   "cell_type": "code",
   "execution_count": null,
   "metadata": {},
   "outputs": [],
   "source": [
    "iev=0\n",
    "\n",
    "#remove tracks for which the \n",
    "trks_outer_valid = (data[\"tracks_outer_eta\"][iev]!= 0) & (data[\"tracks_outer_phi\"][iev]!= 0)\n",
    "trks_inner_valid = (data[\"tracks_inner_eta\"][iev]!= 0) & (data[\"tracks_inner_phi\"][iev]!= 0)\n",
    "\n",
    "plt.figure(figsize=(15, 15))\n",
    "plt.scatter(data[\"clusters_eta\"][iev], data[\"clusters_phi\"][iev], marker=\"s\", label=\"cluster (N={0})\".format(len(data[\"clusters_eta\"][iev])))\n",
    "plt.scatter(data[\"tracks_eta\"][iev], data[\"tracks_phi\"][iev], marker=\"x\", label=\"general track (N={0})\".format(len(data[\"tracks_eta\"][iev])))\n",
    "plt.scatter(data[\"tracks_inner_eta\"][iev][trks_inner_valid], data[\"tracks_inner_phi\"][iev][trks_inner_valid], marker=\"x\", label=\"inner track (N={0})\".format(np.sum(trks_inner_valid)))\n",
    "plt.scatter(data[\"tracks_outer_eta\"][iev][trks_outer_valid], data[\"tracks_outer_phi\"][iev][trks_outer_valid], marker=\"x\", label=\"outer track (N={0})\".format(np.sum(trks_outer_valid)))\n",
    "plt.scatter(data[\"pfcands_eta\"][iev], data[\"pfcands_phi\"][iev], marker=\"o\", alpha=0.2, s=100, color=\"black\", label=\"candidate (N={0})\".format(len(data[\"pfcands_eta\"][iev])))\n",
    "plt.scatter(data[\"genparticles_eta\"][iev], data[\"genparticles_phi\"][iev], marker=\"o\", alpha=0.2, s=200, color=\"purple\", label=\"genparticle (N={0})\".format(len(data[\"genparticles_eta\"][iev])))\n",
    "\n",
    "plt.xlabel(\"$\\eta$\")\n",
    "plt.ylabel(\"$\\phi$\")\n",
    "plt.legend()"
   ]
  },
  {
   "cell_type": "code",
   "execution_count": null,
   "metadata": {},
   "outputs": [],
   "source": [
    "plt.figure(figsize=(5, 5))\n",
    "\n",
    "plt.title(\"ECAL surface\")\n",
    "trks_inner_valid = (data[\"tracks_inner_eta\"][iev]!= 0) & (data[\"tracks_inner_phi\"][iev]!= 0)\n",
    "clusters_ecal = data[\"clusters_type\"][iev] == 4\n",
    "\n",
    "plt.scatter(data[\"tracks_inner_eta\"][iev][trks_inner_valid], data[\"tracks_inner_phi\"][iev][trks_inner_valid], marker=\"x\", label=\"inner track (N={0})\".format(np.sum(trks_inner_valid)))\n",
    "plt.scatter(data[\"clusters_eta\"][iev][clusters_ecal], data[\"clusters_phi\"][iev][clusters_ecal], marker=\"s\", label=\"cluster (N={0})\".format(sum(clusters_ecal)), alpha=0.5)"
   ]
  },
  {
   "cell_type": "code",
   "execution_count": null,
   "metadata": {},
   "outputs": [],
   "source": [
    "plt.figure(figsize=(5, 5))\n",
    "\n",
    "plt.title(\"HCAL surface\")\n",
    "trks_outer_valid = (data[\"tracks_outer_eta\"][iev]!= 0) & (data[\"tracks_outer_phi\"][iev]!= 0)\n",
    "clusters_ecal = data[\"clusters_type\"][iev] == 5\n",
    "\n",
    "plt.scatter(data[\"tracks_outer_eta\"][iev][trks_outer_valid], data[\"tracks_outer_phi\"][iev][trks_outer_valid], marker=\"x\", label=\"inner track (N={0})\".format(np.sum(trks_inner_valid)))\n",
    "plt.scatter(data[\"clusters_eta\"][iev][clusters_ecal], data[\"clusters_phi\"][iev][clusters_ecal], marker=\"s\", label=\"cluster (N={0})\".format(sum(clusters_ecal)), alpha=0.5)"
   ]
  },
  {
   "cell_type": "markdown",
   "metadata": {},
   "source": [
    "## Detector subsystems"
   ]
  },
  {
   "cell_type": "code",
   "execution_count": null,
   "metadata": {},
   "outputs": [],
   "source": [
    "#Event number to plot\n",
    "i = 0\n",
    "\n",
    "#minimum pt of the pf candidate\n",
    "pfcand_ptcut = 2\n",
    "\n",
    "\n",
    "c_eta = data[\"clusters_eta\"]\n",
    "c_phi = data[\"clusters_phi\"]\n",
    "c_en = data[\"clusters_energy\"]\n",
    "c_type = data[\"clusters_type\"]\n",
    "\n",
    "t_o_eta = data[\"tracks_outer_eta\"]\n",
    "t_o_phi = data[\"tracks_outer_phi\"]\n",
    "t_i_eta = data[\"tracks_inner_eta\"]\n",
    "t_i_phi = data[\"tracks_inner_phi\"]\n",
    "t_q = np.sign(data[\"tracks_qoverp\"])\n",
    "t_en = 1.0/np.abs(data[\"tracks_qoverp\"])\n",
    "\n",
    "cand_eta = data[\"pfcands_eta\"]\n",
    "cand_phi = data[\"pfcands_phi\"]\n",
    "cand_en = data[\"pfcands_pt\"]\n",
    "cand_charge = data[\"pfcands_charge\"]\n",
    "\n",
    "g_eta = data[\"genparticles_eta\"]\n",
    "g_phi = data[\"genparticles_phi\"]\n",
    "g_en = data[\"genparticles_pt\"]\n",
    "\n",
    "plt.figure(figsize=(15,10))\n",
    "\n",
    "ax = plt.subplot(2,3,1)\n",
    "for ct in [2,3,4,5,8,9,11]:\n",
    "    cluster_type_sel = c_type[i]==ct\n",
    "    plt.scatter(\n",
    "        c_eta[i][cluster_type_sel],\n",
    "        c_phi[i][cluster_type_sel],\n",
    "        s=c_en[i][cluster_type_sel],\n",
    "        marker=\"s\", alpha=0.5, label=\"{0}\".format(ct))\n",
    "plt.xlabel(\"$\\eta$\")\n",
    "plt.ylabel(\"$\\phi$\")\n",
    "plt.title(\"calo clusters (N={0})\".format(len(c_eta[i])))\n",
    "plt.xlim(-5,5)\n",
    "plt.ylim(-5,5)\n",
    "#plt.legend(loc=\"best\", ncol=2)\n",
    "\n",
    "ax = plt.subplot(2,3,2)\n",
    "for track_charge in [-1, 1]:\n",
    "    track_charge_sel = t_q[i] == track_charge\n",
    "    plt.scatter(t_o_eta[i][track_charge_sel], t_o_phi[i][track_charge_sel], s=t_en[i][track_charge_sel], marker=\"o\", alpha=0.5)\n",
    "plt.xlabel(\"outer $\\eta$\")\n",
    "plt.ylabel(\"outer $\\phi$\")\n",
    "plt.title(\"tracks outer hit (N={0})\".format(len(t_o_eta[i])))\n",
    "plt.xlim(-5,5)\n",
    "plt.ylim(-5,5)\n",
    "\n",
    "ax = plt.subplot(2,3,3)\n",
    "for track_charge in [-1, 1]:\n",
    "    track_charge_sel = t_q[i] == track_charge\n",
    "    plt.scatter(t_i_eta[i][track_charge_sel], t_i_phi[i][track_charge_sel], s=t_en[i][track_charge_sel], marker=\"o\", alpha=0.5)\n",
    "plt.xlabel(\"inner $\\eta$\")\n",
    "plt.ylabel(\"inner $\\phi$\")\n",
    "plt.title(\"tracks inner hit (N={0})\".format(len(t_o_eta[i])))\n",
    "plt.xlim(-5,5)\n",
    "plt.ylim(-5,5)\n",
    "\n",
    "ax = plt.subplot(2,3,4)\n",
    "for _cand_charge in [-1, 1, 0]:\n",
    "    cand_charge_sel = cand_charge[i] == _cand_charge\n",
    "    plt.scatter(cand_eta[i][cand_charge_sel], cand_phi[i][cand_charge_sel], s=cand_en[i][cand_charge_sel], marker=\"o\", alpha=0.5)\n",
    "plt.xlabel(\"$\\eta$\")\n",
    "plt.ylabel(\"$\\phi$\")\n",
    "plt.title(\"PF candidates (N={0})\".format(len(cand_eta[i])))\n",
    "plt.xlim(-5,5)\n",
    "plt.ylim(-5,5)\n",
    "\n",
    "ax = plt.subplot(2,3,5)\n",
    "cand_pt_sel = (cand_en[i] > pfcand_ptcut)\n",
    "for _cand_charge in [-1, 1, 0]:\n",
    "    cand_charge_sel = (cand_charge[i] == _cand_charge) & (cand_pt_sel)\n",
    "    plt.scatter(\n",
    "        cand_eta[i][cand_charge_sel],\n",
    "        cand_phi[i][cand_charge_sel],\n",
    "        s=cand_en[i][cand_charge_sel], marker=\"o\", alpha=0.5)\n",
    "plt.xlabel(\"$\\eta$\")\n",
    "plt.ylabel(\"$\\phi$\")\n",
    "plt.title(\"PF candidates with $p_T > {0}$ GeV, (N={1})\".format(pfcand_ptcut, len(cand_eta[i][cand_pt_sel])))\n",
    "plt.xlim(-5,5)\n",
    "plt.ylim(-5,5)\n",
    "\n",
    "ax = plt.subplot(2,3,6)\n",
    "plt.scatter(g_eta[i], g_phi[i], s=g_en[i], marker=\"x\", alpha=0.5)\n",
    "plt.xlabel(\"$\\eta$\")\n",
    "plt.ylabel(\"$\\phi$\")\n",
    "plt.title(\"genparticles (N={0})\".format(len(g_eta[i])))\n",
    "\n",
    "plt.xlim(-5,5)\n",
    "plt.ylim(-5,5)\n",
    "plt.tight_layout()"
   ]
  },
  {
   "cell_type": "code",
   "execution_count": null,
   "metadata": {},
   "outputs": [],
   "source": [
    "from collections import Counter"
   ]
  },
  {
   "cell_type": "code",
   "execution_count": null,
   "metadata": {},
   "outputs": [],
   "source": [
    "all_blocks_counts_0 = []\n",
    "all_blocks_counts_1 = []\n",
    "all_blocks_counts_2 = []\n",
    "all_blocks_counts_3 = []\n",
    "\n",
    "for iev in range(len(data[\"clusters_iblock\"])):\n",
    "    bls = list(data[\"clusters_iblock\"][iev])\n",
    "    bls2 = list(data[\"tracks_iblock\"][iev])\n",
    "    bls_counts = sorted([v for k, v in Counter(bls+bls2).items()], reverse=True)\n",
    "    all_blocks_counts_0 += [bls_counts[0]]\n",
    "    all_blocks_counts_1 += [bls_counts[1]]\n",
    "    all_blocks_counts_2 += [bls_counts[2]]\n",
    "    all_blocks_counts_3 += [bls_counts[3]]"
   ]
  },
  {
   "cell_type": "code",
   "execution_count": null,
   "metadata": {},
   "outputs": [],
   "source": [
    "len(np.unique(list(data[\"clusters_iblock\"][iev]) + list(data[\"tracks_iblock\"][iev])))"
   ]
  },
  {
   "cell_type": "code",
   "execution_count": null,
   "metadata": {},
   "outputs": [],
   "source": [
    "bins = np.linspace(0,1.5*max(all_blocks_counts_0), 20)\n",
    "plt.hist(all_blocks_counts_0, bins=bins, histtype=\"step\", lw=2, label=\"first\")\n",
    "plt.hist(all_blocks_counts_1, bins=bins, histtype=\"step\", lw=2, label=\"second\")\n",
    "plt.hist(all_blocks_counts_2, bins=bins, histtype=\"step\", lw=2, label=\"third\")\n",
    "\n",
    "plt.yscale(\"log\")\n",
    "plt.legend(loc=\"best\")\n",
    "plt.xlabel(\"elements per block\")"
   ]
  }
 ],
 "metadata": {
  "kernelspec": {
   "display_name": "Python 3",
   "language": "python",
   "name": "python3"
  },
  "language_info": {
   "codemirror_mode": {
    "name": "ipython",
    "version": 3
   },
   "file_extension": ".py",
   "mimetype": "text/x-python",
   "name": "python",
   "nbconvert_exporter": "python",
   "pygments_lexer": "ipython3",
   "version": "3.6.9"
  }
 },
 "nbformat": 4,
 "nbformat_minor": 2
}
