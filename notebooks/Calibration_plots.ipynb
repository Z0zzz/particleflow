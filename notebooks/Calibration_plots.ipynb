{
 "cells": [
  {
   "cell_type": "code",
   "execution_count": null,
   "metadata": {},
   "outputs": [],
   "source": [
    "import numpy as np\n",
    "import matplotlib.pyplot as plt\n",
    "import wget\n",
    "import pickle as pkl\n",
    "import sklearn.calibration as calib\n",
    "from scipy.special import softmax\n",
    "import sklearn.calibration as calib"
   ]
  },
  {
   "cell_type": "code",
   "execution_count": null,
   "metadata": {},
   "outputs": [],
   "source": [
    "#Load file and assign values to dictionaries,\n",
    "fi = np.load(\"ypred.npz\")\n",
    "list(fi.keys())\n",
    "ygen = fi[\"ygen\"]\n",
    "ycand = fi[\"ycand\"]\n",
    "ypred = fi[\"ypred\"]\n",
    "ypred_raw = fi[\"ypred_raw\"]\n",
    "X=fi[\"X\"]"
   ]
  },
  {
   "cell_type": "code",
   "execution_count": null,
   "metadata": {},
   "outputs": [],
   "source": [
    "#Concatate all matricies\n",
    "conc_ygen = np.concatenate(ygen[0:ygen.shape[0]])\n",
    "conc_ypred= np.concatenate(ypred[0:ygen.shape[0]])\n",
    "#extract ids\n",
    "ygen_ids=conc_ygen[:,0]\n",
    "ypred_ids=conc_ypred[:,0]"
   ]
  },
  {
   "cell_type": "code",
   "execution_count": null,
   "metadata": {},
   "outputs": [],
   "source": [
    "#particle ID (type is)\n",
    "#0 - no particle\n",
    "#1 - charged hadron\n",
    "#2 - neutral hadron\n",
    "#3 - photon\n",
    "#4 - electron\n",
    "#5 - muon\n",
    "print(np.unique(ygen_ids, return_counts=True))\n",
    "print(ygen_ids.shape)"
   ]
  },
  {
   "cell_type": "code",
   "execution_count": null,
   "metadata": {},
   "outputs": [],
   "source": [
    "#Create binary problems\n",
    "\n",
    "#Particle(1) vs no particle(0)\n",
    "ygen_ids_b=np.where(ygen_ids>0,1,ygen_ids)\n",
    "ypred_ids_b=np.where(ypred_ids>0,1,ypred_ids)\n",
    "print(np.unique(ygen_ids, return_counts=True))\n",
    "\n",
    "#Charged hadron(1) vs else(0)\n",
    "ygen_ids_CHb=np.where(ygen_ids != 1,0,ygen_ids)\n",
    "print(np.unique(ygen_ids_CHb, return_counts=True))\n",
    "\n",
    "#Neutral hadron(1) vs else(0)\n",
    "ygen_ids_NHb=np.where(ygen_ids != 2,0,ygen_ids)\n",
    "ygen_ids_NHb=np.where(ygen_ids_NHb == 2,1,ygen_ids_NHb)\n",
    "print(np.unique(ygen_ids_NHb, return_counts=True))"
   ]
  },
  {
   "cell_type": "code",
   "execution_count": null,
   "metadata": {},
   "outputs": [],
   "source": [
    "#Concatntate and change to binary the raw prediction values using softmax function.\n",
    "ypred_raw_conc=np.concatenate(ypred_raw[0:ypred.shape[0]])\n",
    "ypred_sm=softmax(ypred_raw_conc,axis=1)"
   ]
  },
  {
   "cell_type": "code",
   "execution_count": null,
   "metadata": {},
   "outputs": [],
   "source": [
    "#converting raw probabilities into binary. y_pred: Particle(1) Vs NO Particle(0) \"ypred_PVNP\"\n",
    "n_events=len(ygen_ids)\n",
    "ypred_PVNP=[]\n",
    "for i in range(n_events):\n",
    "    n_bin=[]\n",
    "    ypred_NP_prob=ypred_sm[i][0] #probability of no particle\n",
    "    n_bin.append(ypred_NP_prob) \n",
    "    n_bin.append(1-ypred_NP_prob)\n",
    "    #print(n_bin)\n",
    "    ypred_PVNP.append(n_bin)\n",
    "#convert to array\n",
    "ypred_PVNP=np.asarray(ypred_PVNP)"
   ]
  },
  {
   "cell_type": "code",
   "execution_count": null,
   "metadata": {},
   "outputs": [],
   "source": [
    "#ypred_CH=ypred_sm[1] #Charged hadron probability\n",
    "ypred_CH=[]\n",
    "for i in range(n_events):\n",
    "    n_bin=[]\n",
    "    CH_prob = ypred_sm[i][1]\n",
    "    n_bin.append(1-CH_prob)\n",
    "    n_bin.append(CH_prob)\n",
    "    #print(n_bin)\n",
    "    ypred_CH.append(n_bin)\n",
    "#convert to array\n",
    "ypred_CH=np.asarray(ypred_CH)"
   ]
  },
  {
   "cell_type": "code",
   "execution_count": null,
   "metadata": {},
   "outputs": [],
   "source": [
    "#ypred_NH=ypred_sm[2] #Neutralhadron\n",
    "ypred_NH=[]\n",
    "for i in range(n_events):\n",
    "    n_bin=[]\n",
    "    NH_prob = ypred_sm[i][2]\n",
    "    n_bin.append(1-NH_prob)\n",
    "    n_bin.append(NH_prob)\n",
    "    #print(n_bin)\n",
    "    ypred_NH.append(n_bin)\n",
    "#convert to array\n",
    "ypred_NH=np.asarray(ypred_NH)"
   ]
  },
  {
   "cell_type": "code",
   "execution_count": null,
   "metadata": {},
   "outputs": [],
   "source": [
    "#separate probability that an particle is detected form conf\n",
    "ypred_1=ypred_PVNP[:,1]\n",
    "#separate probability that an Charged Hadron is detected form conf\n",
    "ypred_CH1=ypred_CH[:,1]\n",
    "#separate probability that an Neutral Hadron is detected form conf\n",
    "ypred_NH1=ypred_NH[:,1]"
   ]
  },
  {
   "cell_type": "code",
   "execution_count": null,
   "metadata": {},
   "outputs": [],
   "source": [
    "#calibration curve sklearn\n",
    "fraction_of_positives, mean_predicted_value=calib.calibration_curve(ygen_ids_b,ypred_1,normalize=True,n_bins=10,strategy=\"uniform\")\n",
    "#plotting https://scikit-learn.org/stable/auto_examples/calibration/plot_compare_calibration.html#sphx-glr-auto-examples-calibration-plot-compare-calibration-py\n",
    "\n",
    "plt.figure(figsize=(10, 10))\n",
    "ax1 = plt.subplot2grid((3, 1), (0, 0), rowspan=2)\n",
    "ax2 = plt.subplot2grid((3, 1), (2, 0))\n",
    "\n",
    "ax1.plot(mean_predicted_value, fraction_of_positives, \"s-\",)\n",
    "\n",
    "bins = np.linspace(0,1,11)\n",
    "ax2.hist(ypred_PVNP[ygen_ids_b==0,1],density=False,log=True,bins=bins,color = \"red\",alpha=0.5,label=\"ygen_ids=0\")\n",
    "ax2.hist(ypred_PVNP[ygen_ids_b==1,1],density=False,log=True,bins=bins,color = \"skyblue\",alpha=0.7,label=\"ygen_ids=1\")\n",
    "\n",
    "ax1.plot([0, 1], [0, 1], \"k:\", label=\"Perfectly calibrated\")\n",
    "ax1.set_ylabel(\"Fraction of positives\")\n",
    "ax1.set_ylim([-0.05, 1.05])\n",
    "ax1.legend(loc=\"lower right\")\n",
    "ax1.set_title('Calibration plots(reliability curve) for particle vs no particle')\n",
    "\n",
    "ax2.set_xlabel(\"Mean predicted value\")\n",
    "ax2.set_ylabel(\"Count\")\n",
    "ax2.legend(loc=\"upper center\", ncol=2)\n",
    "\n",
    "plt.tight_layout()\n",
    "#plt.savefig('Particle_vs_no.png')\n",
    "plt.show()"
   ]
  },
  {
   "cell_type": "code",
   "execution_count": null,
   "metadata": {},
   "outputs": [],
   "source": [
    "#calibration curve sklearn for Charged hadron vs else\n",
    "import sklearn.calibration as calib\n",
    "fraction_of_positives, mean_predicted_value=calib.calibration_curve(ygen_ids_CHb,ypred_CH1,normalize=True,n_bins=10,strategy=\"uniform\")\n",
    "#plotting https://scikit-learn.org/stable/auto_examples/calibration/plot_compare_calibration.html#sphx-glr-auto-examples-calibration-plot-compare-calibration-py\n",
    "\n",
    "plt.figure(figsize=(10, 10))\n",
    "ax1 = plt.subplot2grid((3, 1), (0, 0), rowspan=2)\n",
    "ax2 = plt.subplot2grid((3, 1), (2, 0))\n",
    "\n",
    "ax1.plot(mean_predicted_value, fraction_of_positives, \"s-\",)\n",
    "\n",
    "\n",
    "bins = np.linspace(0,1,11)\n",
    "ax2.hist(ypred_CH[ygen_ids_CHb==0,1],density=False,log=True,bins=bins,color = \"red\",alpha=0.5,label=\"ygen_ids=0\")\n",
    "ax2.hist(ypred_CH[ygen_ids_CHb==1,1],density=False,log=True,bins=bins,color = \"skyblue\",alpha=0.7,label=\"ygen_ids=1\")\n",
    "\n",
    "ax1.plot([0, 1], [0, 1], \"k:\", label=\"Perfectly calibrated\")\n",
    "ax1.set_ylabel(\"Fraction of positives\")\n",
    "ax1.set_ylim([-0.05, 1.05])\n",
    "ax1.legend(loc=\"lower right\")\n",
    "ax1.set_title('Calibration plots(reliability curve) for Charged Hadron vs else')\n",
    "\n",
    "ax2.set_xlabel(\"Mean predicted value\")\n",
    "ax2.set_ylabel(\"Count\")\n",
    "ax2.legend(loc=\"upper center\", ncol=2)\n",
    "\n",
    "plt.tight_layout()\n",
    "#plt.savefig('CH_vs_else2.png')\n",
    "plt.show()"
   ]
  },
  {
   "cell_type": "code",
   "execution_count": null,
   "metadata": {},
   "outputs": [],
   "source": [
    "#calibration curve sklearn for Neutral hadron vs else\n",
    "import sklearn.calibration as calib\n",
    "fraction_of_positives, mean_predicted_value=calib.calibration_curve(ygen_ids_NHb,ypred_NH1,normalize=True,n_bins=10,strategy=\"uniform\")\n",
    "#plotting https://scikit-learn.org/stable/auto_examples/calibration/plot_compare_calibration.html#sphx-glr-auto-examples-calibration-plot-compare-calibration-py\n",
    "\n",
    "plt.figure(figsize=(10, 10))\n",
    "ax1 = plt.subplot2grid((3, 1), (0, 0), rowspan=2)\n",
    "ax2 = plt.subplot2grid((3, 1), (2, 0))\n",
    "\n",
    "ax1.plot(mean_predicted_value, fraction_of_positives, \"s-\",)\n",
    "\n",
    "bins = np.linspace(0,1,11)\n",
    "ax2.hist(ypred_NH[ygen_ids_NHb==0,1],density=False,log=True,bins=bins,color = \"red\",alpha=0.5,label=\"ygen_ids=0\")\n",
    "ax2.hist(ypred_NH[ygen_ids_NHb==1,1],density=False,log=True,bins=bins,color = \"skyblue\",alpha=0.7,label=\"ygen_ids=1\")\n",
    "\n",
    "\n",
    "ax1.plot([0, 1], [0, 1], \"k:\", label=\"Perfectly calibrated\")\n",
    "ax1.set_ylabel(\"Fraction of positives\")\n",
    "ax1.set_ylim([-0.05, 1.05])\n",
    "ax1.legend(loc=\"lower right\")\n",
    "ax1.set_title('Calibration plots(reliability curve) for Neutral Hadron vs else')\n",
    "\n",
    "ax2.set_xlabel(\"Mean predicted value\")\n",
    "ax2.set_ylabel(\"Count\")\n",
    "ax2.legend(loc=\"lower right\", ncol=2)\n",
    "\n",
    "plt.tight_layout()\n",
    "#plt.savefig('NH_vs_else2.png')\n",
    "plt.show()"
   ]
  }
 ],
 "metadata": {
  "kernelspec": {
   "display_name": "Python 3",
   "language": "python",
   "name": "python3"
  },
  "language_info": {
   "codemirror_mode": {
    "name": "ipython",
    "version": 3
   },
   "file_extension": ".py",
   "mimetype": "text/x-python",
   "name": "python",
   "nbconvert_exporter": "python",
   "pygments_lexer": "ipython3",
   "version": "3.8.5"
  }
 },
 "nbformat": 4,
 "nbformat_minor": 4
}
