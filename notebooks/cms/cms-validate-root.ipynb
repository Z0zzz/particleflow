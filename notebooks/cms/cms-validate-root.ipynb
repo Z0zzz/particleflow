{
 "cells": [
  {
   "cell_type": "code",
   "execution_count": null,
   "id": "846412e5-0a44-4dd7-a181-050f9c92113c",
   "metadata": {},
   "outputs": [],
   "source": [
    "import sklearn\n",
    "import sklearn.metrics\n",
    "import numpy as np\n",
    "import matplotlib.pyplot as plt\n",
    "import matplotlib\n",
    "import pandas\n",
    "import mplhep\n",
    "import pickle\n",
    "import awkward\n",
    "import glob\n",
    "import bz2\n",
    "import os\n",
    "import tqdm\n",
    "import fastjet\n",
    "import vector\n",
    "import uproot\n",
    "\n",
    "mplhep.style.use(\"CMS\")\n",
    "\n",
    "import sys\n",
    "sys.path += [\"../../mlpf/\"]\n",
    "\n",
    "import jet_utils\n",
    "sys.path += [\"../../mlpf/plotting/\"]\n",
    "\n",
    "from plot_utils import ELEM_LABELS_CMS, ELEM_NAMES_CMS\n",
    "from plot_utils import CLASS_LABELS_CMS, CLASS_NAMES_CMS\n",
    "from plot_utils import cms_label, sample_label\n",
    "from plot_utils import pid_to_text"
   ]
  },
  {
   "cell_type": "code",
   "execution_count": null,
   "id": "ff6ed364-7f2b-40cf-a877-925860e81ecc",
   "metadata": {},
   "outputs": [],
   "source": [
    "def load_tree(ttree):\n",
    "    particles_pythia = ttree.arrays([\"gen_pt\", \"gen_eta\", \"gen_phi\", \"gen_energy\", \"gen_pdgid\", \"gen_status\"])\n",
    "    particles_cp = ttree.arrays([\"caloparticle_pt\", \"caloparticle_eta\", \"caloparticle_phi\", \"caloparticle_energy\", \"caloparticle_pid\"])\n",
    "    genjet = ttree.arrays([\"genjet_pt\", \"genjet_eta\", \"genjet_phi\", \"genjet_energy\"])\n",
    "    genmet = ttree.arrays([\"genmet_pt\"])\n",
    "    return awkward.Array({\"pythia\": particles_pythia, \"cp\": particles_cp, \"genjet\": genjet, \"genmet\": genmet})"
   ]
  },
  {
   "cell_type": "code",
   "execution_count": null,
   "id": "308d3605-5da1-4c83-9bd3-9119ab05c793",
   "metadata": {},
   "outputs": [],
   "source": [
    "#https://jpata.web.cern.ch/jpata/mlpf/cms/20240823_simcluster/nopu/TTbar_14TeV_TuneCUETP8M1_cfi/root\n",
    "\n",
    "tts = [\n",
    "    load_tree(uproot.open(fn)[\"pfana/pftree\"]) for fn in glob.glob(\"/local/joosep/mlpf/cms/20240823_simcluster/nopu/TTbar_14TeV_TuneCUETP8M1_cfi/root/pfntuple_7000*.root\")\n",
    "]\n",
    "tts = awkward.concatenate(tts, axis=0)"
   ]
  },
  {
   "cell_type": "code",
   "execution_count": null,
   "id": "04a7a511-ff80-4850-9cbb-937c81b6f92f",
   "metadata": {},
   "outputs": [],
   "source": [
    "particles_pythia = tts[\"pythia\"]\n",
    "particles_cp = tts[\"cp\"]\n",
    "\n",
    "#genjets are directly from CMSSW, have some cuts applied on the particles\n",
    "#see e.g. https://github.com/cms-sw/cmssw/blob/master/RecoJets/Configuration/python/GenJetParticles_cff.py#L8\n",
    "#ideally, we should apply the same cuts on the pythia particles in mask_pythia\n",
    "genjets = vector.awk(awkward.Array(\n",
    "    awkward.zip(\n",
    "        {   \n",
    "            \"pt\": tts[\"genjet\"][\"genjet_pt\"],\n",
    "            \"eta\": tts[\"genjet\"][\"genjet_eta\"],\n",
    "            \"phi\": tts[\"genjet\"][\"genjet_phi\"],\n",
    "            \"energy\": tts[\"genjet\"][\"genjet_energy\"],\n",
    "        }\n",
    "    ), with_name=\"Mometum4D\"\n",
    "))\n",
    "genmet = tts[\"genmet\"][\"genmet_pt\"]"
   ]
  },
  {
   "cell_type": "code",
   "execution_count": null,
   "id": "904b8ca0-a2a3-4a3f-98c2-a7625656e0cf",
   "metadata": {},
   "outputs": [],
   "source": [
    "b = np.logspace(-2,3,100)\n",
    "plt.figure(figsize=(5,5))\n",
    "\n",
    "abs_pid = np.abs(particles_pythia[\"gen_pdgid\"])\n",
    "mask_pythia = (particles_pythia[\"gen_status\"]==1) & (np.abs(particles_pythia[\"gen_eta\"])<5)\n",
    "mask_pythia_nonu = (particles_pythia[\"gen_status\"]==1) & (np.abs(particles_pythia[\"gen_eta\"])<5) & (abs_pid!=12) & (abs_pid!=14) & (abs_pid!=16)\n",
    "mask_cp = np.abs(particles_cp[\"caloparticle_eta\"])<5\n",
    "\n",
    "plt.hist(awkward.flatten(particles_pythia[mask_pythia_nonu][\"gen_pt\"]), bins=b, label=\"Pythia\", histtype=\"step\")\n",
    "plt.hist(awkward.flatten(particles_cp[mask_cp][\"caloparticle_pt\"]), bins=b, label=\"CaloParticle\", histtype=\"step\")\n",
    "\n",
    "plt.xscale(\"log\")\n",
    "plt.yscale(\"log\")\n",
    "plt.xlabel(\"Particle $p_T$ [GeV]\")\n",
    "plt.legend()"
   ]
  },
  {
   "cell_type": "code",
   "execution_count": null,
   "id": "5fe70455-9db5-487f-bee8-71857b7194c7",
   "metadata": {},
   "outputs": [],
   "source": [
    "b = np.linspace(-5,5,100)\n",
    "plt.figure(figsize=(5,5))\n",
    "\n",
    "plt.hist(awkward.flatten(particles_pythia[mask_pythia_nonu][\"gen_eta\"]), bins=b, label=\"Pythia\", histtype=\"step\")\n",
    "plt.hist(awkward.flatten(particles_cp[mask_cp][\"caloparticle_eta\"]), bins=b, label=\"CaloParticle\", histtype=\"step\")\n",
    "\n",
    "plt.xlabel(\"Particle $\\eta$\")\n",
    "plt.legend()"
   ]
  },
  {
   "cell_type": "code",
   "execution_count": null,
   "id": "d5dde104-65b6-4146-9808-137d718bb8ee",
   "metadata": {},
   "outputs": [],
   "source": [
    "#Sum pT in event\n",
    "b = np.linspace(0,1000,100)\n",
    "plt.figure(figsize=(5,5))\n",
    "\n",
    "plt.title(\"sum $p_T$ in event\")\n",
    "plt.hist2d(\n",
    "    awkward.to_numpy(awkward.sum(particles_pythia[mask_pythia_nonu][\"gen_pt\"], axis=1)),\n",
    "    awkward.to_numpy(awkward.sum(particles_cp[mask_cp][\"caloparticle_pt\"], axis=1)),\n",
    "    bins=(b,b), cmap=\"hot_r\", #norm=matplotlib.colors.LogNorm()\n",
    ")\n",
    "plt.plot([0,2000],[0,2000], color=\"black\")\n",
    "plt.xlabel(\"Pythia, no nu\")\n",
    "plt.ylabel(\"CaloParticle\")"
   ]
  },
  {
   "cell_type": "markdown",
   "id": "c398ea1d-46da-4bae-aacd-0f252ebf1050",
   "metadata": {},
   "source": [
    "## Jets"
   ]
  },
  {
   "cell_type": "code",
   "execution_count": null,
   "id": "d814eeb5-0fcf-47d5-a164-7f6f613eff25",
   "metadata": {},
   "outputs": [],
   "source": [
    "jets_coll = {}\n",
    "jets_coll[\"genjet\"] = genjets\n",
    "\n",
    "vec = vector.awk(\n",
    "    awkward.zip(\n",
    "        {   \n",
    "            \"pt\": particles_pythia[mask_pythia_nonu][\"gen_pt\"],\n",
    "            \"eta\": particles_pythia[mask_pythia_nonu][\"gen_eta\"],\n",
    "            \"phi\": particles_pythia[mask_pythia_nonu][\"gen_phi\"],\n",
    "            \"energy\": particles_pythia[mask_pythia_nonu][\"gen_energy\"],\n",
    "        }\n",
    "    )\n",
    ")\n",
    "jetdef = fastjet.JetDefinition(fastjet.antikt_algorithm, 0.4)\n",
    "cluster = fastjet.ClusterSequence(vec.to_xyzt(), jetdef)\n",
    "jets_coll[\"pythia_nonu\"] = cluster.inclusive_jets(min_pt=3)\n",
    "\n",
    "vec = vector.awk(\n",
    "    awkward.zip(\n",
    "        {   \n",
    "            \"pt\": particles_pythia[mask_pythia][\"gen_pt\"],\n",
    "            \"eta\": particles_pythia[mask_pythia][\"gen_eta\"],\n",
    "            \"phi\": particles_pythia[mask_pythia][\"gen_phi\"],\n",
    "            \"energy\": particles_pythia[mask_pythia][\"gen_energy\"],\n",
    "        }\n",
    "    )\n",
    ")\n",
    "jetdef = fastjet.JetDefinition(fastjet.antikt_algorithm, 0.4)\n",
    "cluster = fastjet.ClusterSequence(vec.to_xyzt(), jetdef)\n",
    "jets_coll[\"pythia\"] = cluster.inclusive_jets(min_pt=3)\n",
    "\n",
    "vec = vector.awk(\n",
    "    awkward.zip(\n",
    "        {   \n",
    "            \"pt\": particles_cp[mask_cp][\"caloparticle_pt\"],\n",
    "            \"eta\": particles_cp[mask_cp][\"caloparticle_eta\"],\n",
    "            \"phi\": particles_cp[mask_cp][\"caloparticle_phi\"],\n",
    "            \"energy\": particles_cp[mask_cp][\"caloparticle_energy\"],\n",
    "        }\n",
    "    )\n",
    ")\n",
    "jetdef = fastjet.JetDefinition(fastjet.antikt_algorithm, 0.4)\n",
    "cluster = fastjet.ClusterSequence(vec.to_xyzt(), jetdef)\n",
    "jets_coll[\"cp\"] = cluster.inclusive_jets(min_pt=3)\n",
    "\n",
    "genjet_to_pythia = jet_utils.match_two_jet_collections(jets_coll, \"genjet\", \"pythia\", 0.1)\n",
    "genjet_to_cp = jet_utils.match_two_jet_collections(jets_coll, \"genjet\", \"cp\", 0.1)\n",
    "pythia_to_cp = jet_utils.match_two_jet_collections(jets_coll, \"pythia\", \"cp\", 0.1)\n",
    "pythia_nonu_to_cp = jet_utils.match_two_jet_collections(jets_coll, \"pythia_nonu\", \"cp\", 0.1)"
   ]
  },
  {
   "cell_type": "code",
   "execution_count": null,
   "id": "c28d2925-0da6-409c-bdd0-4d7160f69835",
   "metadata": {},
   "outputs": [],
   "source": [
    "plt.figure(figsize=(5,5))\n",
    "b = np.logspace(0,3,100)\n",
    "plt.hist(awkward.flatten(jets_coll[\"genjet\"].pt), bins=b, histtype=\"step\", lw=1, label=\"genjet\")\n",
    "plt.hist(awkward.flatten(jets_coll[\"pythia\"].pt), bins=b, histtype=\"step\", lw=1, label=\"Pythia\")\n",
    "plt.hist(awkward.flatten(jets_coll[\"cp\"].pt), bins=b, histtype=\"step\", lw=1, label=\"CaloParticle\")\n",
    "plt.xscale(\"log\")\n",
    "plt.xlabel(\"jet $p_T$ [GeV]\")\n",
    "plt.ylabel(\"number of jets\")\n",
    "plt.legend()"
   ]
  },
  {
   "cell_type": "code",
   "execution_count": null,
   "id": "0668a546-3b31-4826-9850-f7f719e8a123",
   "metadata": {},
   "outputs": [],
   "source": [
    "plt.figure(figsize=(5,5))\n",
    "b = np.logspace(-1,1,600)\n",
    "\n",
    "plt.hist(\n",
    "    awkward.flatten(\n",
    "        (jets_coll[\"pythia\"][genjet_to_pythia[\"pythia\"]].pt / jets_coll[\"genjet\"][genjet_to_pythia[\"genjet\"]].pt)\n",
    "    ), bins=b, histtype=\"step\", lw=1, label=\"Pythia\"\n",
    ");\n",
    "\n",
    "plt.hist(\n",
    "    awkward.flatten(\n",
    "        (jets_coll[\"cp\"][genjet_to_cp[\"cp\"]].pt / jets_coll[\"genjet\"][genjet_to_cp[\"genjet\"]].pt)\n",
    "    ), bins=b, histtype=\"step\", lw=1, label=\"CaloParticle\"\n",
    ");\n",
    "\n",
    "plt.xscale(\"log\")\n",
    "plt.yscale(\"log\")\n",
    "plt.xlabel(\"jet $p_T$ / GenJet jet $p_T$\")\n",
    "plt.legend(loc=1, fontsize=12)\n",
    "plt.axvline(1.0, color=\"black\", ls=\"--\", lw=0.5)"
   ]
  },
  {
   "cell_type": "code",
   "execution_count": null,
   "id": "260b8da0-9587-4d98-9edc-c07badbf5f4c",
   "metadata": {},
   "outputs": [],
   "source": [
    "plt.figure(figsize=(5,5))\n",
    "b = np.logspace(-1,1,600)\n",
    "\n",
    "plt.hist(\n",
    "    awkward.flatten(\n",
    "        (jets_coll[\"cp\"][pythia_nonu_to_cp[\"cp\"]].pt / jets_coll[\"pythia_nonu\"][pythia_nonu_to_cp[\"pythia_nonu\"]].pt)\n",
    "    ), bins=b, histtype=\"step\", lw=1, label=\"CaloParticle vs. Pythia\"\n",
    ");\n",
    "\n",
    "plt.hist(\n",
    "    awkward.flatten(\n",
    "        (jets_coll[\"cp\"][pythia_to_cp[\"cp\"]].pt / jets_coll[\"pythia\"][pythia_to_cp[\"pythia\"]].pt)\n",
    "    ), bins=b, histtype=\"step\", lw=1, label=\"CaloParticle vs Pythia NoNu\"\n",
    ");\n",
    "\n",
    "plt.xscale(\"log\")\n",
    "plt.yscale(\"log\")\n",
    "plt.xlabel(\"jet $p_T$ / Pythia jet $p_T$\")\n",
    "plt.legend(loc=1, fontsize=12)\n",
    "plt.axvline(1.0, color=\"black\", ls=\"--\", lw=0.5)"
   ]
  },
  {
   "cell_type": "markdown",
   "id": "f652aa3b-636c-47d2-b625-5ba8f18c640f",
   "metadata": {},
   "source": [
    "## MET"
   ]
  },
  {
   "cell_type": "code",
   "execution_count": null,
   "id": "9f12c030-96b8-40be-a805-cd2d5a6fc2ca",
   "metadata": {},
   "outputs": [],
   "source": [
    "def met(pt, phi):\n",
    "    px = pt * np.cos(phi)\n",
    "    py = pt * np.sin(phi)\n",
    "    pt = np.sqrt(awkward.sum(px**2 + py**2, axis=1))\n",
    "    return pt\n",
    "\n",
    "met_pythia = met(particles_pythia[mask_pythia_nonu][\"gen_pt\"], particles_pythia[mask_pythia_nonu][\"gen_phi\"])\n",
    "met_cp = met(particles_cp[mask_cp][\"caloparticle_pt\"], particles_cp[mask_cp][\"caloparticle_phi\"])"
   ]
  },
  {
   "cell_type": "code",
   "execution_count": null,
   "id": "64a6c982-9f43-49d3-9c38-a6ddec801fdb",
   "metadata": {},
   "outputs": [],
   "source": [
    "b = np.logspace(0,3,100)\n",
    "plt.figure(figsize=(5,5))\n",
    "plt.hist(genmet, bins=b, histtype=\"step\", label=\"GenMET\")\n",
    "plt.hist(met_pythia, bins=b, histtype=\"step\", label=\"Pythia, no nu\")\n",
    "plt.hist(met_cp, bins=b, histtype=\"step\", label=\"CaloParticle\")\n",
    "plt.xscale(\"log\")\n",
    "plt.legend(loc=2, fontsize=12)\n",
    "plt.xlabel(\"MET [GeV]\")"
   ]
  },
  {
   "cell_type": "code",
   "execution_count": null,
   "id": "c104e1ce-7ff7-4107-8ff7-1e7b63df4d0e",
   "metadata": {},
   "outputs": [],
   "source": [
    "plt.figure(figsize=(5,5))\n",
    "plt.scatter(\n",
    "    met_pythia, met_cp\n",
    ")\n",
    "plt.plot([0,500], [0,500], color=\"black\", ls=\"--\", marker=\".\")"
   ]
  }
 ],
 "metadata": {
  "kernelspec": {
   "display_name": "Python 3 (ipykernel)",
   "language": "python",
   "name": "python3"
  },
  "language_info": {
   "codemirror_mode": {
    "name": "ipython",
    "version": 3
   },
   "file_extension": ".py",
   "mimetype": "text/x-python",
   "name": "python",
   "nbconvert_exporter": "python",
   "pygments_lexer": "ipython3",
   "version": "3.11.9"
  }
 },
 "nbformat": 4,
 "nbformat_minor": 5
}
