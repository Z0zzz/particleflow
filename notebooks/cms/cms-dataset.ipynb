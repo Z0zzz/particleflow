{
 "cells": [
  {
   "cell_type": "code",
   "execution_count": 21,
   "id": "0934d053-9a23-4b3b-a615-a6b65ba692e4",
   "metadata": {},
   "outputs": [],
   "source": [
    "import tensorflow_datasets as tfds\n",
    "import vector\n",
    "import awkward\n",
    "import numpy as np"
   ]
  },
  {
   "cell_type": "code",
   "execution_count": 18,
   "id": "6e9bfd5e-57b7-47cb-9eba-3a85608fd689",
   "metadata": {},
   "outputs": [],
   "source": [
    "#from mlpf/heptfds/cms_pf/cms_utils.py\n",
    "CLASS_LABELS_CMS = [0, 211, 130, 1, 2, 22, 11, 13]\n",
    "Y_FEATURES = [\n",
    "    \"typ_idx\",\n",
    "    \"charge\",\n",
    "    \"pt\",\n",
    "    \"eta\",\n",
    "    \"sin_phi\",\n",
    "    \"cos_phi\",\n",
    "    \"e\",\n",
    "    \"ispu\",\n",
    "]"
   ]
  },
  {
   "cell_type": "code",
   "execution_count": 2,
   "id": "caa09c76-5700-49c4-985c-0b7e09949b14",
   "metadata": {},
   "outputs": [],
   "source": [
    "builder = tfds.builder(\"cms_pf_ttbar\", data_dir=\"/scratch/persistent/joosep/tensorflow_datasets/\")\n",
    "ds_train = builder.as_data_source(split=\"train\")"
   ]
  },
  {
   "cell_type": "code",
   "execution_count": 25,
   "id": "8d134fd6-18be-4446-93fc-22b37b6c79d6",
   "metadata": {},
   "outputs": [
    {
     "name": "stdout",
     "output_type": "stream",
     "text": [
      "dict_keys(['X', 'genjets', 'genmet', 'ycand', 'ygen'])\n"
     ]
    }
   ],
   "source": [
    "#just take one event\n",
    "for iev in range(1):\n",
    "    el = ds_train[iev]\n",
    "    print(el.keys())\n",
    "    \n",
    "    genjets = vector.awk(awkward.zip({\"pt\": el[\"genjets\"][:, 0], \"eta\": el[\"genjets\"][:, 1], \"phi\": el[\"genjets\"][:, 2], \"energy\": el[\"genjets\"][:, 3]}))\n",
    "    mask_genparticles = el[\"ygen\"][:, 0]!=0\n",
    "    genparticles = el[\"ygen\"][mask_genparticles]\n",
    "    gp_phi = np.arctan2(genparticles[:, 4], genparticles[:, 5]) #sphi,cphi -> phi\n",
    "    genparticles_p4 = vector.awk(awkward.zip({\"pt\": genparticles[:, 2], \"eta\": genparticles[:, 3], \"phi\": gp_phi, \"energy\": genparticles[:, 6]}))\n",
    "    gp_ispu = genparticles[:, 7]\n"
   ]
  },
  {
   "cell_type": "code",
   "execution_count": 28,
   "id": "0bca5318-68aa-41c4-9140-4cabe6fd8d24",
   "metadata": {},
   "outputs": [
    {
     "data": {
      "text/html": [
       "<pre>[62.4,\n",
       " 55.3,\n",
       " 33.4,\n",
       " 24.8,\n",
       " 19.1,\n",
       " 17.9,\n",
       " 17.4,\n",
       " 13.9,\n",
       " 12.4,\n",
       " 11.3,\n",
       " ...,\n",
       " 4.19,\n",
       " 4.13,\n",
       " 3.71,\n",
       " 3.45,\n",
       " 3.42,\n",
       " 3.4,\n",
       " 3.23,\n",
       " 3.21,\n",
       " 3.06]\n",
       "------------------\n",
       "type: 25 * float32</pre>"
      ],
      "text/plain": [
       "<Array [62.4, 55.3, 33.4, 24.8, ..., 3.4, 3.23, 3.21, 3.06] type='25 * float32'>"
      ]
     },
     "execution_count": 28,
     "metadata": {},
     "output_type": "execute_result"
    }
   ],
   "source": [
    "genjets.pt"
   ]
  },
  {
   "cell_type": "code",
   "execution_count": 24,
   "id": "03df421a-5788-4fb2-b45f-25ce7dfa006d",
   "metadata": {},
   "outputs": [
    {
     "data": {
      "text/html": [
       "<pre>[0.328,\n",
       " 3.2,\n",
       " 0.573,\n",
       " 0.667,\n",
       " 0.484,\n",
       " 0.649,\n",
       " 0.675,\n",
       " 0.408,\n",
       " 1.83,\n",
       " 0.851,\n",
       " ...,\n",
       " 0.265,\n",
       " 1.18,\n",
       " 1.12,\n",
       " 0.846,\n",
       " 0.988,\n",
       " 0.704,\n",
       " 0.676,\n",
       " 1.73,\n",
       " 0.939]\n",
       "--------------------\n",
       "type: 2195 * float32</pre>"
      ],
      "text/plain": [
       "<Array [0.328, 3.2, 0.573, ..., 0.676, 1.73, 0.939] type='2195 * float32'>"
      ]
     },
     "execution_count": 24,
     "metadata": {},
     "output_type": "execute_result"
    }
   ],
   "source": [
    "genparticles_p4.pt"
   ]
  },
  {
   "cell_type": "code",
   "execution_count": 26,
   "id": "9517f188-f55e-4551-8dc9-82edb4f1ca4d",
   "metadata": {},
   "outputs": [
    {
     "data": {
      "text/plain": [
       "array([1.       , 1.       , 1.       , ..., 0.4828976, 1.       ,\n",
       "       1.       ], dtype=float32)"
      ]
     },
     "execution_count": 26,
     "metadata": {},
     "output_type": "execute_result"
    }
   ],
   "source": [
    "gp_ispu"
   ]
  }
 ],
 "metadata": {
  "kernelspec": {
   "display_name": "Python 3 (ipykernel)",
   "language": "python",
   "name": "python3"
  },
  "language_info": {
   "codemirror_mode": {
    "name": "ipython",
    "version": 3
   },
   "file_extension": ".py",
   "mimetype": "text/x-python",
   "name": "python",
   "nbconvert_exporter": "python",
   "pygments_lexer": "ipython3",
   "version": "3.10.14"
  }
 },
 "nbformat": 4,
 "nbformat_minor": 5
}
