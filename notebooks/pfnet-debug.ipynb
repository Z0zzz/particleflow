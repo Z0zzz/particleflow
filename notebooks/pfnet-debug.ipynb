{
 "cells": [
  {
   "cell_type": "code",
   "execution_count": null,
   "id": "greek-doctrine",
   "metadata": {},
   "outputs": [],
   "source": [
    "import tensorflow as tf\n",
    "import numpy as np\n",
    "import sys\n",
    "sys.path.append(\"/home/joosep/particleflow/mlpf\")\n",
    "import tfmodel.model\n",
    "import tfmodel.data\n",
    "import tfmodel.model_setup\n",
    "\n",
    "import yaml\n",
    "import matplotlib.pyplot as plt\n",
    "import matplotlib \n",
    "import os\n",
    "os.chdir(\"/home/joosep/particleflow\")\n",
    "\n",
    "import pandas\n",
    "import networkx\n",
    "import glob"
   ]
  },
  {
   "cell_type": "code",
   "execution_count": null,
   "id": "laughing-toolbox",
   "metadata": {},
   "outputs": [],
   "source": [
    "with open(\"/home/joosep/particleflow/parameters/cms-gnn-dense.yaml\") as f:\n",
    "    config = yaml.load(f)\n",
    "config[\"setup\"][\"multi_output\"] = True"
   ]
  },
  {
   "cell_type": "code",
   "execution_count": null,
   "id": "abandoned-wrist",
   "metadata": {},
   "outputs": [],
   "source": [
    "model = tfmodel.model_setup.make_gnn_dense(config, tf.float32)"
   ]
  },
  {
   "cell_type": "code",
   "execution_count": null,
   "id": "spectacular-monitor",
   "metadata": {},
   "outputs": [],
   "source": [
    "cds = config[\"dataset\"]\n",
    "\n",
    "dataset_def = tfmodel.data.Dataset(\n",
    "    num_input_features=int(cds[\"num_input_features\"]),\n",
    "    num_output_features=int(cds[\"num_output_features\"]),\n",
    "    padded_num_elem_size=6400,\n",
    "    raw_path=cds.get(\"raw_path\", None),\n",
    "    raw_files=cds.get(\"raw_files\", None),\n",
    "    processed_path=cds[\"processed_path\"],\n",
    "    validation_file_path=\"data/TTbar_14TeV_TuneCUETP8M1_cfi/val/pfntuple_*.pkl.bz2\",\n",
    "    schema=cds[\"schema\"]\n",
    ")\n",
    "\n",
    "dataset_transform = tfmodel.model_setup.targets_multi_output(config['dataset']['num_output_classes'])"
   ]
  },
  {
   "cell_type": "code",
   "execution_count": null,
   "id": "fifteen-bedroom",
   "metadata": {},
   "outputs": [],
   "source": [
    "Xs = []\n",
    "ygens = []\n",
    "ycands = []\n",
    "\n",
    "for fi in dataset_def.val_filelist[:1]:\n",
    "    print(fi)\n",
    "    X, ygen, ycand = dataset_def.prepare_data(fi)\n",
    "\n",
    "    Xs.append(np.concatenate(X))\n",
    "    ygens.append(np.concatenate(ygen))\n",
    "    ycands.append(np.concatenate(ycand))\n",
    "\n",
    "X_val = np.concatenate(Xs)\n",
    "ygen_val = np.concatenate(ygens)\n",
    "ycand_val = np.concatenate(ycands)\n",
    "\n",
    "X_val, ycand_val, _ = dataset_transform(X_val, ycand_val, None)\n"
   ]
  },
  {
   "cell_type": "code",
   "execution_count": null,
   "id": "integral-contemporary",
   "metadata": {},
   "outputs": [],
   "source": [
    "ret = model(X_val[:1])\n",
    "model.load_weights(\"/home/joosep/particleflow/experiments/cms-gnn-dense-2cc4e7f9.gpu0.local/weights-500-40.204285.hdf5\")\n",
    "ret = model.predict(X_val, batch_size=10)"
   ]
  },
  {
   "cell_type": "code",
   "execution_count": null,
   "id": "otherwise-blind",
   "metadata": {},
   "outputs": [],
   "source": [
    "x = X_val[0]\n",
    "msk = x[:, 0] == 8"
   ]
  },
  {
   "cell_type": "code",
   "execution_count": null,
   "id": "welcome-doctrine",
   "metadata": {},
   "outputs": [],
   "source": [
    "training = False\n",
    "msk = X_val[:, :, 0] != 0\n",
    "n_elems = np.sum(msk, axis=1)\n",
    "enc = model.enc(X_val)\n",
    "enc_id = model.activation(model.ffn_enc_id(enc))\n",
    "enc_reg = model.activation(model.ffn_enc_reg(enc))\n",
    "\n",
    "enc_id1 =  model.cg_id[0](enc_id, msk, training)\n",
    "enc_id2 =  model.cg_id[1](enc_id1, msk, training)\n",
    "\n",
    "x_dist = model.cg_id[0].ffn_dist(enc_id)\n",
    "bins_split1, x_binned1, dm1, msk_binned1 = model.cg_id[0].dist(x_dist, enc_id, msk)\n",
    "\n",
    "x_dist = model.cg_reg[0].ffn_dist(enc_reg)\n",
    "bins_split2, x_binned2, dm2, msk_binned2 = model.cg_reg[0].dist(x_dist, enc_reg, msk)"
   ]
  },
  {
   "cell_type": "code",
   "execution_count": null,
   "id": "sensitive-pressure",
   "metadata": {},
   "outputs": [],
   "source": [
    "def get_bin_index(bs):\n",
    "    bin_index = []\n",
    "\n",
    "    for ielem in range(6400):\n",
    "        if X_val[0, ielem, 0] != 0:\n",
    "            for ibin in range(bins_split.shape[1]):\n",
    "                if ielem in bs[ibin]:\n",
    "                    bin_index.append(ibin)\n",
    "                    break\n",
    "        else:\n",
    "            break\n",
    "    return bin_index"
   ]
  },
  {
   "cell_type": "code",
   "execution_count": null,
   "id": "apart-algebra",
   "metadata": {},
   "outputs": [],
   "source": [
    "msk = X_val[0][:, 0] != 0\n",
    "eta = X_val[0][msk, 2]\n",
    "phi = X_val[0][msk, 3]\n",
    "typ = X_val[0][msk, 0]\n",
    "energy = X_val[0][msk, 4]\n",
    "\n",
    "evenly_spaced_interval = np.linspac\n",
    "e(0, 1, 10)\n",
    "colorlist = [cm.rainbow(x) for x in evenly_spaced_interval]\n",
    "bin_idx = get_bin_index(bins_split1[0].numpy())\n",
    "\n",
    "plt.figure(figsize=(4,4))\n",
    "plt.scatter(eta, phi, c=[colorlist[bi] for bi in bin_idx], marker=\".\")\n",
    "plt.xlabel(\"eta\")\n",
    "plt.ylabel(\"phi\")\n",
    "plt.title(\"Binning in classification layer 1\")\n",
    "plt.savefig(\"bins_cls_layer1.pdf\")"
   ]
  },
  {
   "cell_type": "code",
   "execution_count": null,
   "id": "surprised-programmer",
   "metadata": {},
   "outputs": [],
   "source": [
    "bin_idx = get_bin_index(bins_split2[0].numpy())\n",
    "\n",
    "plt.figure(figsize=(4,4))\n",
    "plt.scatter(eta, phi, c=[colorlist[bi] for bi in bin_idx], marker=\".\")\n",
    "plt.xlabel(\"eta\")\n",
    "plt.ylabel(\"phi\")\n",
    "plt.title(\"Binning in regression layer 1\")\n",
    "plt.savefig(\"bins_reg_layer1.pdf\")"
   ]
  },
  {
   "cell_type": "code",
   "execution_count": null,
   "id": "capital-adapter",
   "metadata": {},
   "outputs": [],
   "source": [
    "dmn = dm[0].numpy()\n",
    "for i in range(dmn.shape[0]):\n",
    "    fig = plt.figure(figsize=(5,4))\n",
    "    plt.imshow(dmn[i], interpolation=\"none\", norm=matplotlib.colors.LogNorm(vmin=1e-4, vmax=1), cmap=\"Blues\")\n",
    "    plt.colorbar()\n",
    "    plt.title(\"Learned graph structure, bin {}\".format(i))\n",
    "    plt.xlabel(\"elem index $i$\")\n",
    "    plt.ylabel(\"elem index $j$\")\n",
    "    plt.savefig(\"dm_{}.pdf\".format(i))"
   ]
  },
  {
   "cell_type": "code",
   "execution_count": null,
   "id": "empty-passage",
   "metadata": {},
   "outputs": [],
   "source": [
    "# for iweight in range(1,501):\n",
    "#     wf = glob.glob(\"/home/joosep/particleflow/experiments/cms-gnn-skipconn-v2-b7e87c83/weights-{:02d}-*.hdf5\".format(iweight))\n",
    "#     model.load_weights(wf[0])\n",
    "    \n",
    "#     iev = 1\n",
    "\n",
    "#     X = X_val[iev]\n",
    "#     msk = X[:, 0] != 0\n",
    "#     X = X[msk]\n",
    "\n",
    "#     ret = model(X_val[iev:iev+1])\n",
    "    \n",
    "#     dm1 = tf.sparse.to_dense(ret[\"dm\"]).numpy()\n",
    "    \n",
    "#     df = pandas.DataFrame(X[:, [0,2,3,4,9,10,11,12]], columns=[\"type\", \"eta\", \"phi\", \"energy\", \"eta_ecal\", \"phi_ecal\", \"eta_hcal\", \"phi_hcal\"])\n",
    "    \n",
    "#     g = networkx.DiGraph()\n",
    "#     for irow in range(len(df)):\n",
    "#         g.add_node(irow, **{\n",
    "#             k: df.loc[irow, k] for k in df.columns\n",
    "#         })\n",
    "\n",
    "#     rows, cols = dm1[0].nonzero()\n",
    "\n",
    "#     for irow, icol in zip(rows, cols):\n",
    "#         if irow < len(df) and icol < len(df):\n",
    "#             g.add_edge(irow, icol, weight=dm1[0][irow, icol])\n",
    "\n",
    "#     pos = {\n",
    "#         i: (g.nodes[i][\"eta\"], g.nodes[i][\"phi\"]) for i in g.nodes\n",
    "#     }\n",
    "#     colors = [\n",
    "#         colorlist[int(g.nodes[i][\"type\"])] for i in g.nodes\n",
    "#     ]\n",
    "    \n",
    "#     draw_node(500)\n",
    "#     plt.title(iweight)\n",
    "#     plt.savefig(\"node_500_iter_{:03d}.png\".format(iweight), facecolor=\"w\")\n",
    "#     plt.clf()\n",
    "    \n",
    "#     plt.figure(figsize=(10,10))\n",
    "#     plt.title(iweight)\n",
    "#     plt.imshow(dm1[0][:len(X), :len(X)], interpolation=\"none\", cmap=\"Blues\", norm=matplotlib.colors.Normalize(vmin=0, vmax=1))\n",
    "#     plt.colorbar()\n",
    "#     plt.savefig(\"dm_iter_{:03d}.png\".format(iweight), facecolor=\"w\")\n",
    "#     plt.clf()\n",
    "\n",
    "#     draw_prediction(ret, iev)\n",
    "#     plt.title(iweight)\n",
    "#     plt.savefig(\"pred_{:03d}.png\".format(iweight), facecolor=\"w\")\n",
    "#     plt.clf()"
   ]
  },
  {
   "cell_type": "code",
   "execution_count": null,
   "id": "close-aerospace",
   "metadata": {},
   "outputs": [],
   "source": []
  }
 ],
 "metadata": {
  "kernelspec": {
   "display_name": "Python 3",
   "language": "python",
   "name": "python3"
  },
  "language_info": {
   "codemirror_mode": {
    "name": "ipython",
    "version": 3
   },
   "file_extension": ".py",
   "mimetype": "text/x-python",
   "name": "python",
   "nbconvert_exporter": "python",
   "pygments_lexer": "ipython3",
   "version": "3.8.5"
  }
 },
 "nbformat": 4,
 "nbformat_minor": 5
}
