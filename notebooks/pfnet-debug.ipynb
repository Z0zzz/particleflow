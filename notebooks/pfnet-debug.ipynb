{
 "cells": [
  {
   "cell_type": "code",
   "execution_count": 1,
   "metadata": {},
   "outputs": [],
   "source": [
    "import tensorflow as tf\n",
    "import numpy as np\n",
    "import sys\n",
    "sys.path.append(\"/home/joosep/particleflow/mlpf\")\n",
    "import tfmodel.model\n",
    "import tfmodel.data\n",
    "import tfmodel.model_setup\n",
    "\n",
    "import yaml\n",
    "import matplotlib.pyplot as plt\n",
    "import matplotlib \n",
    "import os\n",
    "os.chdir(\"/home/joosep/particleflow\")\n",
    "\n",
    "import pandas\n",
    "import networkx\n",
    "import glob\n",
    "\n",
    "from matplotlib import cm"
   ]
  },
  {
   "cell_type": "code",
   "execution_count": 2,
   "metadata": {},
   "outputs": [
    {
     "name": "stderr",
     "output_type": "stream",
     "text": [
      "<ipython-input-2-30d2deb1d9c5>:2: YAMLLoadWarning: calling yaml.load() without Loader=... is deprecated, as the default Loader is unsafe. Please read https://msg.pyyaml.org/load for full details.\n",
      "  config = yaml.load(f)\n"
     ]
    }
   ],
   "source": [
    "with open(\"/home/joosep/particleflow/parameters/cms-gnn-dense-dev.yaml\") as f:\n",
    "    config = yaml.load(f)\n",
    "config[\"setup\"][\"multi_output\"] = True\n",
    "config[\"parameters\"][\"debug\"] = True"
   ]
  },
  {
   "cell_type": "code",
   "execution_count": 3,
   "metadata": {},
   "outputs": [],
   "source": [
    "model = tfmodel.model_setup.make_gnn_dense(config, tf.float32)"
   ]
  },
  {
   "cell_type": "code",
   "execution_count": 4,
   "metadata": {},
   "outputs": [
    {
     "name": "stdout",
     "output_type": "stream",
     "text": [
      "raw files: 0\n",
      "val files: 1998\n"
     ]
    }
   ],
   "source": [
    "cds = config[\"dataset\"]\n",
    "\n",
    "dataset_def = tfmodel.data.Dataset(\n",
    "    num_input_features=int(cds[\"num_input_features\"]),\n",
    "    num_output_features=int(cds[\"num_output_features\"]),\n",
    "    padded_num_elem_size=6400,\n",
    "    raw_path=cds.get(\"raw_path\", None),\n",
    "    raw_files=cds.get(\"raw_files\", None),\n",
    "    processed_path=cds[\"processed_path\"],\n",
    "    validation_file_path=\"data/TTbar_14TeV_TuneCUETP8M1_cfi/val/pfntuple_*.pkl.bz2\",\n",
    "    schema=cds[\"schema\"]\n",
    ")\n",
    "\n",
    "dataset_transform = tfmodel.model_setup.targets_multi_output(config['dataset']['num_output_classes'])"
   ]
  },
  {
   "cell_type": "code",
   "execution_count": 9,
   "metadata": {},
   "outputs": [
    {
     "name": "stdout",
     "output_type": "stream",
     "text": [
      "data/TTbar_14TeV_TuneCUETP8M1_cfi/val/pfntuple_8201_0.pkl.bz2\n",
      "data/TTbar_14TeV_TuneCUETP8M1_cfi/val/pfntuple_8202_0.pkl.bz2\n",
      "data/TTbar_14TeV_TuneCUETP8M1_cfi/val/pfntuple_8203_0.pkl.bz2\n",
      "data/TTbar_14TeV_TuneCUETP8M1_cfi/val/pfntuple_8204_0.pkl.bz2\n",
      "data/TTbar_14TeV_TuneCUETP8M1_cfi/val/pfntuple_8205_0.pkl.bz2\n",
      "data/TTbar_14TeV_TuneCUETP8M1_cfi/val/pfntuple_8206_0.pkl.bz2\n",
      "data/TTbar_14TeV_TuneCUETP8M1_cfi/val/pfntuple_8207_0.pkl.bz2\n",
      "data/TTbar_14TeV_TuneCUETP8M1_cfi/val/pfntuple_8208_0.pkl.bz2\n",
      "data/TTbar_14TeV_TuneCUETP8M1_cfi/val/pfntuple_8209_0.pkl.bz2\n",
      "data/TTbar_14TeV_TuneCUETP8M1_cfi/val/pfntuple_820_0.pkl.bz2\n"
     ]
    }
   ],
   "source": [
    "Xs = []\n",
    "ygens = []\n",
    "ycands = []\n",
    "\n",
    "for fi in dataset_def.val_filelist[:10]:\n",
    "    print(fi)\n",
    "    X, ygen, ycand = dataset_def.prepare_data(fi)\n",
    "\n",
    "    Xs.append(np.concatenate(X))\n",
    "    ygens.append(np.concatenate(ygen))\n",
    "    ycands.append(np.concatenate(ycand))\n",
    "\n",
    "X_val = np.concatenate(Xs)\n",
    "ygen_val = np.concatenate(ygens)\n",
    "ycand_val = np.concatenate(ycands)\n",
    "\n",
    "X_val, ycand_val, _ = dataset_transform(X_val, ycand_val, None)\n"
   ]
  },
  {
   "cell_type": "code",
   "execution_count": 85,
   "metadata": {},
   "outputs": [],
   "source": [
    "vals_a = np.sin(X_val[:, :, 3].flatten())"
   ]
  },
  {
   "cell_type": "code",
   "execution_count": 86,
   "metadata": {},
   "outputs": [],
   "source": [
    "vals_b = ycand_val[\"sin_phi\"][:, :, 0].flatten()"
   ]
  },
  {
   "cell_type": "code",
   "execution_count": 91,
   "metadata": {},
   "outputs": [
    {
     "data": {
      "text/plain": [
       "<matplotlib.collections.PathCollection at 0x7fac8067a280>"
      ]
     },
     "execution_count": 91,
     "metadata": {},
     "output_type": "execute_result"
    },
    {
     "data": {
      "image/png": "[encoded data removed]",
      "text/plain": [
       "<Figure size 432x288 with 1 Axes>"
      ]
     },
     "metadata": {
      "needs_background": "light"
     },
     "output_type": "display_data"
    }
   ],
   "source": [
    "msk =np.argmax(ycand_val[\"cls\"], axis=-1).flatten()==1\n",
    "plt.scatter(vals_a[msk], vals_b[msk])"
   ]
  },
  {
   "cell_type": "code",
   "execution_count": null,
   "metadata": {},
   "outputs": [],
   "source": [
    "ret = model(X_val[:1])\n",
    "model.set_trainable_classification()\n",
    "model.load_weights(\"/home/joosep/particleflow/experiments/cms-gnn-dense-a301aa09.gpu0.local/weights-65-103.547722.hdf5\")\n",
    "ret = model.predict(X_val, batch_size=10)"
   ]
  },
  {
   "cell_type": "code",
   "execution_count": null,
   "metadata": {},
   "outputs": [],
   "source": [
    "x = X_val[0]\n",
    "msk = x[:, 0] == 8"
   ]
  },
  {
   "cell_type": "code",
   "execution_count": null,
   "metadata": {},
   "outputs": [],
   "source": [
    "preds = model(X_val[:1], training=False)"
   ]
  },
  {
   "cell_type": "code",
   "execution_count": null,
   "metadata": {},
   "outputs": [],
   "source": [
    "def get_bin_index(bs):\n",
    "    bin_index = []\n",
    "\n",
    "    for ielem in range(6400):\n",
    "        if X_val[0, ielem, 0] != 0:\n",
    "            for ibin in range(bs.shape[1]):\n",
    "                if ielem in bs[ibin]:\n",
    "                    bin_index.append(ibin)\n",
    "                    break\n",
    "        else:\n",
    "            break\n",
    "    return bin_index"
   ]
  },
  {
   "cell_type": "code",
   "execution_count": null,
   "metadata": {},
   "outputs": [],
   "source": [
    "msk = X_val[0][:, 0] != 0\n",
    "eta = X_val[0][msk, 2]\n",
    "phi = X_val[0][msk, 3]\n",
    "typ = X_val[0][msk, 0]\n",
    "energy = X_val[0][msk, 4]\n",
    "\n",
    "evenly_spaced_interval = np.linspace(0, 1, 10)\n",
    "colorlist = [cm.rainbow(x) for x in evenly_spaced_interval]\n",
    "bin_idx = get_bin_index(preds[\"combined_graph_layer\"][\"bins\"][0].numpy())\n",
    "\n",
    "plt.figure(figsize=(4,4))\n",
    "plt.scatter(eta, phi, c=[colorlist[bi] for bi in bin_idx], marker=\".\")\n",
    "plt.xlabel(\"eta\")\n",
    "plt.ylabel(\"phi\")\n",
    "plt.title(\"Binning in classification layer 1\")\n",
    "plt.savefig(\"bins_cls_layer1.pdf\")"
   ]
  },
  {
   "cell_type": "code",
   "execution_count": null,
   "metadata": {},
   "outputs": [],
   "source": [
    "evenly_spaced_interval = np.linspace(0, 1, 10)\n",
    "colorlist = [cm.rainbow(x) for x in evenly_spaced_interval]\n",
    "bin_idx = get_bin_index(preds[\"combined_graph_layer_1\"][\"bins\"][0].numpy())\n",
    "\n",
    "plt.figure(figsize=(4,4))\n",
    "plt.scatter(eta, phi, c=[colorlist[bi] for bi in bin_idx], marker=\".\")\n",
    "plt.xlabel(\"eta\")\n",
    "plt.ylabel(\"phi\")\n",
    "plt.title(\"Binning in classification layer 2\")\n",
    "plt.savefig(\"bins_cls_layer2.pdf\")"
   ]
  },
  {
   "cell_type": "code",
   "execution_count": null,
   "metadata": {},
   "outputs": [],
   "source": [
    "bin_idx = get_bin_index(preds[\"combined_graph_layer_2\"][\"bins\"][0].numpy())\n",
    "\n",
    "plt.figure(figsize=(4,4))\n",
    "plt.scatter(eta, phi, c=[colorlist[bi] for bi in bin_idx], marker=\".\")\n",
    "plt.xlabel(\"eta\")\n",
    "plt.ylabel(\"phi\")\n",
    "plt.title(\"Binning in regression layer 1\")\n",
    "plt.savefig(\"bins_reg_layer1.pdf\")"
   ]
  },
  {
   "cell_type": "code",
   "execution_count": null,
   "metadata": {},
   "outputs": [],
   "source": [
    "bin_idx = get_bin_index(preds[\"combined_graph_layer_3\"][\"bins\"][0].numpy())\n",
    "\n",
    "plt.figure(figsize=(4,4))\n",
    "plt.scatter(eta, phi, c=[colorlist[bi] for bi in bin_idx], marker=\".\")\n",
    "plt.xlabel(\"eta\")\n",
    "plt.ylabel(\"phi\")\n",
    "plt.title(\"Binning in regression layer 1\")\n",
    "plt.savefig(\"bins_reg_layer2.pdf\")"
   ]
  },
  {
   "cell_type": "code",
   "execution_count": null,
   "metadata": {},
   "outputs": [],
   "source": [
    "def plot_dms(dms):\n",
    "    fig = plt.figure(figsize=(4*4, 3*4))\n",
    "    for i in range(dmn.shape[0]):\n",
    "        ax = plt.subplot(3,4,i+1)\n",
    "        plt.axes(ax)\n",
    "        plt.imshow(dmn[i], interpolation=\"none\", norm=matplotlib.colors.Normalize(vmin=0, vmax=1), cmap=\"Blues\")\n",
    "        plt.colorbar()\n",
    "        plt.title(\"bin {}\".format(i))\n",
    "        #plt.xlabel(\"elem index $i$\")\n",
    "        #plt.ylabel(\"elem index $j$\")\n",
    "    plt.tight_layout()"
   ]
  },
  {
   "cell_type": "code",
   "execution_count": null,
   "metadata": {
    "scrolled": false
   },
   "outputs": [],
   "source": [
    "dmn = preds[\"combined_graph_layer\"][\"dm\"][0].numpy()\n",
    "plot_dms(dmn)\n",
    "plt.suptitle(\"Learned adjacency, classification layer 1\", y=1.01)\n",
    "plt.savefig(\"dm_cls1.pdf\")"
   ]
  },
  {
   "cell_type": "code",
   "execution_count": null,
   "metadata": {
    "scrolled": false
   },
   "outputs": [],
   "source": [
    "dmn = preds[\"combined_graph_layer_1\"][\"dm\"][0].numpy()\n",
    "plot_dms(dmn)\n",
    "plt.suptitle(\"Learned adjacency, classification layer 2\", y=1.01)\n",
    "plt.savefig(\"dm_cls2.pdf\")"
   ]
  },
  {
   "cell_type": "code",
   "execution_count": null,
   "metadata": {},
   "outputs": [],
   "source": [
    "dmn = preds[\"combined_graph_layer_2\"][\"dm\"][0].numpy()\n",
    "plot_dms(dmn)\n",
    "plt.suptitle(\"Learned adjacency, regression layer 1\", y=1.01)\n",
    "plt.savefig(\"dm_reg1.pdf\")"
   ]
  },
  {
   "cell_type": "code",
   "execution_count": null,
   "metadata": {},
   "outputs": [],
   "source": [
    "dmn = preds[\"combined_graph_layer_3\"][\"dm\"][0].numpy()\n",
    "plot_dms(dmn)\n",
    "plt.suptitle(\"Learned adjacency, regression layer 2\", y=1.01)\n",
    "plt.savefig(\"dm_reg2.pdf\")"
   ]
  },
  {
   "cell_type": "code",
   "execution_count": null,
   "metadata": {},
   "outputs": [],
   "source": []
  }
 ],
 "metadata": {
  "kernelspec": {
   "display_name": "Python 3",
   "language": "python",
   "name": "python3"
  },
  "language_info": {
   "codemirror_mode": {
    "name": "ipython",
    "version": 3
   },
   "file_extension": ".py",
   "mimetype": "text/x-python",
   "name": "python",
   "nbconvert_exporter": "python",
   "pygments_lexer": "ipython3",
   "version": "3.8.5"
  }
 },
 "nbformat": 4,
 "nbformat_minor": 5
}
