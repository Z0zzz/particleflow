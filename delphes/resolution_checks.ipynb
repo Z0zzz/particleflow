{
 "cells": [
  {
   "cell_type": "code",
   "execution_count": null,
   "metadata": {},
   "outputs": [],
   "source": [
    "import pickle\n",
    "#%matplotlib notebook\n",
    "import matplotlib\n",
    "import matplotlib.pyplot as plt\n",
    "import numpy as np\n",
    "import uproot_methods\n",
    "import networkx as nx\n",
    "import glob\n",
    "from matplotlib.colors import LogNorm\n",
    "import pandas\n",
    "import json\n",
    "import sklearn\n",
    "import sklearn.metrics\n",
    "\n",
    "import sys\n",
    "sys.path += [\"../mlpf/plotting/\"]\n",
    "\n",
    "import plot_utils"
   ]
  },
  {
   "cell_type": "code",
   "execution_count": null,
   "metadata": {},
   "outputs": [],
   "source": [
    "!mkdir -p plots"
   ]
  },
  {
   "cell_type": "code",
   "execution_count": null,
   "metadata": {},
   "outputs": [],
   "source": [
    "data = pickle.load(open(\"out/pythia8_ttbar/tev14_pythia8_ttbar_000_0.pkl\", \"rb\"))"
   ]
  },
  {
   "cell_type": "code",
   "execution_count": null,
   "metadata": {},
   "outputs": [],
   "source": [
    "X = data[\"X\"][0]\n",
    "ycand = data[\"ycand\"][0]\n",
    "ygen = data[\"ygen\"][0]"
   ]
  },
  {
   "cell_type": "code",
   "execution_count": null,
   "metadata": {},
   "outputs": [],
   "source": [
    "msk_trk = X[:, 0] == 2\n",
    "msk_ecal = (X[:, 0] == 1) & (X[:, 6] > 0)\n",
    "msk_hcal = (X[:, 0] == 1) & (X[:, 7] > 0)"
   ]
  },
  {
   "cell_type": "code",
   "execution_count": null,
   "metadata": {},
   "outputs": [],
   "source": [
    "arr_trk = pandas.DataFrame(X[msk_trk], columns=[\"id\", \"pt\", \"eta\", \"sphi\", \"cphi\", \"p\", \"eta_outer\", \"sphi_outer\", \"cphi_outer\", \"charge\", \"is_gen_muon\", \"is_gen_ele\"])\n",
    "arr_ecal = pandas.DataFrame(X[msk_ecal][:, :6], columns=[\"id\", \"et\", \"eta\", \"sphi\", \"cphi\", \"e\"])\n",
    "arr_hcal = pandas.DataFrame(X[msk_hcal][:, :6], columns=[\"id\", \"et\", \"eta\", \"sphi\", \"cphi\", \"e\"])\n",
    "\n",
    "arr_gen = pandas.DataFrame(ygen[ygen[:, 0]!=0], columns=[\"id\", \"charge\", \"pt\", \"eta\", \"sphi\", \"cphi\", \"energy\"])"
   ]
  },
  {
   "cell_type": "code",
   "execution_count": null,
   "metadata": {},
   "outputs": [],
   "source": [
    "points_a = arr_trk[\"eta\"].values, np.arctan2(arr_trk[\"sphi\"], arr_trk[\"cphi\"]).values\n",
    "points_b = arr_trk[\"eta_outer\"].values, np.arctan2(arr_trk[\"sphi_outer\"], arr_trk[\"cphi_outer\"]).values"
   ]
  },
  {
   "cell_type": "code",
   "execution_count": null,
   "metadata": {},
   "outputs": [],
   "source": [
    "r1 = 0.5\n",
    "r2 = 1.0\n",
    "r3 = 1.2\n",
    "r4 = 1.4\n",
    "r5 = 1.6\n",
    "\n",
    "points = []\n",
    "for i in range(len(arr_trk)):\n",
    "    point = []\n",
    "    point.append((0,0,0))\n",
    "    point.append((points_a[0][i], r1*np.sin(points_a[1][i]), r1*np.cos(points_a[1][i])))\n",
    "    point.append((points_b[0][i], r2*np.sin(points_b[1][i]), r2*np.cos(points_b[1][i])))\n",
    "    points.append(point)"
   ]
  },
  {
   "cell_type": "code",
   "execution_count": null,
   "metadata": {},
   "outputs": [],
   "source": [
    "import mpl_toolkits"
   ]
  },
  {
   "cell_type": "code",
   "execution_count": null,
   "metadata": {},
   "outputs": [],
   "source": [
    "fig = plt.figure(figsize=(10,10))\n",
    "ax = fig.add_subplot(111, projection='3d')\n",
    "\n",
    "lc = mpl_toolkits.mplot3d.art3d.Line3DCollection(points, linewidths=0.2, color=\"gray\", alpha=0.5, label=\"tracks\")\n",
    "ax.add_collection(lc)\n",
    "\n",
    "#ax.scatter(points_a[0], r1*np.sin(points_a[1]), r1*np.cos(points_a[1]), color=\"gray\", s=1.0)\n",
    "#ax.scatter(points_b[0], r2*np.sin(points_b[1]), r2*np.cos(points_b[1]), color=\"gray\", s=1.0)\n",
    "# for i in range(len(arr_trk)):\n",
    "#     #print(points[i:i+3, 0])\n",
    "#     kwargs\n",
    "#     ax.plot(points[i:i+3, 0], points[i:i+3, 1], points[i:i+3, 2], marker=\".\", color=\"gray\", alpha=0.05)\n",
    "    \n",
    "ax.scatter(arr_ecal[\"eta\"], r3*arr_ecal[\"sphi\"], r3*arr_ecal[\"cphi\"], s=0.1*arr_ecal[\"e\"], marker=\"s\", alpha=0.5, label=\"ECAL clusters\")\n",
    "ax.scatter(arr_hcal[\"eta\"], r4*arr_hcal[\"sphi\"], r4*arr_hcal[\"cphi\"], s=0.1*arr_hcal[\"e\"], marker=\"s\", alpha=0.5, label=\"HCAL clusters\")\n",
    "ax.scatter(arr_gen[\"eta\"], r5*arr_gen[\"sphi\"], r5*arr_gen[\"cphi\"], alpha=0.2, marker=\"x\", color=\"red\", label=\"generator particles\")\n",
    "\n",
    "ax.set_zlabel(\"y (a.u.)\")\n",
    "ax.set_ylabel(\"x (a.u.)\")\n",
    "ax.set_xlabel(\"$\\eta$\")\n",
    "plt.legend(frameon=False)\n",
    "plt.title(\"Simulated event with PU200\")\n",
    "plt.savefig(\"plots/event.pdf\", bbox_inches=\"tight\")"
   ]
  },
  {
   "cell_type": "code",
   "execution_count": null,
   "metadata": {},
   "outputs": [],
   "source": [
    "plt.figure(figsize=(10, 10))\n",
    "\n",
    "plt.scatter(arr_ecal[\"eta\"], np.arctan2(arr_ecal[\"sphi\"], arr_ecal[\"cphi\"]), marker=\"s\")\n",
    "plt.scatter(arr_hcal[\"eta\"], np.arctan2(arr_hcal[\"sphi\"], arr_hcal[\"cphi\"]), marker=\"s\")\n",
    "plt.scatter(arr_gen[\"eta\"], np.arctan2(arr_gen[\"sphi\"], arr_gen[\"cphi\"]), marker=\"x\")\n",
    "\n",
    "plt.scatter(arr_trk[\"eta\"], np.arctan2(arr_trk[\"sphi\"], arr_trk[\"cphi\"]), marker=\".\", color=\"gray\")\n",
    "plt.scatter(arr_trk[\"eta_outer\"], np.arctan2(arr_trk[\"sphi_outer\"], arr_trk[\"cphi_outer\"]), marker=\".\", color=\"gray\")\n",
    "\n",
    "plt.ylabel(r\"$\\phi$\")\n",
    "plt.xlabel(r\"$\\eta$\")"
   ]
  },
  {
   "cell_type": "code",
   "execution_count": null,
   "metadata": {},
   "outputs": [],
   "source": [
    "plt.figure(figsize=(5, 5))\n",
    "\n",
    "plt.scatter(arr_ecal[\"eta\"], np.arctan2(arr_ecal[\"sphi\"], arr_ecal[\"cphi\"]), marker=\"s\")\n",
    "plt.scatter(arr_hcal[\"eta\"], np.arctan2(arr_hcal[\"sphi\"], arr_hcal[\"cphi\"]), marker=\"s\")\n",
    "plt.scatter(arr_gen[\"eta\"], np.arctan2(arr_gen[\"sphi\"], arr_gen[\"cphi\"]), marker=\"x\")\n",
    "\n",
    "plt.scatter(arr_trk[\"eta\"], np.arctan2(arr_trk[\"sphi\"], arr_trk[\"cphi\"]), marker=\".\", color=\"gray\")\n",
    "plt.scatter(arr_trk[\"eta_outer\"], np.arctan2(arr_trk[\"sphi_outer\"], arr_trk[\"cphi_outer\"]), marker=\".\", color=\"gray\")\n",
    "\n",
    "plt.xlim(2.0, 3)\n",
    "plt.ylim(0, 0.2)\n",
    "plt.ylabel(r\"$\\phi$\")\n",
    "plt.xlabel(r\"$\\eta$\")"
   ]
  },
  {
   "cell_type": "code",
   "execution_count": null,
   "metadata": {},
   "outputs": [],
   "source": [
    "fi = np.load(\"experiments/delphes-gnn-skipconn-0cece961/pred.npz\")\n",
    "ygen = fi[\"ygen\"]\n",
    "ycand = fi[\"ycand\"]\n",
    "ypred = fi[\"ypred\"]\n",
    "\n",
    "ygen = ygen.reshape((ygen.shape[0]*ygen.shape[1], ygen.shape[2]))\n",
    "ycand = ycand.reshape((ycand.shape[0]*ycand.shape[1], ycand.shape[2]))\n",
    "ypred = ypred.reshape((ypred.shape[0]*ypred.shape[1], ypred.shape[2]))"
   ]
  },
  {
   "cell_type": "code",
   "execution_count": null,
   "metadata": {},
   "outputs": [],
   "source": [
    "plt.figure(figsize=(5,5))\n",
    "\n",
    "pid = 1\n",
    "\n",
    "x1 = np.sum(fi[\"ygen\"][:, :, 0]!=0, axis=1)\n",
    "x2 = np.sum(fi[\"ypred\"][:, :, 0]!=0, axis=1)\n",
    "x3 = np.sum(fi[\"ycand\"][:, :, 0]!=0, axis=1)\n",
    "\n",
    "v0 = np.min([np.min(x1), np.min(x2), np.min(x3)])\n",
    "v1 = np.max([np.max(x1), np.max(x2), np.max(x3)])\n",
    "\n",
    "plt.scatter(\n",
    "    x1,\n",
    "    x3,\n",
    "    marker=\".\",\n",
    "    label=\"DelphesPF\",\n",
    "    alpha=0.5\n",
    ")\n",
    "\n",
    "plt.scatter(\n",
    "    x1,\n",
    "    x2,\n",
    "    marker=\".\",\n",
    "    label=\"MLPF\",\n",
    "    alpha=0.5\n",
    ")\n",
    "plt.legend(loc=\"best\", frameon=False)\n",
    "plt.plot([v0, v1], [v0, v1], color=\"black\", ls=\"--\")\n",
    "\n",
    "plt.xlabel(\"Number of generated particles per event\")\n",
    "plt.ylabel(\"Number of reconstructed particles per event\")\n",
    "plt.title(\"Particle multiplicity reconstruction, all PIDs\")"
   ]
  },
  {
   "cell_type": "code",
   "execution_count": null,
   "metadata": {},
   "outputs": [],
   "source": [
    "print(ygen.shape)\n",
    "print(ycand.shape)\n",
    "print(ypred.shape)"
   ]
  },
  {
   "cell_type": "code",
   "execution_count": null,
   "metadata": {
    "scrolled": true
   },
   "outputs": [],
   "source": [
    "pid = 1\n",
    "var = 2\n",
    "bins = np.linspace(0, 5, 100)\n",
    "\n",
    "msk = (ygen[:, 0] == pid)\n",
    "plt.hist(ygen[msk, var], bins=bins, histtype=\"step\", label=\"gen\");\n",
    "\n",
    "msk = ypred[:, 0] == pid\n",
    "plt.hist(ypred[msk, var], bins=bins, histtype=\"step\", label=\"MLPF\");\n",
    "\n",
    "msk = ycand[:, 0] == pid\n",
    "plt.hist(ycand[msk, var], bins=bins, histtype=\"step\", label=\"DelphesPF\");\n",
    "\n",
    "#plt.yscale(\"log\")\n",
    "plt.legend(frameon=False, loc=\"best\")"
   ]
  },
  {
   "cell_type": "code",
   "execution_count": null,
   "metadata": {},
   "outputs": [],
   "source": [
    "pid = 2\n",
    "var = 3\n",
    "bins = np.linspace(-6, 6, 100)\n",
    "\n",
    "msk = (ygen[:, 0] == pid)\n",
    "plt.hist(ygen[msk, var], bins=bins, histtype=\"step\", label=\"gen\");\n",
    "\n",
    "msk = ypred[:, 0] == pid\n",
    "plt.hist(ypred[msk, var], bins=bins, histtype=\"step\", label=\"MLPF\");\n",
    "\n",
    "msk = ycand[:, 0] == pid\n",
    "plt.hist(ycand[msk, var], bins=bins, histtype=\"step\", label=\"DelphesPF\");\n",
    "\n",
    "plt.legend(frameon=False, loc=\"best\")\n",
    "plt.ylim(0,25000)"
   ]
  },
  {
   "cell_type": "code",
   "execution_count": null,
   "metadata": {},
   "outputs": [],
   "source": [
    "ranges = {\n",
    "    \"pt\": np.linspace(0, 10, 61),\n",
    "    \"eta\": np.linspace(-5, 5, 61),\n",
    "    \"sphi\": np.linspace(-1, 1, 61),\n",
    "    \"cphi\": np.linspace(-1, 1, 61),\n",
    "    \"energy\": np.linspace(0, 100, 61)\n",
    "}\n",
    "\n",
    "pid_names = {\n",
    "    1: \"charged hadrons\",\n",
    "    2: \"neutral hadrons\",\n",
    "    3: \"photons\",\n",
    "    4: \"electrons\",\n",
    "    5: \"muons\",\n",
    "}\n",
    "var_names = {\n",
    "    \"pt\": \"pT [GeV]\",\n",
    "    \"eta\": r\"$\\eta$\",\n",
    "    \"sphi\": r\"$\\mathrm{sin} \\phi$\",\n",
    "    \"cphi\": r\"$\\mathrm{cos} \\phi$\",\n",
    "    \"energy\": \"E [GeV]\"\n",
    "}\n",
    "\n",
    "var_indices = {\n",
    "    \"pt\": 2,\n",
    "    \"eta\": 3,\n",
    "    \"sphi\": 4,\n",
    "    \"cphi\": 5,\n",
    "    \"energy\": 6\n",
    "}"
   ]
  },
  {
   "cell_type": "code",
   "execution_count": null,
   "metadata": {},
   "outputs": [],
   "source": [
    "def plot_num_particles_pid(pid):\n",
    "    plt.figure(figsize=(5,5))\n",
    "\n",
    "    x1 = np.sum(fi[\"ygen\"][:, :, 0]==pid, axis=1)\n",
    "    x2 = np.sum(fi[\"ypred\"][:, :, 0]==pid, axis=1)\n",
    "    x3 = np.sum(fi[\"ycand\"][:, :, 0]==pid, axis=1)\n",
    "\n",
    "    v0 = np.min([np.min(x1), np.min(x2), np.min(x3)])\n",
    "    v1 = np.max([np.max(x1), np.max(x2), np.max(x3)])\n",
    "\n",
    "    plt.scatter(\n",
    "        x1,\n",
    "        x3,\n",
    "        marker=\".\",\n",
    "        label=\"DelphesPF\",\n",
    "        alpha=0.5\n",
    "    )\n",
    "\n",
    "    plt.scatter(\n",
    "        x1,\n",
    "        x2,\n",
    "        marker=\".\",\n",
    "        label=\"MLPF\",\n",
    "        alpha=0.5\n",
    "    )\n",
    "    plt.legend(loc=\"best\", frameon=False)\n",
    "    plt.plot([v0, v1], [v0, v1], color=\"black\", ls=\"--\")\n",
    "    \n",
    "    plt.xlabel(\"Number of generated particles per event\")\n",
    "    plt.ylabel(\"Number of reconstructed particles per event\")\n",
    "    plt.title(\"Particle multiplicity reconstruction, {}\".format(pid_names[pid]))\n",
    "    \n",
    "plot_num_particles_pid(1)\n",
    "plot_num_particles_pid(2)"
   ]
  },
  {
   "cell_type": "code",
   "execution_count": null,
   "metadata": {
    "scrolled": false
   },
   "outputs": [],
   "source": [
    "for pid in [1,2,3,4,5]:\n",
    "    for var in [\"pt\", \"eta\", \"sphi\", \"cphi\", \"energy\"]:\n",
    "        rng = ranges[var]\n",
    "\n",
    "        msk = (ygen[:, 0]==pid) & (ypred[:, 0]==pid) & (ycand[:, 0]==pid)\n",
    "\n",
    "        plt.figure(figsize=(6,5))\n",
    "        plt.title(pid_names[pid])\n",
    "        plt.hist2d(\n",
    "            ygen[msk, var_indices[var]],\n",
    "            ypred[msk, var_indices[var]],\n",
    "            bins=(rng, rng),\n",
    "            cmap=\"Blues\",\n",
    "            norm=matplotlib.colors.LogNorm()\n",
    "        )\n",
    "        plt.colorbar()\n",
    "        plt.xlabel(\"Gen {}\".format(var_names[var]))\n",
    "        plt.ylabel(\"MLPF {}\".format(var_names[var]))\n",
    "        plt.savefig(\"plots/corr_mlpf_pid{}_{}.pdf\".format(pid, var), bbox_inches=\"tight\")\n",
    "\n",
    "        plt.figure(figsize=(6,5))\n",
    "        plt.title(pid_names[pid])\n",
    "        plt.hist2d(\n",
    "            ygen[msk, var_indices[var]],\n",
    "            ycand[msk, var_indices[var]],\n",
    "            bins=(rng, rng),\n",
    "            cmap=\"Blues\",\n",
    "            norm=matplotlib.colors.LogNorm()\n",
    "        );\n",
    "        plt.xlabel(\"Gen {}\".format(var_names[var]))\n",
    "        plt.ylabel(\"DelphesPF {}\".format(var_names[var]))\n",
    "        plt.colorbar()\n",
    "        plt.savefig(\"plots/corr_delphespf_pid{}_{}.pdf\".format(pid, var), bbox_inches=\"tight\")\n"
   ]
  },
  {
   "cell_type": "code",
   "execution_count": null,
   "metadata": {
    "scrolled": false
   },
   "outputs": [],
   "source": [
    "def plot_reso(pid, var, rng):\n",
    "    var_idx = var_indices[var]\n",
    "    msk = (ygen[:, 0]==pid) & (ypred[:, 0]==pid) & (ycand[:, 0]==pid)\n",
    "    bins = np.linspace(-rng, rng, 100)\n",
    "    yg = ygen[msk, var_idx]\n",
    "    yp = ypred[msk, var_idx]\n",
    "    yc = ycand[msk, var_idx]\n",
    "    ratio_mlpf = (yp - yg) / yg\n",
    "    ratio_dpf = (yc - yg) / yg\n",
    "    ratio_mlpf[yg==0] = -1\n",
    "    ratio_dpf[yg==0] = -1\n",
    "\n",
    "    plt.figure(figsize=(4,4))\n",
    "    ax = plt.axes()\n",
    "    plt.title(\"{} resolution for {}\".format(var_names[var], pid_names[pid]))\n",
    "    plt.hist(ratio_dpf, bins=bins, histtype=\"step\", lw=1, density=1.0, label=\"DelphesPF\\n$\\mu={:.1f},\\\\ \\sigma={:.1f}$\".format(np.mean(ratio_dpf), np.std(ratio_dpf)));\n",
    "    plt.hist(ratio_mlpf, bins=bins, histtype=\"step\", lw=1, density=1.0, label=\"MLPF\\n$\\mu={:.1f},\\\\ \\sigma={:.1f}$\".format(np.mean(ratio_mlpf), np.std(ratio_mlpf)));\n",
    "    plt.legend(frameon=False)\n",
    "    plt.ylim(0, ax.get_ylim()[1]*2)\n",
    "    plt.savefig(\"plots/res_pid{}_{}.pdf\".format(pid, var), bbox_inches=\"tight\")"
   ]
  },
  {
   "cell_type": "code",
   "execution_count": null,
   "metadata": {},
   "outputs": [],
   "source": [
    "def midpoints(x):\n",
    "    return x[:-1] + np.diff(x)/2"
   ]
  },
  {
   "cell_type": "code",
   "execution_count": null,
   "metadata": {},
   "outputs": [],
   "source": [
    "def mask_empty(hist):\n",
    "    h0 = hist[0].astype(np.float64)\n",
    "    h0[h0<50] = 0\n",
    "    return (h0, hist[1])"
   ]
  },
  {
   "cell_type": "code",
   "execution_count": null,
   "metadata": {},
   "outputs": [],
   "source": [
    "def divide_zero(a, b):\n",
    "    a = a.astype(np.float64)\n",
    "    b = b.astype(np.float64)\n",
    "    out = np.zeros_like(a)\n",
    "    np.divide(a, b, where=b>0, out=out)\n",
    "    return out"
   ]
  },
  {
   "cell_type": "code",
   "execution_count": null,
   "metadata": {},
   "outputs": [],
   "source": [
    "def draw_efficiency_fakerate(pid, var, bins):\n",
    "    var_idx = var_indices[var]\n",
    "\n",
    "    msk_gen = ygen[:, 0]==pid\n",
    "    msk_pred = ypred[:, 0]==pid\n",
    "    msk_cand = ycand[:, 0]==pid\n",
    "\n",
    "    hist_gen = np.histogram(ygen[msk_gen, var_idx], bins=bins);\n",
    "    hist_cand = np.histogram(ygen[msk_gen & msk_cand, var_idx], bins=bins);\n",
    "    hist_pred = np.histogram(ygen[msk_gen & msk_pred, var_idx], bins=bins);\n",
    "    \n",
    "    hist_gen = mask_empty(hist_gen)\n",
    "    hist_cand = mask_empty(hist_cand)\n",
    "    hist_pred = mask_empty(hist_pred)\n",
    "\n",
    "    plt.figure(figsize=(4,4))\n",
    "    plt.hist(ygen[msk_gen&msk_pred&msk_cand, var_idx], bins=bins, label=\"Gen\", histtype=\"step\")\n",
    "    plt.hist(ypred[msk_gen&msk_pred&msk_cand, var_idx], bins=bins, label=\"MLPF\", histtype=\"step\")\n",
    "    plt.hist(ycand[msk_gen&msk_pred&msk_cand,var_idx], bins=bins, label=\"Delphes-PF\", histtype=\"step\")\n",
    "    plt.legend(frameon=True, loc=0)\n",
    "    #plt.ylim(0,1)\n",
    "    plt.xlabel(var_names[var])\n",
    "    plt.savefig(\"plots/distribution_pid{}_{}.pdf\".format(pid, var), bbox_inches=\"tight\")\n",
    "\n",
    "    #efficiency plot\n",
    "    plt.figure(figsize=(4,4))\n",
    "    plt.title(\"reco efficiency for {}\".format(pid_names[pid]))\n",
    "    plt.errorbar(\n",
    "        midpoints(hist_gen[1]),\n",
    "        divide_zero(hist_cand[0], hist_gen[0]),\n",
    "        divide_zero(np.sqrt(hist_gen[0]), hist_gen[0]) * divide_zero(hist_cand[0], hist_gen[0]),\n",
    "        lw=0, label=\"Delphes-PF\", elinewidth=1, marker=\".\")\n",
    "    plt.errorbar(\n",
    "        midpoints(hist_gen[1]),\n",
    "        divide_zero(hist_pred[0], hist_gen[0]),\n",
    "        divide_zero(np.sqrt(hist_gen[0]), hist_gen[0]) * divide_zero(hist_pred[0], hist_gen[0]),\n",
    "        lw=0, label=\"MLPF\", elinewidth=1, marker=\".\")\n",
    "    plt.legend(frameon=True, loc=0)\n",
    "    plt.ylim(0,1.2)\n",
    "    plt.xlabel(var_names[var])\n",
    "    plt.ylabel(\"efficiency\")\n",
    "    plt.savefig(\"plots/eff_pid{}_{}.pdf\".format(pid, var), bbox_inches=\"tight\")\n",
    "\n",
    "    hist_cand2 = np.histogram(ygen[msk_cand & (ygen[:, 0]!=0), var_idx], bins=bins);\n",
    "    hist_pred2 = np.histogram(ygen[msk_pred & (ygen[:, 0]!=0), var_idx], bins=bins);\n",
    "    hist_cand_gen2 = np.histogram(ygen[msk_cand & ~msk_gen & (ygen[:, 0]!=0), var_idx], bins=bins);\n",
    "    hist_pred_gen2 = np.histogram(ygen[msk_pred & ~msk_gen & (ygen[:, 0]!=0), var_idx], bins=bins);\n",
    "\n",
    "    hist_cand2 = mask_empty(hist_cand2)\n",
    "    hist_cand_gen2 = mask_empty(hist_cand_gen2)\n",
    "    hist_pred2 = mask_empty(hist_pred2)\n",
    "    hist_pred_gen2 = mask_empty(hist_pred_gen2)\n",
    "    \n",
    "    #fake rate plot\n",
    "    plt.figure(figsize=(4,4))\n",
    "    plt.title(\"reco fake rate for {}\".format(pid_names[pid]))\n",
    "    plt.errorbar(\n",
    "        midpoints(hist_cand2[1]),\n",
    "        divide_zero(hist_cand_gen2[0], hist_cand2[0]),\n",
    "        divide_zero(np.sqrt(hist_cand_gen2[0]), hist_cand2[0]),\n",
    "        lw=0, label=\"Delphes-PF\", elinewidth=1, marker=\".\")\n",
    "    plt.errorbar(\n",
    "        midpoints(hist_pred2[1]),\n",
    "        divide_zero(hist_pred_gen2[0], hist_pred2[0]),\n",
    "        divide_zero(np.sqrt(hist_pred_gen2[0]), hist_pred2[0]),\n",
    "        lw=0, label=\"MLPF\", elinewidth=1, marker=\".\")\n",
    "    plt.legend(frameon=True, loc=0)\n",
    "    plt.ylim(0,1.2)\n",
    "    #plt.yscale(\"log\")\n",
    "    plt.xlabel(var_names[var])\n",
    "    plt.ylabel(\"fake rate\")\n",
    "    plt.savefig(\"plots/fakerate_pid{}_{}.pdf\".format(pid, var), bbox_inches=\"tight\")\n"
   ]
  },
  {
   "cell_type": "code",
   "execution_count": null,
   "metadata": {},
   "outputs": [],
   "source": [
    "draw_efficiency_fakerate(1, \"pt\", np.linspace(0, 3, 61));"
   ]
  },
  {
   "cell_type": "code",
   "execution_count": null,
   "metadata": {},
   "outputs": [],
   "source": [
    "ret = draw_efficiency_fakerate(1, \"eta\", np.linspace(-3, 3, 61))"
   ]
  },
  {
   "cell_type": "code",
   "execution_count": null,
   "metadata": {},
   "outputs": [],
   "source": [
    "draw_efficiency_fakerate(2, \"energy\", np.linspace(5, 300, 61))"
   ]
  },
  {
   "cell_type": "code",
   "execution_count": null,
   "metadata": {},
   "outputs": [],
   "source": [
    "draw_efficiency_fakerate(2, \"eta\", np.linspace(-6, 6, 61))"
   ]
  },
  {
   "cell_type": "code",
   "execution_count": null,
   "metadata": {},
   "outputs": [],
   "source": [
    "plot_reso(1, \"pt\", 2)\n",
    "plot_reso(1, \"eta\", 0.5)\n",
    "plot_reso(1, \"sphi\", 0.2)\n",
    "plot_reso(1, \"cphi\", 0.2)"
   ]
  },
  {
   "cell_type": "code",
   "execution_count": null,
   "metadata": {},
   "outputs": [],
   "source": [
    "plot_reso(2, \"energy\", 2)\n",
    "plot_reso(2, \"eta\", 0.5)\n",
    "plot_reso(2, \"sphi\", 0.5)\n",
    "plot_reso(2, \"cphi\", 0.5)"
   ]
  },
  {
   "cell_type": "code",
   "execution_count": null,
   "metadata": {},
   "outputs": [],
   "source": [
    "plot_reso(3, \"energy\", 2)\n",
    "plot_reso(3, \"eta\", 0.5)\n",
    "plot_reso(3, \"sphi\", 0.5)\n",
    "plot_reso(3, \"cphi\", 0.5)"
   ]
  },
  {
   "cell_type": "code",
   "execution_count": null,
   "metadata": {
    "scrolled": false
   },
   "outputs": [],
   "source": [
    "plot_reso(4, \"pt\", 2)\n",
    "plot_reso(4, \"eta\", 0.5)\n",
    "plot_reso(4, \"sphi\", 0.5)\n",
    "plot_reso(4, \"cphi\", 0.5)"
   ]
  },
  {
   "cell_type": "code",
   "execution_count": null,
   "metadata": {},
   "outputs": [],
   "source": [
    "plot_reso(5, \"pt\", 2)\n",
    "plot_reso(5, \"eta\", 0.5)\n",
    "plot_reso(5, \"sphi\", 0.5)\n",
    "plot_reso(5, \"cphi\", 0.5)"
   ]
  },
  {
   "cell_type": "code",
   "execution_count": null,
   "metadata": {},
   "outputs": [],
   "source": [
    "confusion = sklearn.metrics.confusion_matrix(\n",
    "    ygen[:, 0], ycand[:, 0], normalize=\"true\"\n",
    ")\n",
    "\n",
    "confusion2 = sklearn.metrics.confusion_matrix(\n",
    "    ygen[:, 0], ypred[:, 0], normalize=\"true\"\n",
    ")"
   ]
  },
  {
   "cell_type": "code",
   "execution_count": null,
   "metadata": {},
   "outputs": [],
   "source": [
    "np.round(confusion, 2)"
   ]
  },
  {
   "cell_type": "code",
   "execution_count": null,
   "metadata": {},
   "outputs": [],
   "source": [
    "np.round(confusion2, 2)"
   ]
  },
  {
   "cell_type": "code",
   "execution_count": null,
   "metadata": {},
   "outputs": [],
   "source": [
    "sklearn.metrics.accuracy_score(ygen[:, 0], ycand[:, 0])"
   ]
  },
  {
   "cell_type": "code",
   "execution_count": null,
   "metadata": {},
   "outputs": [],
   "source": [
    "sklearn.metrics.accuracy_score(ygen[:, 0], ypred[:, 0])"
   ]
  },
  {
   "cell_type": "code",
   "execution_count": null,
   "metadata": {},
   "outputs": [],
   "source": [
    "plot_utils.plot_confusion_matrix(confusion, [\"none\", \"ch.had\", \"n.had\", \"g\", \"el\", \"mu\"])\n",
    "plt.title(\"Normalized per-particle confusion matrix: DelphesPF\")\n",
    "plt.ylabel(\"True particle label\")\n",
    "plt.savefig(\"plots/confusion_normed_delphespf.pdf\", bbox_inches=\"tight\")"
   ]
  },
  {
   "cell_type": "code",
   "execution_count": null,
   "metadata": {},
   "outputs": [],
   "source": [
    "plot_utils.plot_confusion_matrix(confusion2, [\"none\", \"ch.had\", \"n.had\", \"g\", \"el\", \"mu\"])\n",
    "plt.title(\"Normalized per-particle confusion matrix: MLPF\")\n",
    "plt.savefig(\"plots/confusion_normed_mlpf.pdf\", bbox_inches=\"tight\")"
   ]
  },
  {
   "cell_type": "markdown",
   "metadata": {},
   "source": [
    "## Scaling of the model inference time with synthetic data"
   ]
  },
  {
   "cell_type": "markdown",
   "metadata": {},
   "source": [
    "```bash\n",
    "singularity exec --nv ~/HEP-KBFI/singularity/base.simg python3 ../mlpf/tensorflow/delphes_model.py --action timing --weights experiments/delphes-gnn-skipconn-0cece961/weights.100-0.172538.hdf5\n",
    "```"
   ]
  },
  {
   "cell_type": "code",
   "execution_count": null,
   "metadata": {},
   "outputs": [],
   "source": [
    "timing_data_d = json.load(open(\"experiments/delphes-gnn-skipconn-0cece961/synthetic_timing.json\", \"r\"))\n",
    "timing_data_d = sum(timing_data_d, [])"
   ]
  },
  {
   "cell_type": "code",
   "execution_count": null,
   "metadata": {},
   "outputs": [],
   "source": [
    "timing_data = pandas.DataFrame.from_records(timing_data_d)"
   ]
  },
  {
   "cell_type": "code",
   "execution_count": null,
   "metadata": {},
   "outputs": [],
   "source": [
    "lines = timing_data[timing_data[\"batch_size\"] == 1]\n",
    "times_b1 = lines.groupby(\"event_size\").apply(lambda x: np.mean(x[\"time_per_event\"]))\n",
    "\n",
    "lines = timing_data[timing_data[\"batch_size\"] == 2]\n",
    "times_b2 = lines.groupby(\"event_size\").apply(lambda x: np.mean(x[\"time_per_event\"]))\n",
    "\n",
    "lines = timing_data[timing_data[\"batch_size\"] == 4]\n",
    "times_b4 = lines.groupby(\"event_size\").apply(lambda x: np.mean(x[\"time_per_event\"]))"
   ]
  },
  {
   "cell_type": "code",
   "execution_count": null,
   "metadata": {},
   "outputs": [],
   "source": [
    "plt.figure(figsize=(8,4))\n",
    "plt.plot(times_b1.keys(), times_b1.values, marker=\"o\", label=\"batch size 1\")\n",
    "plt.plot(times_b2.keys(), times_b2.values, marker=\"^\", label=\"batch size 2\")\n",
    "plt.plot(times_b4.keys(), times_b4.values, marker=\"v\", label=\"batch size 4\")\n",
    "plt.axvline(128*40, color=\"black\", ymin=0, ymax=0.1, lw=1)\n",
    "plt.xticks([128*10, 128*20, 128*40, 128*80, 128*160])\n",
    "plt.text(5300, 5, r\"$t\\bar{t}$ PU200 (avg.)\")\n",
    "plt.ylim(0,175)\n",
    "#plt.xlim(0,25000)\n",
    "plt.xlabel(\"Average event size\\n(number of tracks, clusters per event)\")\n",
    "plt.ylabel(\"Average per-event runtime [ms]\")\n",
    "plt.legend(loc=\"best\", frameon=False)\n",
    "plt.title(\"MLPF model inference time\")\n",
    "#plt.xscale(\"log\")\n",
    "plt.savefig(\"plots/inference_time.pdf\", bbox_inches=\"tight\")"
   ]
  },
  {
   "cell_type": "code",
   "execution_count": null,
   "metadata": {},
   "outputs": [],
   "source": []
  }
 ],
 "metadata": {
  "kernelspec": {
   "display_name": "Python 3",
   "language": "python",
   "name": "python3"
  },
  "language_info": {
   "codemirror_mode": {
    "name": "ipython",
    "version": 3
   },
   "file_extension": ".py",
   "mimetype": "text/x-python",
   "name": "python",
   "nbconvert_exporter": "python",
   "pygments_lexer": "ipython3",
   "version": "3.6.9"
  }
 },
 "nbformat": 4,
 "nbformat_minor": 4
}
