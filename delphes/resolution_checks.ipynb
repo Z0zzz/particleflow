{
 "cells": [
  {
   "cell_type": "code",
   "execution_count": null,
   "metadata": {},
   "outputs": [],
   "source": [
    "import pickle\n",
    "import matplotlib\n",
    "import matplotlib.pyplot as plt\n",
    "import numpy as np\n",
    "import uproot_methods\n",
    "import networkx as nx\n",
    "import glob\n",
    "from matplotlib.colors import LogNorm"
   ]
  },
  {
   "cell_type": "code",
   "execution_count": null,
   "metadata": {},
   "outputs": [],
   "source": [
    "!du -csh experiments/delphes-gnn-38282c05/pred.npz"
   ]
  },
  {
   "cell_type": "code",
   "execution_count": null,
   "metadata": {},
   "outputs": [],
   "source": [
    "fi = np.load(\"experiments/delphes-gnn-a1a49daa/pred.npz\")\n",
    "ygen = fi[\"ygen\"]\n",
    "ycand = fi[\"ycand\"]\n",
    "ypred = fi[\"ypred\"]\n",
    "\n",
    "ygen = ygen.reshape((ygen.shape[0]*ygen.shape[1], ygen.shape[2]))\n",
    "ycand = ycand.reshape((ycand.shape[0]*ycand.shape[1], ycand.shape[2]))\n",
    "ypred = ypred.reshape((ypred.shape[0]*ypred.shape[1], ypred.shape[2]))"
   ]
  },
  {
   "cell_type": "code",
   "execution_count": null,
   "metadata": {},
   "outputs": [],
   "source": [
    "print(ygen.shape)\n",
    "print(ycand.shape)\n",
    "print(ypred.shape)"
   ]
  },
  {
   "cell_type": "code",
   "execution_count": null,
   "metadata": {},
   "outputs": [],
   "source": [
    "ranges = {\n",
    "    2: np.linspace(0, 10, 100),\n",
    "    3: np.linspace(-5, 5, 100),\n",
    "    4: np.linspace(-1, 1, 100),\n",
    "    5: np.linspace(-1, 1, 100),\n",
    "    6: np.linspace(0, 100, 100)\n",
    "}\n",
    "\n",
    "pid_names = {\n",
    "    1: \"charged hadrons\",\n",
    "    2: \"neutral hadrons\",\n",
    "    3: \"photons\",\n",
    "    4: \"electrons\",\n",
    "    5: \"muons\",\n",
    "}\n",
    "var_names = {\n",
    "    2: \"pT\",\n",
    "    3: \"eta\",\n",
    "    4: \"sin phi\",\n",
    "    5: \"cos phi\",\n",
    "    6: \"E\"\n",
    "}"
   ]
  },
  {
   "cell_type": "code",
   "execution_count": null,
   "metadata": {},
   "outputs": [],
   "source": [
    "pid = 1\n",
    "var_idx = 3\n",
    "rng = ranges[var_idx]\n",
    "\n",
    "msk = (ygen[:, 0]==pid) & (ypred[:, 0]==pid) & (ycand[:, 0]==pid)\n",
    "\n",
    "plt.figure(figsize=(5,5))\n",
    "plt.title(\"{} regression, {}\".format(var_names[var_idx], pid_names[pid]))\n",
    "plt.hist2d(\n",
    "    ygen[msk, var_idx],\n",
    "    ypred[msk, var_idx],\n",
    "    bins=(rng, rng),\n",
    "    cmap=\"Blues\",\n",
    "    norm=matplotlib.colors.LogNorm()\n",
    ");\n",
    "plt.xlabel(\"Gen {}\".format(var_names[var_idx]))\n",
    "plt.ylabel(\"MLPF {}\".format(var_names[var_idx]))\n",
    "\n",
    "msk = (ygen[:, 0]==pid) & (ycand[:, 0]==pid)\n",
    "plt.figure(figsize=(5,5))\n",
    "plt.title(\"{} regression, {}\".format(var_names[var_idx], pid_names[pid]))\n",
    "plt.hist2d(\n",
    "    ygen[msk, var_idx],\n",
    "    ycand[msk, var_idx],\n",
    "    bins=(rng, rng),\n",
    "    cmap=\"Blues\",\n",
    "    norm=matplotlib.colors.LogNorm()\n",
    ");\n",
    "plt.xlabel(\"Gen {}\".format(var_names[var_idx]))\n",
    "plt.ylabel(\"DelphesPF {}\".format(var_names[var_idx]))"
   ]
  },
  {
   "cell_type": "code",
   "execution_count": null,
   "metadata": {
    "scrolled": false
   },
   "outputs": [],
   "source": [
    "def plot_reso(pid, var_idx, rng):\n",
    "    msk = (ygen[:, 0]==pid) & (ypred[:, 0]==pid) & (ycand[:, 0]==pid)\n",
    "    bins = np.linspace(-rng, rng, 100)\n",
    "    yg = ygen[msk, var_idx]\n",
    "    yp = ypred[msk, var_idx]\n",
    "    yc = ycand[msk, var_idx]\n",
    "    ratio_mlpf = (yp - yg) / yg\n",
    "    ratio_dpf = (yc - yg) / yg\n",
    "    ratio_mlpf[yg==0] = -1\n",
    "    ratio_dpf[yg==0] = -1\n",
    "\n",
    "    plt.figure(figsize=(4,4))\n",
    "    ax = plt.axes()\n",
    "    plt.title(\"{} resolution for {}\".format(var_names[var_idx], pid_names[pid]))\n",
    "    plt.hist(ratio_mlpf, bins=bins, histtype=\"step\", lw=2, density=1.0, label=\"MLPF\\n$\\mu={:.1f},\\\\ \\sigma={:.1f}$\".format(np.mean(ratio_mlpf), np.std(ratio_mlpf)));\n",
    "    plt.hist(ratio_dpf, bins=bins, histtype=\"step\", lw=2, density=1.0, label=\"DelphesPF\\n$\\mu={:.1f},\\\\ \\sigma={:.1f}$\".format(np.mean(ratio_dpf), np.std(ratio_dpf)));\n",
    "    plt.legend(frameon=False)\n",
    "    plt.ylim(0, ax.get_ylim()[1]*2)"
   ]
  },
  {
   "cell_type": "code",
   "execution_count": null,
   "metadata": {},
   "outputs": [],
   "source": [
    "def midpoints(x):\n",
    "    return x[:-1] + np.diff(x)/2"
   ]
  },
  {
   "cell_type": "code",
   "execution_count": null,
   "metadata": {},
   "outputs": [],
   "source": [
    "pid = 2\n",
    "\n",
    "b = np.linspace(-2, 3, 100)\n",
    "msk_gen = ygen[:, 0]==pid\n",
    "msk_pred = ypred[:, 0]==pid\n",
    "msk_cand = ycand[:, 0]==pid\n",
    "hist_gen = np.histogram(ygen[msk_gen, 2], bins=b);\n",
    "hist_cand = np.histogram(ygen[msk_gen & msk_cand, 2], bins=b);\n",
    "hist_pred = np.histogram(ygen[msk_gen & msk_pred, 2], bins=b);\n",
    "\n",
    "plt.figure(figsize=(4,4))\n",
    "plt.hist(ygen[msk_gen&msk_pred&msk_cand, 6], bins=np.linspace(-8, 8, 100), label=\"Gen\", histtype=\"step\", density=True)\n",
    "plt.hist(ypred[msk_gen&msk_pred&msk_cand, 6], bins=np.linspace(-8, 8, 100), label=\"MLPF\", histtype=\"step\", density=True)\n",
    "plt.hist(ycand[msk_gen&msk_pred&msk_cand, 6], bins=np.linspace(-8, 8, 100), label=\"Delphes-PF\", histtype=\"step\", density=True)\n",
    "plt.legend(frameon=False, loc=\"best\")\n",
    "plt.ylim(0,1)\n",
    "plt.xlabel(\"log gen E/GeV\")\n",
    "plt.ylabel(\"efficiency\")\n",
    "\n",
    "plt.figure(figsize=(4,4))\n",
    "plt.title(\"reco efficiency for {}\".format(pid_names[pid]))\n",
    "plt.plot(midpoints(hist_gen[1]), hist_cand[0]/hist_gen[0], marker=\".\", lw=0, label=\"Delphes-PF\")\n",
    "plt.plot(midpoints(hist_gen[1]), hist_pred[0]/hist_gen[0], marker=\".\", lw=0, label=\"MLPF\")\n",
    "plt.legend(frameon=False, loc=\"best\")\n",
    "plt.ylim(0,1.2)\n",
    "plt.xlabel(\"log gen pT/GeV\")\n",
    "plt.ylabel(\"efficiency\")\n",
    "\n",
    "hist_cand2 = np.histogram(ygen[msk_cand & (ygen[:, 0]!=0), 2], bins=b);\n",
    "hist_pred2 = np.histogram(ygen[msk_pred & (ygen[:, 0]!=0), 2], bins=b);\n",
    "hist_cand_gen2 = np.histogram(ygen[msk_cand & ~msk_gen & (ygen[:, 0]!=0), 2], bins=b);\n",
    "hist_pred_gen2 = np.histogram(ygen[msk_pred & ~msk_gen & (ygen[:, 0]!=0), 2], bins=b);\n",
    "\n",
    "plt.figure(figsize=(4,4))\n",
    "plt.title(\"reco fake rate for {}\".format(pid_names[pid]))\n",
    "plt.plot(midpoints(hist_cand2[1]), hist_cand_gen2[0]/hist_cand2[0], marker=\".\", lw=0, label=\"Delphes-PF\")\n",
    "plt.plot(midpoints(hist_pred2[1]), hist_pred_gen2[0]/hist_pred2[0], marker=\".\", lw=0, label=\"MLPF\")\n",
    "plt.legend(frameon=False, loc=\"best\")\n",
    "plt.ylim(0,1.2)\n",
    "plt.xlabel(\"log gen pT/GeV\")\n",
    "plt.ylabel(\"fake rate\")"
   ]
  },
  {
   "cell_type": "code",
   "execution_count": null,
   "metadata": {},
   "outputs": [],
   "source": [
    "plot_reso(1, 2, 2)\n",
    "plot_reso(1, 3, 0.05)\n",
    "plot_reso(1, 4, 0.05)\n",
    "plot_reso(1, 5, 0.05)"
   ]
  },
  {
   "cell_type": "code",
   "execution_count": null,
   "metadata": {},
   "outputs": [],
   "source": [
    "plot_reso(2, 6, 2)\n",
    "plot_reso(2, 3, 0.5)\n",
    "plot_reso(2, 4, 0.5)\n",
    "plot_reso(2, 5, 0.5)"
   ]
  },
  {
   "cell_type": "code",
   "execution_count": null,
   "metadata": {},
   "outputs": [],
   "source": [
    "plot_reso(3, 6, 2)\n",
    "plot_reso(3, 3, 0.5)\n",
    "plot_reso(3, 4, 0.5)\n",
    "plot_reso(3, 5, 0.5)"
   ]
  },
  {
   "cell_type": "code",
   "execution_count": null,
   "metadata": {
    "scrolled": false
   },
   "outputs": [],
   "source": [
    "plot_reso(4, 2, 2)\n",
    "plot_reso(4, 3, 0.5)\n",
    "plot_reso(4, 4, 0.5)\n",
    "plot_reso(4, 5, 0.5)"
   ]
  },
  {
   "cell_type": "code",
   "execution_count": null,
   "metadata": {},
   "outputs": [],
   "source": [
    "import sklearn\n",
    "import sklearn.metrics"
   ]
  },
  {
   "cell_type": "code",
   "execution_count": null,
   "metadata": {},
   "outputs": [],
   "source": [
    "confusion = sklearn.metrics.confusion_matrix(\n",
    "    ygen[:, 0], ycand[:, 0],\n",
    ")\n",
    "\n",
    "confusion2 = sklearn.metrics.confusion_matrix(\n",
    "    ygen[:, 0], ypred[:, 0],\n",
    ")"
   ]
  },
  {
   "cell_type": "code",
   "execution_count": null,
   "metadata": {},
   "outputs": [],
   "source": [
    "np.round(confusion, 2)"
   ]
  },
  {
   "cell_type": "code",
   "execution_count": null,
   "metadata": {},
   "outputs": [],
   "source": [
    "np.round(confusion2,2)"
   ]
  },
  {
   "cell_type": "code",
   "execution_count": null,
   "metadata": {},
   "outputs": [],
   "source": [
    "sklearn.metrics.accuracy_score(ygen[:, 0], ycand[:, 0])"
   ]
  },
  {
   "cell_type": "code",
   "execution_count": null,
   "metadata": {},
   "outputs": [],
   "source": [
    "sklearn.metrics.accuracy_score(ygen[:, 0], ypred[:, 0])"
   ]
  },
  {
   "cell_type": "code",
   "execution_count": null,
   "metadata": {},
   "outputs": [],
   "source": [
    "plt.imshow(confusion, cmap=\"Blues\", norm=LogNorm(vmin=1, vmax=200000))\n",
    "plt.title(\"Reconstructed PID (normed to gen)\")\n",
    "plt.xlabel(\"Delphes PF PID\")\n",
    "plt.ylabel(\"Gen PID\")\n",
    "plt.xticks(range(6), [\"none\", \"ch.had\", \"n.had\", \"g\", \"el\", \"mu\"]);\n",
    "plt.yticks(range(6), [\"none\", \"ch.had\", \"n.had\", \"g\", \"el\", \"mu\"]);\n",
    "plt.colorbar()"
   ]
  },
  {
   "cell_type": "code",
   "execution_count": null,
   "metadata": {},
   "outputs": [],
   "source": [
    "plt.imshow(confusion2, cmap=\"Blues\", norm=LogNorm(vmin=1, vmax=300000))\n",
    "plt.title(\"Reconstructed PID (normed to gen)\")\n",
    "plt.xlabel(\"MLPF PID\")\n",
    "plt.ylabel(\"Gen PID\")\n",
    "plt.xticks(range(6), [\"none\", \"ch.had\", \"n.had\", \"g\", \"el\", \"mu\"]);\n",
    "plt.yticks(range(6), [\"none\", \"ch.had\", \"n.had\", \"g\", \"el\", \"mu\"]);\n",
    "plt.colorbar()"
   ]
  },
  {
   "cell_type": "code",
   "execution_count": null,
   "metadata": {},
   "outputs": [],
   "source": []
  }
 ],
 "metadata": {
  "kernelspec": {
   "display_name": "Python 3",
   "language": "python",
   "name": "python3"
  },
  "language_info": {
   "codemirror_mode": {
    "name": "ipython",
    "version": 3
   },
   "file_extension": ".py",
   "mimetype": "text/x-python",
   "name": "python",
   "nbconvert_exporter": "python",
   "pygments_lexer": "ipython3",
   "version": "3.6.9"
  }
 },
 "nbformat": 4,
 "nbformat_minor": 4
}
