{
 "cells": [
  {
   "cell_type": "code",
   "execution_count": null,
   "metadata": {},
   "outputs": [],
   "source": [
    "import pickle\n",
    "import matplotlib\n",
    "import matplotlib.pyplot as plt\n",
    "import numpy as np\n",
    "import uproot_methods\n",
    "import networkx as nx"
   ]
  },
  {
   "cell_type": "code",
   "execution_count": null,
   "metadata": {},
   "outputs": [],
   "source": [
    "matrices = pickle.load(open(\"out.pkl\", \"rb\"))\n",
    "\n",
    "#this pred file is created by the training script\n",
    "pred = np.load(\"experiments/run_01/pred.npz\")\n",
    "yp = pred[\"y_pred\"]"
   ]
  },
  {
   "cell_type": "code",
   "execution_count": null,
   "metadata": {
    "scrolled": false
   },
   "outputs": [],
   "source": [
    "ypreds = []\n",
    "ycands = []\n",
    "ygens = []\n",
    "for i in range(len(matrices[\"X\"])):\n",
    "    padval = 5000\n",
    "    ycand = matrices[\"ycand\"][i][:padval]\n",
    "    ygen = matrices[\"ygen\"][i][:padval]\n",
    "    ycands.append(ycand)\n",
    "    ygens.append(ygen)\n",
    "    ypreds.append(yp[i, :ycand.shape[0]])\n",
    "    \n",
    "ygen = np.concatenate(ygens, axis=0)\n",
    "ycand = np.concatenate(ycands, axis=0)\n",
    "ypred = np.concatenate(ypreds, axis=0)\n",
    "ypred_id = np.expand_dims(np.argmax(ypred[:, :6], axis=-1), -1)\n",
    "ypred_charge = ypred[:, 6:7]\n",
    "ypred_p4 = ypred[:, 7:]\n",
    "print(ypred_id.shape, ypred_charge.shape, ypred_p4.shape)\n",
    "\n",
    "ypred = np.concatenate([ypred_id, ypred_charge, ypred_p4], axis=-1)"
   ]
  },
  {
   "cell_type": "code",
   "execution_count": null,
   "metadata": {},
   "outputs": [],
   "source": [
    "rng = np.linspace(0, 200, 100)\n",
    "pid = 2\n",
    "var_idx = 5\n",
    "\n",
    "pid_names = {\n",
    "    1: \"charged hadrons\",\n",
    "    2: \"neutral hadrons\",\n",
    "    3: \"photons\",\n",
    "    4: \"electrons\",\n",
    "    5: \"muons\",\n",
    "}\n",
    "var_names = {\n",
    "    2: \"pT\",\n",
    "    3: \"eta\",\n",
    "    4: \"phi\",\n",
    "    5: \"E\"\n",
    "}\n",
    "\n",
    "msk = (ygen[:, 0]==pid) & (ypred[:, 0]==pid) & (ycand[:, 0]==pid)\n",
    "\n",
    "plt.figure(figsize=(5,5))\n",
    "plt.title(\"{} regression, {}\".format(var_names[var_idx], pid_names[pid]))\n",
    "plt.hist2d(\n",
    "    ygen[msk, var_idx],\n",
    "    ypred[msk, var_idx],\n",
    "    bins=(rng, rng),\n",
    "    cmap=\"Blues\",\n",
    "    norm=matplotlib.colors.LogNorm()\n",
    ");\n",
    "plt.xlabel(\"Gen {}\".format(var_names[var_idx]))\n",
    "plt.ylabel(\"MLPF {}\".format(var_names[var_idx]))\n",
    "\n",
    "msk = (ygen[:, 0]==pid) & (ycand[:, 0]==pid)\n",
    "plt.figure(figsize=(5,5))\n",
    "plt.title(\"{} regression, {}\".format(var_names[var_idx], pid_names[pid]))\n",
    "plt.hist2d(\n",
    "    ygen[msk, var_idx],\n",
    "    ycand[msk, var_idx],\n",
    "    bins=(rng, rng),\n",
    "    cmap=\"Blues\",\n",
    "    norm=matplotlib.colors.LogNorm()\n",
    ");\n",
    "plt.xlabel(\"Gen {}\".format(var_names[var_idx]))\n",
    "plt.ylabel(\"DelphesPF {}\".format(var_names[var_idx]))"
   ]
  },
  {
   "cell_type": "code",
   "execution_count": null,
   "metadata": {
    "scrolled": false
   },
   "outputs": [],
   "source": [
    "def plot_reso(pid, var_idx, rng):\n",
    "    msk = (ygen[:, 0]==pid) & (ypred[:, 0]==pid) & (ycand[:, 0]==pid)\n",
    "    bins = np.linspace(-rng, rng, 100)\n",
    "    yg = ygen[msk, var_idx]\n",
    "    yp = ypred[msk, var_idx]\n",
    "    yc = ycand[msk, var_idx]\n",
    "    ratio_mlpf = (yp - yg) / yg\n",
    "    ratio_dpf = (yc - yg) / yg\n",
    "    ratio_mlpf[yg==0] = -1\n",
    "    ratio_dpf[yg==0] = -1\n",
    "\n",
    "    plt.figure(figsize=(4,4))\n",
    "    ax = plt.axes()\n",
    "    plt.title(\"{} resolution for {}\".format(var_names[var_idx], pid_names[pid]))\n",
    "    plt.hist(ratio_mlpf, bins=bins, histtype=\"step\", lw=2, density=1.0, label=\"MLPF\\n$\\mu={:.1f},\\\\ \\sigma={:.1f}$\".format(np.mean(ratio_mlpf), np.std(ratio_mlpf)));\n",
    "    plt.hist(ratio_dpf, bins=bins, histtype=\"step\", lw=2, density=1.0, label=\"DelphesPF\\n$\\mu={:.1f},\\\\ \\sigma={:.1f}$\".format(np.mean(ratio_dpf), np.std(ratio_dpf)));\n",
    "    plt.legend(frameon=False)\n",
    "    plt.ylim(0, ax.get_ylim()[1]*2)"
   ]
  },
  {
   "cell_type": "code",
   "execution_count": null,
   "metadata": {},
   "outputs": [],
   "source": [
    "def midpoints(x):\n",
    "    return x[:-1] + np.diff(x)/2"
   ]
  },
  {
   "cell_type": "code",
   "execution_count": null,
   "metadata": {},
   "outputs": [],
   "source": [
    "pid = 2\n",
    "b = np.linspace(0, 5, 100)\n",
    "msk_gen = ygen[:, 0]==pid\n",
    "msk_pred = ypred[:, 0]==pid\n",
    "msk_cand = ycand[:, 0]==pid\n",
    "hist_gen = np.histogram(ygen[msk_gen, 2], bins=b);\n",
    "hist_cand = np.histogram(ygen[msk_gen & msk_cand, 2], bins=b);\n",
    "hist_pred = np.histogram(ygen[msk_gen & msk_pred, 2], bins=b);\n",
    "\n",
    "plt.figure(figsize=(4,4))\n",
    "plt.plot(midpoints(hist_gen[1]), hist_cand[0]/hist_gen[0], marker=\".\", lw=0, label=\"Delphes-PF\")\n",
    "plt.plot(midpoints(hist_gen[1]), hist_pred[0]/hist_gen[0], marker=\".\", lw=0, label=\"MLPF\")\n",
    "plt.legend(frameon=False, loc=\"best\")\n",
    "plt.ylim(0,2)\n",
    "plt.xlabel(\"gen pT\")\n",
    "plt.ylabel(\"efficiency\")"
   ]
  },
  {
   "cell_type": "code",
   "execution_count": null,
   "metadata": {},
   "outputs": [],
   "source": [
    "plot_reso(1, 2, 2)\n",
    "plot_reso(1, 3, 0.5)\n",
    "plot_reso(1, 4, 0.5)"
   ]
  },
  {
   "cell_type": "code",
   "execution_count": null,
   "metadata": {},
   "outputs": [],
   "source": [
    "plot_reso(2, 5, 2)\n",
    "plot_reso(2, 3, 0.5)\n",
    "plot_reso(2, 4, 0.5)"
   ]
  },
  {
   "cell_type": "code",
   "execution_count": null,
   "metadata": {},
   "outputs": [],
   "source": [
    "plot_reso(3, 5, 2)\n",
    "plot_reso(3, 3, 0.5)\n",
    "plot_reso(3, 4, 0.5)"
   ]
  },
  {
   "cell_type": "code",
   "execution_count": null,
   "metadata": {
    "scrolled": false
   },
   "outputs": [],
   "source": [
    "plot_reso(4, 5, 2)\n",
    "plot_reso(4, 3, 0.5)\n",
    "plot_reso(4, 4, 0.5)"
   ]
  },
  {
   "cell_type": "code",
   "execution_count": null,
   "metadata": {},
   "outputs": [],
   "source": [
    "import sklearn\n",
    "import sklearn.metrics"
   ]
  },
  {
   "cell_type": "code",
   "execution_count": null,
   "metadata": {},
   "outputs": [],
   "source": [
    "pid=3\n",
    "bins = np.linspace(0,100,100)\n",
    "plt.hist(ygen[ygen[:, 0]==pid, 5], bins=bins, lw=2, histtype=\"step\");\n",
    "plt.hist(ycand[ycand[:, 0]==pid, 5], bins=bins, lw=2, histtype=\"step\");\n",
    "plt.axvline(10.0, color=\"black\", lw=1)\n",
    "plt.yscale(\"log\")"
   ]
  },
  {
   "cell_type": "code",
   "execution_count": null,
   "metadata": {},
   "outputs": [],
   "source": [
    "confusion = sklearn.metrics.confusion_matrix(\n",
    "    ygen[:, 0], ycand[:, 0], normalize=\"true\"\n",
    ")\n",
    "\n",
    "confusion2 = sklearn.metrics.confusion_matrix(\n",
    "    ygen[:, 0], ypred[:, 0], normalize=\"true\"\n",
    ")"
   ]
  },
  {
   "cell_type": "code",
   "execution_count": null,
   "metadata": {},
   "outputs": [],
   "source": [
    "np.round(confusion, 2)"
   ]
  },
  {
   "cell_type": "code",
   "execution_count": null,
   "metadata": {},
   "outputs": [],
   "source": [
    "msk = ycand[:, 0] == 3\n",
    "plt.hist(ycand[msk, 5], bins=np.linspace(0,50,100));"
   ]
  },
  {
   "cell_type": "code",
   "execution_count": null,
   "metadata": {},
   "outputs": [],
   "source": [
    "plt.imshow(confusion, cmap=\"Blues\")\n",
    "plt.title(\"Reconstructed PID (normed to gen)\")\n",
    "plt.xlabel(\"Delphes PF PID\")\n",
    "plt.ylabel(\"Gen PID\")\n",
    "plt.xticks(range(6), [\"none\", \"ch.had\", \"n.had\", \"g\", \"mu\", \"el\"]);\n",
    "plt.yticks(range(6), [\"none\", \"ch.had\", \"n.had\", \"g\", \"mu\", \"el\"]);\n",
    "plt.colorbar()"
   ]
  },
  {
   "cell_type": "code",
   "execution_count": null,
   "metadata": {},
   "outputs": [],
   "source": [
    "plt.imshow(confusion2, cmap=\"Blues\")\n",
    "plt.title(\"Reconstructed PID (normed to gen)\")\n",
    "plt.xlabel(\"MLPF PID\")\n",
    "plt.ylabel(\"Gen PID\")\n",
    "plt.xticks(range(6), [\"none\", \"ch.had\", \"n.had\", \"g\", \"mu\", \"el\"]);\n",
    "plt.yticks(range(6), [\"none\", \"ch.had\", \"n.had\", \"g\", \"mu\", \"el\"]);\n",
    "plt.colorbar()"
   ]
  },
  {
   "cell_type": "code",
   "execution_count": null,
   "metadata": {},
   "outputs": [],
   "source": []
  }
 ],
 "metadata": {
  "kernelspec": {
   "display_name": "Python 3",
   "language": "python",
   "name": "python3"
  },
  "language_info": {
   "codemirror_mode": {
    "name": "ipython",
    "version": 3
   },
   "file_extension": ".py",
   "mimetype": "text/x-python",
   "name": "python",
   "nbconvert_exporter": "python",
   "pygments_lexer": "ipython3",
   "version": "3.6.9"
  }
 },
 "nbformat": 4,
 "nbformat_minor": 4
}
