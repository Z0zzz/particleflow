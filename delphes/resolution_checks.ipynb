{
 "cells": [
  {
   "cell_type": "code",
   "execution_count": null,
   "metadata": {},
   "outputs": [],
   "source": [
    "import pickle\n",
    "import matplotlib\n",
    "import matplotlib.pyplot as plt\n",
    "import numpy as np\n",
    "import uproot_methods\n",
    "import networkx as nx\n",
    "import glob"
   ]
  },
  {
   "cell_type": "code",
   "execution_count": null,
   "metadata": {},
   "outputs": [],
   "source": [
    "infiles = list(sorted(glob.glob(\"out/pythia8_ttbar/tev14_pythia8_ttbar_000_*.pkl\")))"
   ]
  },
  {
   "cell_type": "code",
   "execution_count": null,
   "metadata": {},
   "outputs": [],
   "source": [
    "padval = 128*40\n",
    "\n",
    "def load_pkl(infiles):\n",
    "    ygens = []\n",
    "    ycands = []\n",
    "    \n",
    "    for inf in infiles:\n",
    "        mat = pickle.load(open(inf, 'rb'))\n",
    "        \n",
    "        for i in range(len(mat[\"ygen\"])):\n",
    "            y = np.array(mat[\"ygen\"][i][:padval], np.float32)\n",
    "            y = np.pad(y, [(0, padval - y.shape[0]), (0,0)])\n",
    "            ygens.append(y)\n",
    "\n",
    "            y = np.array(mat[\"ycand\"][i][:padval], np.float32)\n",
    "            y = np.pad(y, [(0, padval - y.shape[0]), (0,0)])\n",
    "            ycands.append(y)\n",
    "\n",
    "    return np.concatenate(ygens, axis=0), np.concatenate(ycands, axis=0)"
   ]
  },
  {
   "cell_type": "code",
   "execution_count": null,
   "metadata": {},
   "outputs": [],
   "source": [
    "ygen, ycand = load_pkl(infiles)\n",
    "\n",
    "ygen[:, 2] = np.log(ygen[:, 2])\n",
    "ygen[:, 6] = np.log(ygen[:, 6])\n",
    "ygen[np.isnan(ygen)] = 0.0\n",
    "ygen[np.isinf(ygen)] = 0.0\n",
    "\n",
    "ycand[:, 2] = np.log(ycand[:, 2])\n",
    "ycand[:, 6] = np.log(ycand[:, 6])\n",
    "ycand[np.isnan(ycand)] = 0.0\n",
    "ycand[np.isinf(ycand)] = 0.0\n",
    "\n",
    "#this pred file is created by the training script\n",
    "pred = np.load(\"experiments/run_09/pred.npz\")\n",
    "yp = pred[\"y_pred\"]\n",
    "print(yp.shape)\n",
    "ypreds = []\n",
    "for i in range(len(yp)):\n",
    "    ypreds.append(yp[i, :padval])\n",
    "    \n",
    "ypred = np.concatenate(ypreds, axis=0)\n",
    "ypred_id = np.expand_dims(np.argmax(ypred[:, :6], axis=-1), -1)\n",
    "ypred_charge = ypred[:, 6:7]\n",
    "ypred_p4 = ypred[:, 7:]\n",
    "\n",
    "ypred = np.concatenate([ypred_id, ypred_charge, ypred_p4], axis=-1)"
   ]
  },
  {
   "cell_type": "code",
   "execution_count": null,
   "metadata": {},
   "outputs": [],
   "source": [
    "print(ygen.shape)\n",
    "print(ycand.shape)\n",
    "print(ypred.shape)"
   ]
  },
  {
   "cell_type": "code",
   "execution_count": null,
   "metadata": {},
   "outputs": [],
   "source": [
    "rng = np.linspace(-5, 10, 100)\n",
    "pid = 1\n",
    "var_idx = 3\n",
    "\n",
    "pid_names = {\n",
    "    1: \"charged hadrons\",\n",
    "    2: \"neutral hadrons\",\n",
    "    3: \"photons\",\n",
    "    4: \"electrons\",\n",
    "    5: \"muons\",\n",
    "}\n",
    "var_names = {\n",
    "    2: \"pT\",\n",
    "    3: \"eta\",\n",
    "    4: \"sin phi\",\n",
    "    5: \"cos phi\",\n",
    "    6: \"E\"\n",
    "}\n",
    "\n",
    "msk = (ygen[:, 0]==pid) & (ypred[:, 0]==pid) & (ycand[:, 0]==pid)\n",
    "\n",
    "plt.figure(figsize=(5,5))\n",
    "plt.title(\"{} regression, {}\".format(var_names[var_idx], pid_names[pid]))\n",
    "plt.hist2d(\n",
    "    ygen[msk, var_idx],\n",
    "    ypred[msk, var_idx],\n",
    "    bins=(rng, rng),\n",
    "    cmap=\"Blues\",\n",
    "    norm=matplotlib.colors.LogNorm()\n",
    ");\n",
    "plt.xlabel(\"Gen {}\".format(var_names[var_idx]))\n",
    "plt.ylabel(\"MLPF {}\".format(var_names[var_idx]))\n",
    "\n",
    "msk = (ygen[:, 0]==pid) & (ycand[:, 0]==pid)\n",
    "plt.figure(figsize=(5,5))\n",
    "plt.title(\"{} regression, {}\".format(var_names[var_idx], pid_names[pid]))\n",
    "plt.hist2d(\n",
    "    ygen[msk, var_idx],\n",
    "    ycand[msk, var_idx],\n",
    "    bins=(rng, rng),\n",
    "    cmap=\"Blues\",\n",
    "    norm=matplotlib.colors.LogNorm()\n",
    ");\n",
    "plt.xlabel(\"Gen {}\".format(var_names[var_idx]))\n",
    "plt.ylabel(\"DelphesPF {}\".format(var_names[var_idx]))"
   ]
  },
  {
   "cell_type": "code",
   "execution_count": null,
   "metadata": {
    "scrolled": false
   },
   "outputs": [],
   "source": [
    "def plot_reso(pid, var_idx, rng):\n",
    "    msk = (ygen[:, 0]==pid) & (ypred[:, 0]==pid) & (ycand[:, 0]==pid)\n",
    "    bins = np.linspace(-rng, rng, 100)\n",
    "    yg = ygen[msk, var_idx]\n",
    "    yp = ypred[msk, var_idx]\n",
    "    yc = ycand[msk, var_idx]\n",
    "    ratio_mlpf = (yp - yg) / yg\n",
    "    ratio_dpf = (yc - yg) / yg\n",
    "    ratio_mlpf[yg==0] = -1\n",
    "    ratio_dpf[yg==0] = -1\n",
    "\n",
    "    plt.figure(figsize=(4,4))\n",
    "    ax = plt.axes()\n",
    "    plt.title(\"{} resolution for {}\".format(var_names[var_idx], pid_names[pid]))\n",
    "    plt.hist(ratio_mlpf, bins=bins, histtype=\"step\", lw=2, density=1.0, label=\"MLPF\\n$\\mu={:.1f},\\\\ \\sigma={:.1f}$\".format(np.mean(ratio_mlpf), np.std(ratio_mlpf)));\n",
    "    plt.hist(ratio_dpf, bins=bins, histtype=\"step\", lw=2, density=1.0, label=\"DelphesPF\\n$\\mu={:.1f},\\\\ \\sigma={:.1f}$\".format(np.mean(ratio_dpf), np.std(ratio_dpf)));\n",
    "    plt.legend(frameon=False)\n",
    "    plt.ylim(0, ax.get_ylim()[1]*2)"
   ]
  },
  {
   "cell_type": "code",
   "execution_count": null,
   "metadata": {},
   "outputs": [],
   "source": [
    "def midpoints(x):\n",
    "    return x[:-1] + np.diff(x)/2"
   ]
  },
  {
   "cell_type": "code",
   "execution_count": null,
   "metadata": {},
   "outputs": [],
   "source": [
    "pid = 1\n",
    "\n",
    "b = np.linspace(-2, 3, 100)\n",
    "msk_gen = ygen[:, 0]==pid\n",
    "msk_pred = ypred[:, 0]==pid\n",
    "msk_cand = ycand[:, 0]==pid\n",
    "hist_gen = np.histogram(ygen[msk_gen, 2], bins=b);\n",
    "hist_cand = np.histogram(ygen[msk_gen & msk_cand, 2], bins=b);\n",
    "hist_pred = np.histogram(ygen[msk_gen & msk_pred, 2], bins=b);\n",
    "\n",
    "plt.figure(figsize=(4,4))\n",
    "plt.hist(ygen[msk_gen&msk_pred&msk_cand, 6], bins=np.linspace(-8, 8, 100), label=\"Gen\", histtype=\"step\", density=True)\n",
    "plt.hist(ypred[msk_gen&msk_pred&msk_cand, 6], bins=np.linspace(-8, 8, 100), label=\"MLPF\", histtype=\"step\", density=True)\n",
    "plt.hist(ycand[msk_gen&msk_pred&msk_cand, 6], bins=np.linspace(-8, 8, 100), label=\"Delphes-PF\", histtype=\"step\", density=True)\n",
    "plt.legend(frameon=False, loc=\"best\")\n",
    "plt.ylim(0,1)\n",
    "plt.xlabel(\"log gen E/GeV\")\n",
    "plt.ylabel(\"efficiency\")\n",
    "\n",
    "plt.figure(figsize=(4,4))\n",
    "plt.title(\"reco efficiency for {}\".format(pid_names[pid]))\n",
    "plt.plot(midpoints(hist_gen[1]), hist_cand[0]/hist_gen[0], marker=\".\", lw=0, label=\"Delphes-PF\")\n",
    "plt.plot(midpoints(hist_gen[1]), hist_pred[0]/hist_gen[0], marker=\".\", lw=0, label=\"MLPF\")\n",
    "plt.legend(frameon=False, loc=\"best\")\n",
    "plt.ylim(0,1.2)\n",
    "plt.xlabel(\"log gen pT/GeV\")\n",
    "plt.ylabel(\"efficiency\")\n",
    "\n",
    "hist_cand2 = np.histogram(ygen[msk_cand & (ygen[:, 0]!=0), 2], bins=b);\n",
    "hist_pred2 = np.histogram(ygen[msk_pred & (ygen[:, 0]!=0), 2], bins=b);\n",
    "hist_cand_gen2 = np.histogram(ygen[msk_cand & ~msk_gen & (ygen[:, 0]!=0), 2], bins=b);\n",
    "hist_pred_gen2 = np.histogram(ygen[msk_pred & ~msk_gen & (ygen[:, 0]!=0), 2], bins=b);\n",
    "\n",
    "plt.figure(figsize=(4,4))\n",
    "plt.title(\"reco fake rate for {}\".format(pid_names[pid]))\n",
    "plt.plot(midpoints(hist_cand2[1]), hist_cand_gen2[0]/hist_cand2[0], marker=\".\", lw=0, label=\"Delphes-PF\")\n",
    "plt.plot(midpoints(hist_pred2[1]), hist_pred_gen2[0]/hist_pred2[0], marker=\".\", lw=0, label=\"MLPF\")\n",
    "plt.legend(frameon=False, loc=\"best\")\n",
    "plt.ylim(0,1.2)\n",
    "plt.xlabel(\"log gen pT/GeV\")\n",
    "plt.ylabel(\"fake rate\")"
   ]
  },
  {
   "cell_type": "code",
   "execution_count": null,
   "metadata": {},
   "outputs": [],
   "source": [
    "np.sum(msk_pred & ~msk_gen)"
   ]
  },
  {
   "cell_type": "code",
   "execution_count": null,
   "metadata": {},
   "outputs": [],
   "source": [
    "np.sum(msk_pred)"
   ]
  },
  {
   "cell_type": "code",
   "execution_count": null,
   "metadata": {},
   "outputs": [],
   "source": [
    "np.sum(msk_pred & msk_gen)"
   ]
  },
  {
   "cell_type": "code",
   "execution_count": null,
   "metadata": {},
   "outputs": [],
   "source": [
    "plot_reso(1, 2, 2)\n",
    "plot_reso(1, 3, 0.05)\n",
    "plot_reso(1, 4, 0.05)\n",
    "plot_reso(1, 5, 0.05)"
   ]
  },
  {
   "cell_type": "code",
   "execution_count": null,
   "metadata": {},
   "outputs": [],
   "source": [
    "plot_reso(2, 6, 2)\n",
    "plot_reso(2, 3, 0.5)\n",
    "plot_reso(2, 4, 0.5)\n",
    "plot_reso(2, 5, 0.5)"
   ]
  },
  {
   "cell_type": "code",
   "execution_count": null,
   "metadata": {},
   "outputs": [],
   "source": [
    "plot_reso(3, 6, 2)\n",
    "plot_reso(3, 3, 0.5)\n",
    "plot_reso(3, 4, 0.5)\n",
    "plot_reso(3, 5, 0.5)"
   ]
  },
  {
   "cell_type": "code",
   "execution_count": null,
   "metadata": {
    "scrolled": false
   },
   "outputs": [],
   "source": [
    "plot_reso(4, 2, 2)\n",
    "plot_reso(4, 3, 0.5)\n",
    "plot_reso(4, 4, 0.5)\n",
    "plot_reso(4, 5, 0.5)"
   ]
  },
  {
   "cell_type": "code",
   "execution_count": null,
   "metadata": {},
   "outputs": [],
   "source": [
    "import sklearn\n",
    "import sklearn.metrics"
   ]
  },
  {
   "cell_type": "code",
   "execution_count": null,
   "metadata": {},
   "outputs": [],
   "source": [
    "confusion = sklearn.metrics.confusion_matrix(\n",
    "    ygen[:, 0], ycand[:, 0], normalize=\"true\"\n",
    ")\n",
    "\n",
    "confusion2 = sklearn.metrics.confusion_matrix(\n",
    "    ygen[:, 0], ypred[:, 0], normalize=\"true\"\n",
    ")"
   ]
  },
  {
   "cell_type": "code",
   "execution_count": null,
   "metadata": {},
   "outputs": [],
   "source": [
    "np.round(confusion, 2)"
   ]
  },
  {
   "cell_type": "code",
   "execution_count": null,
   "metadata": {},
   "outputs": [],
   "source": [
    "np.round(confusion2,2)"
   ]
  },
  {
   "cell_type": "code",
   "execution_count": null,
   "metadata": {},
   "outputs": [],
   "source": [
    "sklearn.metrics.accuracy_score(ygen[:, 0], ycand[:, 0])"
   ]
  },
  {
   "cell_type": "code",
   "execution_count": null,
   "metadata": {},
   "outputs": [],
   "source": [
    "sklearn.metrics.accuracy_score(ygen[:, 0], ypred[:, 0])"
   ]
  },
  {
   "cell_type": "code",
   "execution_count": null,
   "metadata": {},
   "outputs": [],
   "source": [
    "plt.imshow(confusion, cmap=\"Blues\")\n",
    "plt.title(\"Reconstructed PID (normed to gen)\")\n",
    "plt.xlabel(\"Delphes PF PID\")\n",
    "plt.ylabel(\"Gen PID\")\n",
    "plt.xticks(range(6), [\"none\", \"ch.had\", \"n.had\", \"g\", \"el\", \"mu\"]);\n",
    "plt.yticks(range(6), [\"none\", \"ch.had\", \"n.had\", \"g\", \"el\", \"mu\"]);\n",
    "plt.colorbar()"
   ]
  },
  {
   "cell_type": "code",
   "execution_count": null,
   "metadata": {},
   "outputs": [],
   "source": [
    "plt.imshow(confusion2, cmap=\"Blues\")\n",
    "plt.title(\"Reconstructed PID (normed to gen)\")\n",
    "plt.xlabel(\"MLPF PID\")\n",
    "plt.ylabel(\"Gen PID\")\n",
    "plt.xticks(range(6), [\"none\", \"ch.had\", \"n.had\", \"g\", \"el\", \"mu\"]);\n",
    "plt.yticks(range(6), [\"none\", \"ch.had\", \"n.had\", \"g\", \"el\", \"mu\"]);\n",
    "plt.colorbar()"
   ]
  }
 ],
 "metadata": {
  "kernelspec": {
   "display_name": "Python 3",
   "language": "python",
   "name": "python3"
  },
  "language_info": {
   "codemirror_mode": {
    "name": "ipython",
    "version": 3
   },
   "file_extension": ".py",
   "mimetype": "text/x-python",
   "name": "python",
   "nbconvert_exporter": "python",
   "pygments_lexer": "ipython3",
   "version": "3.6.9"
  }
 },
 "nbformat": 4,
 "nbformat_minor": 4
}
