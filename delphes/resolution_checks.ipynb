{
 "cells": [
  {
   "cell_type": "code",
   "execution_count": null,
   "metadata": {},
   "outputs": [],
   "source": [
    "import pickle\n",
    "#%matplotlib notebook\n",
    "import matplotlib\n",
    "import matplotlib.pyplot as plt\n",
    "import numpy as np\n",
    "import uproot_methods\n",
    "import networkx as nx\n",
    "import glob\n",
    "from matplotlib.colors import LogNorm\n",
    "import pandas"
   ]
  },
  {
   "cell_type": "code",
   "execution_count": null,
   "metadata": {},
   "outputs": [],
   "source": [
    "data = pickle.load(open(\"out/pythia8_ttbar/tev14_pythia8_ttbar_000_0.pkl\", \"rb\"))"
   ]
  },
  {
   "cell_type": "code",
   "execution_count": null,
   "metadata": {},
   "outputs": [],
   "source": [
    "X = data[\"X\"][0]\n",
    "ycand = data[\"ycand\"][0]"
   ]
  },
  {
   "cell_type": "code",
   "execution_count": null,
   "metadata": {},
   "outputs": [],
   "source": [
    "msk_trk = X[:, 0] == 2\n",
    "msk_ecal = (X[:, 0] == 1) & (X[:, 6] > 0)\n",
    "msk_hcal = (X[:, 0] == 1) & (X[:, 7] > 0)"
   ]
  },
  {
   "cell_type": "code",
   "execution_count": null,
   "metadata": {},
   "outputs": [],
   "source": [
    "arr_trk = pandas.DataFrame(X[msk_trk], columns=[\"id\", \"pt\", \"eta\", \"sphi\", \"cphi\", \"p\", \"eta_outer\", \"sphi_outer\", \"cphi_outer\", \"charge\", \"is_gen_muon\", \"is_gen_ele\"])\n",
    "arr_ecal = pandas.DataFrame(X[msk_ecal][:, :6], columns=[\"id\", \"et\", \"eta\", \"sphi\", \"cphi\", \"e\"])\n",
    "arr_hcal = pandas.DataFrame(X[msk_hcal][:, :6], columns=[\"id\", \"et\", \"eta\", \"sphi\", \"cphi\", \"e\"])\n",
    "\n",
    "arr_cand = pandas.DataFrame(ycand[ycand[:, 0]!=0], columns=[\"id\", \"charge\", \"pt\", \"eta\", \"sphi\", \"cphi\", \"energy\"])"
   ]
  },
  {
   "cell_type": "code",
   "execution_count": null,
   "metadata": {},
   "outputs": [],
   "source": [
    "points_a = arr_trk[\"eta\"].values, np.arctan2(arr_trk[\"sphi\"], arr_trk[\"cphi\"]).values\n",
    "points_b = arr_trk[\"eta_outer\"].values, np.arctan2(arr_trk[\"sphi_outer\"], arr_trk[\"cphi_outer\"]).values"
   ]
  },
  {
   "cell_type": "code",
   "execution_count": null,
   "metadata": {},
   "outputs": [],
   "source": [
    "r1 = 0.5\n",
    "r2 = 1.0\n",
    "r3 = 1.2\n",
    "r4 = 1.4\n",
    "r5 = 1.6\n",
    "\n",
    "points = []\n",
    "for i in range(len(arr_trk)):\n",
    "    point = []\n",
    "    point.append((0,0,0))\n",
    "    point.append((points_a[0][i], r1*np.sin(points_a[1][i]), r1*np.cos(points_a[1][i])))\n",
    "    point.append((points_b[0][i], r2*np.sin(points_b[1][i]), r2*np.cos(points_b[1][i])))\n",
    "    points.append(point)"
   ]
  },
  {
   "cell_type": "code",
   "execution_count": null,
   "metadata": {},
   "outputs": [],
   "source": [
    "import mpl_toolkits"
   ]
  },
  {
   "cell_type": "code",
   "execution_count": null,
   "metadata": {},
   "outputs": [],
   "source": [
    "fig = plt.figure(figsize=(10,10))\n",
    "ax = fig.add_subplot(111, projection='3d')\n",
    "\n",
    "lc = mpl_toolkits.mplot3d.art3d.Line3DCollection(points, linewidths=0.2, color=\"gray\", alpha=0.5)\n",
    "ax.add_collection(lc)\n",
    "\n",
    "ax.scatter(points_a[0], r1*np.sin(points_a[1]), r1*np.cos(points_a[1]), color=\"gray\", s=1.0)\n",
    "ax.scatter(points_b[0], r2*np.sin(points_b[1]), r2*np.cos(points_b[1]), color=\"gray\", s=1.0)\n",
    "# for i in range(len(arr_trk)):\n",
    "#     #print(points[i:i+3, 0])\n",
    "#     kwargs\n",
    "#     ax.plot(points[i:i+3, 0], points[i:i+3, 1], points[i:i+3, 2], marker=\".\", color=\"gray\", alpha=0.05)\n",
    "    \n",
    "ax.scatter(arr_ecal[\"eta\"], r3*arr_ecal[\"sphi\"], r3*arr_ecal[\"cphi\"], s=0.1*arr_ecal[\"e\"], marker=\"s\", alpha=0.5, label=\"ECAL clusters\")\n",
    "ax.scatter(arr_hcal[\"eta\"], r4*arr_hcal[\"sphi\"], r4*arr_hcal[\"cphi\"], s=0.1*arr_hcal[\"e\"], marker=\"s\", alpha=0.5, label=\"HCAL clusters\")\n",
    "ax.scatter(arr_cand[\"eta\"], r5*arr_cand[\"sphi\"], r5*arr_cand[\"cphi\"], alpha=0.2, marker=\"x\", color=\"black\")\n",
    "\n",
    "plt.legend(frameon=False)"
   ]
  },
  {
   "cell_type": "code",
   "execution_count": null,
   "metadata": {},
   "outputs": [],
   "source": [
    "fi = np.load(\"experiments/delphes-transformer-43057970/pred.npz\")\n",
    "ygen = fi[\"ygen\"]\n",
    "ycand = fi[\"ycand\"]\n",
    "ypred = fi[\"ypred\"]\n",
    "\n",
    "ygen = ygen.reshape((ygen.shape[0]*ygen.shape[1], ygen.shape[2]))\n",
    "ycand = ycand.reshape((ycand.shape[0]*ycand.shape[1], ycand.shape[2]))\n",
    "ypred = ypred.reshape((ypred.shape[0]*ypred.shape[1], ypred.shape[2]))"
   ]
  },
  {
   "cell_type": "code",
   "execution_count": null,
   "metadata": {},
   "outputs": [],
   "source": [
    "print(ygen.shape)\n",
    "print(ycand.shape)\n",
    "print(ypred.shape)"
   ]
  },
  {
   "cell_type": "code",
   "execution_count": null,
   "metadata": {
    "scrolled": true
   },
   "outputs": [],
   "source": [
    "pid = 2\n",
    "var = 6\n",
    "bins = np.linspace(0, 100, 100)\n",
    "msk = (ygen[:, 0] == pid)\n",
    "plt.hist(ygen[msk, var], bins=bins, histtype=\"step\", density=True);\n",
    "\n",
    "msk = ycand[:, 0] == pid\n",
    "plt.hist(ycand[msk, var], bins=bins, histtype=\"step\", density=True);"
   ]
  },
  {
   "cell_type": "code",
   "execution_count": null,
   "metadata": {},
   "outputs": [],
   "source": [
    "msk = (ygen[:, 0] == 2) & (ygen[:, 6] > 10)\n",
    "plt.hist(ygen[msk, 6], bins=np.linspace(0, 100, 100), histtype=\"step\", density=True);\n",
    "\n",
    "msk = ycand[:, 0] == 2\n",
    "plt.hist(ycand[msk, 6], bins=np.linspace(0, 100, 100), histtype=\"step\", density=True);"
   ]
  },
  {
   "cell_type": "code",
   "execution_count": null,
   "metadata": {},
   "outputs": [],
   "source": [
    "ranges = {\n",
    "    2: np.linspace(0, 10, 100),\n",
    "    3: np.linspace(-5, 5, 100),\n",
    "    4: np.linspace(-1, 1, 100),\n",
    "    5: np.linspace(-1, 1, 100),\n",
    "    6: np.linspace(0, 100, 100)\n",
    "}\n",
    "\n",
    "pid_names = {\n",
    "    1: \"charged hadrons\",\n",
    "    2: \"neutral hadrons\",\n",
    "    3: \"photons\",\n",
    "    4: \"electrons\",\n",
    "    5: \"muons\",\n",
    "}\n",
    "var_names = {\n",
    "    2: \"pT\",\n",
    "    3: \"eta\",\n",
    "    4: \"sin phi\",\n",
    "    5: \"cos phi\",\n",
    "    6: \"E\"\n",
    "}"
   ]
  },
  {
   "cell_type": "code",
   "execution_count": null,
   "metadata": {},
   "outputs": [],
   "source": [
    "pid = 2\n",
    "var_idx = 6\n",
    "rng = ranges[var_idx]\n",
    "\n",
    "msk = (ygen[:, 0]==pid) & (ypred[:, 0]==pid) & (ycand[:, 0]==pid)\n",
    "\n",
    "plt.figure(figsize=(5,5))\n",
    "plt.title(\"{} regression, {}\".format(var_names[var_idx], pid_names[pid]))\n",
    "plt.hist2d(\n",
    "    ygen[msk, var_idx],\n",
    "    ypred[msk, var_idx],\n",
    "    bins=(rng, rng),\n",
    "    cmap=\"Blues\",\n",
    "    norm=matplotlib.colors.LogNorm()\n",
    ");\n",
    "plt.xlabel(\"Gen {}\".format(var_names[var_idx]))\n",
    "plt.ylabel(\"MLPF {}\".format(var_names[var_idx]))\n",
    "\n",
    "msk = (ygen[:, 0]==pid) & (ycand[:, 0]==pid)\n",
    "plt.figure(figsize=(5,5))\n",
    "plt.title(\"{} regression, {}\".format(var_names[var_idx], pid_names[pid]))\n",
    "plt.hist2d(\n",
    "    ygen[msk, var_idx],\n",
    "    ycand[msk, var_idx],\n",
    "    bins=(rng, rng),\n",
    "    cmap=\"Blues\",\n",
    "    norm=matplotlib.colors.LogNorm()\n",
    ");\n",
    "plt.xlabel(\"Gen {}\".format(var_names[var_idx]))\n",
    "plt.ylabel(\"DelphesPF {}\".format(var_names[var_idx]))"
   ]
  },
  {
   "cell_type": "code",
   "execution_count": null,
   "metadata": {
    "scrolled": false
   },
   "outputs": [],
   "source": [
    "def plot_reso(pid, var_idx, rng):\n",
    "    msk = (ygen[:, 0]==pid) & (ypred[:, 0]==pid) & (ycand[:, 0]==pid)\n",
    "    bins = np.linspace(-rng, rng, 100)\n",
    "    yg = ygen[msk, var_idx]\n",
    "    yp = ypred[msk, var_idx]\n",
    "    yc = ycand[msk, var_idx]\n",
    "    ratio_mlpf = (yp - yg) / yg\n",
    "    ratio_dpf = (yc - yg) / yg\n",
    "    ratio_mlpf[yg==0] = -1\n",
    "    ratio_dpf[yg==0] = -1\n",
    "\n",
    "    plt.figure(figsize=(4,4))\n",
    "    ax = plt.axes()\n",
    "    plt.title(\"{} resolution for {}\".format(var_names[var_idx], pid_names[pid]))\n",
    "    plt.hist(ratio_mlpf, bins=bins, histtype=\"step\", lw=1, density=1.0, label=\"MLPF\\n$\\mu={:.1f},\\\\ \\sigma={:.1f}$\".format(np.mean(ratio_mlpf), np.std(ratio_mlpf)));\n",
    "    plt.hist(ratio_dpf, bins=bins, histtype=\"step\", lw=1, density=1.0, label=\"DelphesPF\\n$\\mu={:.1f},\\\\ \\sigma={:.1f}$\".format(np.mean(ratio_dpf), np.std(ratio_dpf)));\n",
    "    plt.legend(frameon=False)\n",
    "    plt.ylim(0, ax.get_ylim()[1]*2)"
   ]
  },
  {
   "cell_type": "code",
   "execution_count": null,
   "metadata": {},
   "outputs": [],
   "source": [
    "def midpoints(x):\n",
    "    return x[:-1] + np.diff(x)/2"
   ]
  },
  {
   "cell_type": "code",
   "execution_count": null,
   "metadata": {},
   "outputs": [],
   "source": [
    "pid = 2\n",
    "\n",
    "b = np.linspace(0, 10, 100)\n",
    "msk_gen = ygen[:, 0]==pid\n",
    "msk_pred = ypred[:, 0]==pid\n",
    "msk_cand = ycand[:, 0]==pid\n",
    "hist_gen = np.histogram(ygen[msk_gen, 2], bins=b);\n",
    "hist_cand = np.histogram(ygen[msk_gen & msk_cand, 2], bins=b);\n",
    "hist_pred = np.histogram(ygen[msk_gen & msk_pred, 2], bins=b);\n",
    "\n",
    "plt.figure(figsize=(4,4))\n",
    "plt.hist(ygen[msk_gen&msk_pred&msk_cand, 6], bins=np.linspace(0, 100, 100), label=\"Gen\", histtype=\"step\", density=True)\n",
    "plt.hist(ypred[msk_gen&msk_pred&msk_cand, 6], bins=np.linspace(0, 100, 100), label=\"MLPF\", histtype=\"step\", density=True)\n",
    "plt.hist(ycand[msk_gen&msk_pred&msk_cand, 6], bins=np.linspace(0, 100, 100), label=\"Delphes-PF\", histtype=\"step\", density=True)\n",
    "plt.legend(frameon=False, loc=\"best\")\n",
    "#plt.ylim(0,1)\n",
    "plt.xlabel(\"E [GeV]\")\n",
    "plt.ylabel(\"efficiency\")\n",
    "\n",
    "plt.figure(figsize=(4,4))\n",
    "plt.title(\"reco efficiency for {}\".format(pid_names[pid]))\n",
    "plt.plot(midpoints(hist_gen[1]), hist_cand[0]/hist_gen[0], marker=\".\", lw=0, label=\"Delphes-PF\")\n",
    "plt.plot(midpoints(hist_gen[1]), hist_pred[0]/hist_gen[0], marker=\".\", lw=0, label=\"MLPF\")\n",
    "plt.legend(frameon=False, loc=\"best\")\n",
    "plt.ylim(0,1.2)\n",
    "plt.xlabel(\"gen pT [GeV]\")\n",
    "plt.ylabel(\"efficiency\")\n",
    "\n",
    "hist_cand2 = np.histogram(ygen[msk_cand & (ygen[:, 0]!=0), 2], bins=b);\n",
    "hist_pred2 = np.histogram(ygen[msk_pred & (ygen[:, 0]!=0), 2], bins=b);\n",
    "hist_cand_gen2 = np.histogram(ygen[msk_cand & ~msk_gen & (ygen[:, 0]!=0), 2], bins=b);\n",
    "hist_pred_gen2 = np.histogram(ygen[msk_pred & ~msk_gen & (ygen[:, 0]!=0), 2], bins=b);\n",
    "\n",
    "plt.figure(figsize=(4,4))\n",
    "plt.title(\"reco fake rate for {}\".format(pid_names[pid]))\n",
    "plt.plot(midpoints(hist_cand2[1]), hist_cand_gen2[0]/hist_cand2[0], marker=\".\", lw=0, label=\"Delphes-PF\")\n",
    "plt.plot(midpoints(hist_pred2[1]), hist_pred_gen2[0]/hist_pred2[0], marker=\".\", lw=0, label=\"MLPF\")\n",
    "plt.legend(frameon=False, loc=\"best\")\n",
    "plt.ylim(0,1.2)\n",
    "plt.xlabel(\"gen pT [GeV]\")\n",
    "plt.ylabel(\"fake rate\")"
   ]
  },
  {
   "cell_type": "code",
   "execution_count": null,
   "metadata": {},
   "outputs": [],
   "source": [
    "plot_reso(1, 2, 2)\n",
    "plot_reso(1, 3, 0.2)\n",
    "plot_reso(1, 4, 0.2)\n",
    "plot_reso(1, 5, 0.2)"
   ]
  },
  {
   "cell_type": "code",
   "execution_count": null,
   "metadata": {},
   "outputs": [],
   "source": [
    "plot_reso(2, 6, 2)\n",
    "plot_reso(2, 3, 0.5)\n",
    "plot_reso(2, 4, 0.5)\n",
    "plot_reso(2, 5, 0.5)"
   ]
  },
  {
   "cell_type": "code",
   "execution_count": null,
   "metadata": {},
   "outputs": [],
   "source": [
    "plot_reso(3, 6, 2)\n",
    "plot_reso(3, 3, 0.5)\n",
    "plot_reso(3, 4, 0.5)\n",
    "plot_reso(3, 5, 0.5)"
   ]
  },
  {
   "cell_type": "code",
   "execution_count": null,
   "metadata": {
    "scrolled": false
   },
   "outputs": [],
   "source": [
    "plot_reso(4, 2, 2)\n",
    "plot_reso(4, 3, 0.5)\n",
    "plot_reso(4, 4, 0.5)\n",
    "plot_reso(4, 5, 0.5)"
   ]
  },
  {
   "cell_type": "code",
   "execution_count": null,
   "metadata": {},
   "outputs": [],
   "source": [
    "plot_reso(5, 2, 2)\n",
    "plot_reso(5, 3, 0.5)\n",
    "plot_reso(5, 4, 0.5)\n",
    "plot_reso(5, 5, 0.5)"
   ]
  },
  {
   "cell_type": "code",
   "execution_count": null,
   "metadata": {},
   "outputs": [],
   "source": [
    "import sklearn\n",
    "import sklearn.metrics"
   ]
  },
  {
   "cell_type": "code",
   "execution_count": null,
   "metadata": {},
   "outputs": [],
   "source": [
    "confusion = sklearn.metrics.confusion_matrix(\n",
    "    ygen[:, 0], ycand[:, 0], normalize=\"true\"\n",
    ")\n",
    "\n",
    "confusion2 = sklearn.metrics.confusion_matrix(\n",
    "    ygen[:, 0], ypred[:, 0], normalize=\"true\"\n",
    ")"
   ]
  },
  {
   "cell_type": "code",
   "execution_count": null,
   "metadata": {},
   "outputs": [],
   "source": [
    "np.round(confusion, 2)"
   ]
  },
  {
   "cell_type": "code",
   "execution_count": null,
   "metadata": {},
   "outputs": [],
   "source": [
    "np.round(confusion2, 2)"
   ]
  },
  {
   "cell_type": "code",
   "execution_count": null,
   "metadata": {},
   "outputs": [],
   "source": [
    "sklearn.metrics.accuracy_score(ygen[:, 0], ycand[:, 0])"
   ]
  },
  {
   "cell_type": "code",
   "execution_count": null,
   "metadata": {},
   "outputs": [],
   "source": [
    "sklearn.metrics.accuracy_score(ygen[:, 0], ypred[:, 0])"
   ]
  },
  {
   "cell_type": "code",
   "execution_count": null,
   "metadata": {},
   "outputs": [],
   "source": [
    "plt.imshow(confusion, cmap=\"Blues\")\n",
    "plt.title(\"Reconstructed PID (normed to gen)\")\n",
    "plt.xlabel(\"Delphes PF PID\")\n",
    "plt.ylabel(\"Gen PID\")\n",
    "plt.xticks(range(6), [\"none\", \"ch.had\", \"n.had\", \"g\", \"el\", \"mu\"]);\n",
    "plt.yticks(range(6), [\"none\", \"ch.had\", \"n.had\", \"g\", \"el\", \"mu\"]);\n",
    "plt.colorbar()"
   ]
  },
  {
   "cell_type": "code",
   "execution_count": null,
   "metadata": {},
   "outputs": [],
   "source": [
    "plt.imshow(confusion2, cmap=\"Blues\")\n",
    "plt.title(\"Reconstructed PID (normed to gen)\")\n",
    "plt.xlabel(\"MLPF PID\")\n",
    "plt.ylabel(\"Gen PID\")\n",
    "plt.xticks(range(6), [\"none\", \"ch.had\", \"n.had\", \"g\", \"el\", \"mu\"]);\n",
    "plt.yticks(range(6), [\"none\", \"ch.had\", \"n.had\", \"g\", \"el\", \"mu\"]);\n",
    "plt.colorbar()"
   ]
  },
  {
   "cell_type": "code",
   "execution_count": null,
   "metadata": {},
   "outputs": [],
   "source": []
  }
 ],
 "metadata": {
  "kernelspec": {
   "display_name": "Python 3",
   "language": "python",
   "name": "python3"
  },
  "language_info": {
   "codemirror_mode": {
    "name": "ipython",
    "version": 3
   },
   "file_extension": ".py",
   "mimetype": "text/x-python",
   "name": "python",
   "nbconvert_exporter": "python",
   "pygments_lexer": "ipython3",
   "version": "3.6.9"
  }
 },
 "nbformat": 4,
 "nbformat_minor": 4
}
