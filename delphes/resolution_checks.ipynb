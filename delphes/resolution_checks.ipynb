{
 "cells": [
  {
   "cell_type": "code",
   "execution_count": null,
   "metadata": {},
   "outputs": [],
   "source": [
    "import pickle\n",
    "import matplotlib\n",
    "import matplotlib.pyplot as plt\n",
    "import numpy as np\n",
    "import uproot_methods\n",
    "import networkx as nx"
   ]
  },
  {
   "cell_type": "code",
   "execution_count": null,
   "metadata": {},
   "outputs": [],
   "source": [
    "g = pickle.load(open(\"graph_1.pkl\", \"rb\"))"
   ]
  },
  {
   "cell_type": "code",
   "execution_count": null,
   "metadata": {},
   "outputs": [],
   "source": [
    "def has_reco(g, particle):\n",
    "    for edge in g.edges(particle):\n",
    "        if edge[1][0] in [\"tower\", \"track\"]:\n",
    "            return True\n",
    "    return False"
   ]
  },
  {
   "cell_type": "code",
   "execution_count": null,
   "metadata": {},
   "outputs": [],
   "source": [
    "particles = [n for n in g.nodes if n[0] == \"particle\"]\n",
    "particles_with_reco = [n for n in particles if has_reco(g, n)]"
   ]
  },
  {
   "cell_type": "code",
   "execution_count": null,
   "metadata": {},
   "outputs": [],
   "source": [
    "etas = np.array([g.nodes[n][\"eta\"] for n in particles_with_reco])\n",
    "phis = np.array([g.nodes[n][\"phi\"] for n in particles_with_reco])\n",
    "energys = np.array([g.nodes[n][\"energy\"] for n in particles_with_reco])\n",
    "\n",
    "etas_tower = np.array([g.nodes[n][\"eta\"] for n in g.nodes if n[0] == \"tower\"])\n",
    "phis_tower = np.array([g.nodes[n][\"phi\"] for n in g.nodes if n[0] == \"tower\"])\n",
    "energys_tower = np.array([g.nodes[n][\"energy\"] for n in g.nodes if n[0] == \"tower\"])\n",
    "\n",
    "etas_track = np.array([g.nodes[n][\"eta\"] for n in g.nodes if n[0] == \"track\"])\n",
    "phis_track = np.array([g.nodes[n][\"phi\"] for n in g.nodes if n[0] == \"track\"])\n",
    "energys_track = np.array([g.nodes[n][\"pt\"] for n in g.nodes if n[0] == \"track\"])"
   ]
  },
  {
   "cell_type": "code",
   "execution_count": null,
   "metadata": {},
   "outputs": [],
   "source": [
    "plt.figure(figsize=(10,10))\n",
    "plt.scatter(etas, phis, alpha=0.5, marker=\".\", label=\"GenParticle\")\n",
    "plt.scatter(etas_tower, phis_tower, alpha=0.5, marker=\"s\", label=\"Tower\")\n",
    "plt.scatter(etas_track, phis_track, marker=\"x\", label=\"Track\")\n",
    "\n",
    "plt.ylim(-4,4)\n",
    "plt.legend(frameon=False)\n",
    "plt.xlabel(\"eta\")\n",
    "plt.ylabel(\"phi\")"
   ]
  },
  {
   "cell_type": "code",
   "execution_count": null,
   "metadata": {},
   "outputs": [],
   "source": [
    "matrices = pickle.load(open(\"out.pkl\", \"rb\"))\n",
    "\n",
    "#this pred file is created by the training script\n",
    "pred = np.load(\"experiments/run_01/pred.npz\")\n",
    "yp = pred[\"y_pred\"]"
   ]
  },
  {
   "cell_type": "code",
   "execution_count": null,
   "metadata": {
    "scrolled": false
   },
   "outputs": [],
   "source": [
    "ypreds = []\n",
    "ycands = []\n",
    "ygens = []\n",
    "for i in range(len(matrices[\"X\"])):\n",
    "    padval = 5000\n",
    "    ycand = matrices[\"ycand\"][i][:padval]\n",
    "    ygen = matrices[\"ygen\"][i][:padval]\n",
    "    ycands.append(ycand)\n",
    "    ygens.append(ygen)\n",
    "    ypreds.append(yp[i, :ycand.shape[0]])\n",
    "    \n",
    "ygen = np.concatenate(ygens, axis=0)\n",
    "ycand = np.concatenate(ycands, axis=0)\n",
    "ypred = np.concatenate(ypreds, axis=0)\n",
    "ypred_id = np.expand_dims(np.argmax(ypred[:, :6], axis=-1), -1)\n",
    "ypred_charge = ypred[:, 6:7]\n",
    "ypred_p4 = ypred[:, 7:]\n",
    "print(ypred_id.shape, ypred_charge.shape, ypred_p4.shape)\n",
    "\n",
    "ypred = np.concatenate([ypred_id, ypred_charge, ypred_p4], axis=-1)"
   ]
  },
  {
   "cell_type": "code",
   "execution_count": null,
   "metadata": {},
   "outputs": [],
   "source": [
    "rng = np.linspace(0, 20, 100)\n",
    "pid = 1\n",
    "var_idx = 2\n",
    "\n",
    "pid_names = {\n",
    "    1: \"charged hadrons\",\n",
    "    2: \"neutral hadrons\",\n",
    "    3: \"photons\",\n",
    "    4: \"electrons\",\n",
    "    5: \"muons\"\n",
    "}\n",
    "var_names = {\n",
    "    2: \"pT\",\n",
    "    3: \"eta\",\n",
    "    4: \"phi\",\n",
    "    5: \"E\"\n",
    "}\n",
    "\n",
    "msk = (ygen[:, 0]==pid) & (ypred[:, 0]==pid)\n",
    "\n",
    "plt.figure(figsize=(5,5))\n",
    "plt.title(\"{} regression, {}\".format(var_names[var_idx], pid_names[pid]))\n",
    "plt.hist2d(\n",
    "    ygen[msk, var_idx],\n",
    "    ypred[msk, var_idx],\n",
    "    bins=(rng, rng),\n",
    "    cmap=\"Blues\",\n",
    "    norm=matplotlib.colors.LogNorm()\n",
    ");\n",
    "plt.xlabel(\"Gen {}\".format(var_names[var_idx]))\n",
    "plt.ylabel(\"MLPF {}\".format(var_names[var_idx]))\n",
    "\n",
    "msk = (ygen[:, 0]==pid) & (ycand[:, 0]==pid)\n",
    "plt.figure(figsize=(5,5))\n",
    "plt.title(\"{} regression, {}\".format(var_names[var_idx], pid_names[pid]))\n",
    "plt.hist2d(\n",
    "    ygen[msk, var_idx],\n",
    "    ycand[msk, var_idx],\n",
    "    bins=(rng, rng),\n",
    "    cmap=\"Blues\",\n",
    "    norm=matplotlib.colors.LogNorm()\n",
    ");\n",
    "plt.xlabel(\"Gen {}\".format(var_names[var_idx]))\n",
    "plt.ylabel(\"DelphesPF {}\".format(var_names[var_idx]))"
   ]
  },
  {
   "cell_type": "code",
   "execution_count": null,
   "metadata": {
    "scrolled": false
   },
   "outputs": [],
   "source": [
    "pid = 1\n",
    "var_idx = 2\n",
    "\n",
    "def plot_reso(pid, var_idx, rng):\n",
    "    msk = (ygen[:, 0]==pid) & (ypred[:, 0]==pid) & (ycand[:, 0]==pid)\n",
    "    bins = np.linspace(-rng, rng, 100)\n",
    "    yg = ygen[msk, var_idx]\n",
    "    yp = ypred[msk, var_idx]\n",
    "    yc = ycand[msk, var_idx]\n",
    "    ratio_mlpf = (yp - yg) / yg\n",
    "    ratio_dpf = (yc - yg) / yg\n",
    "    ratio_mlpf[yg==0] = -1\n",
    "    ratio_dpf[yg==0] = -1\n",
    "\n",
    "    plt.figure(figsize=(4,4))\n",
    "    ax = plt.axes()\n",
    "    plt.title(\"{} resolution for {}\".format(var_names[var_idx], pid_names[pid]))\n",
    "    plt.hist(ratio_mlpf, bins=bins, histtype=\"step\", lw=2, density=1.0, label=\"MLPF\\n$\\mu={:.1f},\\\\ \\sigma={:.1f}$\".format(np.mean(ratio_mlpf), np.std(ratio_mlpf)));\n",
    "    plt.hist(ratio_dpf, bins=bins, histtype=\"step\", lw=2, density=1.0, label=\"DelphesPF\\n$\\mu={:.1f},\\\\ \\sigma={:.1f}$\".format(np.mean(ratio_dpf), np.std(ratio_dpf)));\n",
    "    plt.legend(frameon=False)\n",
    "    plt.ylim(0, ax.get_ylim()[1]*2)\n",
    "    \n",
    "plot_reso(2, 5, 2)\n",
    "plot_reso(2, 3, 0.5)\n",
    "plot_reso(2, 4, 0.5)"
   ]
  },
  {
   "cell_type": "code",
   "execution_count": null,
   "metadata": {},
   "outputs": [],
   "source": [
    "np.std(ratio_mlpf), np.std(ratio_dpf)"
   ]
  },
  {
   "cell_type": "code",
   "execution_count": null,
   "metadata": {},
   "outputs": [],
   "source": [
    "plt.figure(figsize=(10,10))\n",
    "\n",
    "X = matrices[\"X\"][0]\n",
    "ygen = matrices[\"ygen\"][0]\n",
    "ycand = matrices[\"ycand\"][0]\n",
    "plt.scatter(ygen[:, 3], ygen[:, 4], marker=\".\")\n",
    "plt.scatter(ycand[:, 3], ycand[:, 4], marker=\"x\")\n",
    "plt.scatter(X[:, 2], X[:, 3], marker=\"s\", alpha=0.5)\n"
   ]
  },
  {
   "cell_type": "code",
   "execution_count": null,
   "metadata": {},
   "outputs": [],
   "source": []
  },
  {
   "cell_type": "code",
   "execution_count": null,
   "metadata": {},
   "outputs": [],
   "source": [
    "msk = (ygen[:, 0] == 1) & (ycand[:, 0] == 1)\n",
    "plt.figure(figsize=(5,5))\n",
    "plt.hist((ygen[msk, 2]-ycand[msk, 2])/ygen[msk, 2], bins=np.linspace(-5,5,100));\n",
    "plt.xlabel(\"pT resolution (gen-pf)/gen\")\n",
    "plt.title(\"Charged hadrons\")"
   ]
  },
  {
   "cell_type": "code",
   "execution_count": null,
   "metadata": {},
   "outputs": [],
   "source": [
    "msk = (ygen[:, 0] == 2) & (ycand[:, 0] == 2)\n",
    "plt.figure(figsize=(5,5))\n",
    "plt.hist( (ygen[msk, 5]-ycand[msk, 5])/ygen[msk, 5], bins=np.linspace(-5,5,100));\n",
    "plt.xlabel(\"E resolution (gen-pf)/gen\")\n",
    "plt.title(\"neutral hadrons\")\n",
    "\n",
    "plt.figure(figsize=(5,5))\n",
    "plt.hist((ygen[msk, 3]-ycand[msk, 3])/ygen[msk, 3], bins=np.linspace(-1,1,100));\n",
    "plt.xlabel(\"eta resolution (gen-pf)/gen\")\n",
    "plt.title(\"Charged hadrons\")\n",
    "\n",
    "plt.figure(figsize=(5,5))\n",
    "plt.hist((ygen[msk, 4]-ycand[msk, 4])/ygen[msk, 4], bins=np.linspace(-1,1,100));\n",
    "plt.xlabel(\"phi resolution (gen-pf)/gen\")\n",
    "plt.title(\"Charged hadrons\")"
   ]
  },
  {
   "cell_type": "code",
   "execution_count": null,
   "metadata": {},
   "outputs": [],
   "source": [
    "msk = (ygen[:, 0] == 3) & (ycand[:, 0] == 3)\n",
    "plt.figure(figsize=(5,5))\n",
    "plt.hist( (ygen[msk, 5]-ycand[msk, 5])/ygen[msk, 5], bins=np.linspace(-5,5,100));\n",
    "plt.xlabel(\"E resolution (gen-pf)/gen\")\n",
    "plt.title(\"photons\")"
   ]
  },
  {
   "cell_type": "code",
   "execution_count": null,
   "metadata": {},
   "outputs": [],
   "source": [
    "msk = (ygen[:, 0] == 4) & (ycand[:, 0] == 4)\n",
    "plt.figure(figsize=(5,5))\n",
    "plt.hist( (ygen[msk, 2]-ycand[msk, 2])/ygen[msk, 2], bins=np.linspace(-0.5, 0.5, 100))\n",
    "plt.xlabel(\"pT resolution (gen-pf)/gen\")\n",
    "plt.title(\"muons\")"
   ]
  },
  {
   "cell_type": "code",
   "execution_count": null,
   "metadata": {},
   "outputs": [],
   "source": [
    "msk = (ygen[:, 0] == 5) & (ycand[:, 0] == 5)\n",
    "plt.figure(figsize=(5,5))\n",
    "plt.hist( (ygen[msk, 2]-ycand[msk, 2])/ygen[msk, 2], bins=np.linspace(-0.5, 0.5, 100))\n",
    "plt.xlabel(\"pT resolution (gen-pf)/gen\")\n",
    "plt.title(\"electrons\")"
   ]
  },
  {
   "cell_type": "code",
   "execution_count": null,
   "metadata": {},
   "outputs": [],
   "source": [
    "import sklearn\n",
    "import sklearn.metrics"
   ]
  },
  {
   "cell_type": "code",
   "execution_count": null,
   "metadata": {},
   "outputs": [],
   "source": [
    "confusion = sklearn.metrics.confusion_matrix(\n",
    "    ygen[:, 0], ycand[:, 0], normalize=\"true\"\n",
    ")\n",
    "\n",
    "confusion2 = sklearn.metrics.confusion_matrix(\n",
    "    ygen[:, 0], ypred[:, 0], normalize=\"true\"\n",
    ")"
   ]
  },
  {
   "cell_type": "code",
   "execution_count": null,
   "metadata": {},
   "outputs": [],
   "source": [
    "plt.imshow(confusion, cmap=\"Blues\")\n",
    "plt.title(\"Reconstructed PID (normed to gen)\")\n",
    "plt.xlabel(\"Delphes PF PID\")\n",
    "plt.ylabel(\"Gen PID\")\n",
    "plt.xticks(range(6), [\"none\", \"ch.had\", \"n.had\", \"g\", \"mu\", \"el\"]);\n",
    "plt.yticks(range(6), [\"none\", \"ch.had\", \"n.had\", \"g\", \"mu\", \"el\"]);\n",
    "plt.colorbar()"
   ]
  },
  {
   "cell_type": "code",
   "execution_count": null,
   "metadata": {},
   "outputs": [],
   "source": [
    "plt.imshow(confusion2, cmap=\"Blues\")\n",
    "plt.title(\"Reconstructed PID (normed to gen)\")\n",
    "plt.xlabel(\"MLPF PID\")\n",
    "plt.ylabel(\"Gen PID\")\n",
    "plt.xticks(range(6), [\"none\", \"ch.had\", \"n.had\", \"g\", \"mu\", \"el\"]);\n",
    "plt.yticks(range(6), [\"none\", \"ch.had\", \"n.had\", \"g\", \"mu\", \"el\"]);\n",
    "plt.colorbar()"
   ]
  },
  {
   "cell_type": "code",
   "execution_count": null,
   "metadata": {},
   "outputs": [],
   "source": []
  }
 ],
 "metadata": {
  "kernelspec": {
   "display_name": "Python 3",
   "language": "python",
   "name": "python3"
  },
  "language_info": {
   "codemirror_mode": {
    "name": "ipython",
    "version": 3
   },
   "file_extension": ".py",
   "mimetype": "text/x-python",
   "name": "python",
   "nbconvert_exporter": "python",
   "pygments_lexer": "ipython3",
   "version": "3.6.9"
  }
 },
 "nbformat": 4,
 "nbformat_minor": 4
}
