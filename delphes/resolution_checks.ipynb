{
 "cells": [
  {
   "cell_type": "code",
   "execution_count": null,
   "metadata": {},
   "outputs": [],
   "source": [
    "import pickle\n",
    "import matplotlib.pyplot as plt\n",
    "import numpy as np\n",
    "import uproot_methods\n",
    "import networkx as nx"
   ]
  },
  {
   "cell_type": "code",
   "execution_count": null,
   "metadata": {},
   "outputs": [],
   "source": [
    "g = pickle.load(open(\"graph_1.pkl\", \"rb\"))"
   ]
  },
  {
   "cell_type": "code",
   "execution_count": null,
   "metadata": {},
   "outputs": [],
   "source": [
    "def has_reco(g, particle):\n",
    "    for edge in g.edges(particle):\n",
    "        if edge[1][0] in [\"tower\", \"track\"]:\n",
    "            return True\n",
    "    return False"
   ]
  },
  {
   "cell_type": "code",
   "execution_count": null,
   "metadata": {},
   "outputs": [],
   "source": [
    "particles = [n for n in g.nodes if n[0] == \"particle\"]\n",
    "particles_with_reco = [n for n in particles if has_reco(g, n)]"
   ]
  },
  {
   "cell_type": "code",
   "execution_count": null,
   "metadata": {},
   "outputs": [],
   "source": [
    "etas = np.array([g.nodes[n][\"eta\"] for n in particles_with_reco])\n",
    "phis = np.array([g.nodes[n][\"phi\"] for n in particles_with_reco])\n",
    "energys = np.array([g.nodes[n][\"energy\"] for n in particles_with_reco])\n",
    "\n",
    "etas_tower = np.array([g.nodes[n][\"eta\"] for n in g.nodes if n[0] == \"tower\"])\n",
    "phis_tower = np.array([g.nodes[n][\"phi\"] for n in g.nodes if n[0] == \"tower\"])\n",
    "energys_tower = np.array([g.nodes[n][\"energy\"] for n in g.nodes if n[0] == \"tower\"])\n",
    "\n",
    "etas_track = np.array([g.nodes[n][\"eta\"] for n in g.nodes if n[0] == \"track\"])\n",
    "phis_track = np.array([g.nodes[n][\"phi\"] for n in g.nodes if n[0] == \"track\"])\n",
    "energys_track = np.array([g.nodes[n][\"pt\"] for n in g.nodes if n[0] == \"track\"])"
   ]
  },
  {
   "cell_type": "code",
   "execution_count": null,
   "metadata": {},
   "outputs": [],
   "source": [
    "plt.figure(figsize=(10,10))\n",
    "plt.scatter(etas, phis, alpha=0.5, marker=\".\", label=\"GenParticle\")\n",
    "plt.scatter(etas_tower, phis_tower, alpha=0.5, marker=\"s\", label=\"Tower\")\n",
    "plt.scatter(etas_track, phis_track, marker=\"x\", label=\"Track\")\n",
    "\n",
    "plt.ylim(-4,4)\n",
    "plt.legend(frameon=False)\n",
    "plt.xlabel(\"eta\")\n",
    "plt.ylabel(\"phi\")"
   ]
  },
  {
   "cell_type": "code",
   "execution_count": null,
   "metadata": {},
   "outputs": [],
   "source": [
    "matrices = pickle.load(open(\"out.pkl\", \"rb\"))"
   ]
  },
  {
   "cell_type": "code",
   "execution_count": null,
   "metadata": {},
   "outputs": [],
   "source": [
    "plt.figure(figsize=(10,10))\n",
    "\n",
    "X = matrices[\"X\"][0]\n",
    "ygen = matrices[\"ygen\"][0]\n",
    "ycand = matrices[\"ycand\"][0]\n",
    "plt.scatter(ygen[:, 3], ygen[:, 4], marker=\".\")\n",
    "plt.scatter(ycand[:, 3], ycand[:, 4], marker=\"x\")\n",
    "plt.scatter(X[:, 2], X[:, 3], marker=\"s\", alpha=0.5)\n"
   ]
  },
  {
   "cell_type": "code",
   "execution_count": null,
   "metadata": {},
   "outputs": [],
   "source": [
    "ygen = np.concatenate(matrices[\"ygen\"], axis=0)\n",
    "ycand = np.concatenate(matrices[\"ycand\"], axis=0)"
   ]
  },
  {
   "cell_type": "code",
   "execution_count": null,
   "metadata": {},
   "outputs": [],
   "source": [
    "msk = (ygen[:, 0] == 1) & (ycand[:, 0] == 1)\n",
    "plt.figure(figsize=(5,5))\n",
    "plt.hist((ygen[msk, 2]-ycand[msk, 2])/ygen[msk, 2], bins=np.linspace(-5,5,100));\n",
    "plt.xlabel(\"pT resolution (gen-pf)/gen\")\n",
    "plt.title(\"Charged hadrons\")"
   ]
  },
  {
   "cell_type": "code",
   "execution_count": null,
   "metadata": {},
   "outputs": [],
   "source": [
    "msk = (ygen[:, 0] == 2) & (ycand[:, 0] == 2)\n",
    "plt.figure(figsize=(5,5))\n",
    "plt.hist( (ygen[msk, 5]-ycand[msk, 5])/ygen[msk, 5], bins=np.linspace(-5,5,100));\n",
    "plt.xlabel(\"E resolution (gen-pf)/gen\")\n",
    "plt.title(\"neutral hadrons\")"
   ]
  },
  {
   "cell_type": "code",
   "execution_count": null,
   "metadata": {},
   "outputs": [],
   "source": [
    "msk = (ygen[:, 0] == 3) & (ycand[:, 0] == 3)\n",
    "plt.figure(figsize=(5,5))\n",
    "plt.hist( (ygen[msk, 5]-ycand[msk, 5])/ygen[msk, 5], bins=np.linspace(-5,5,100));\n",
    "plt.xlabel(\"E resolution (gen-pf)/gen\")\n",
    "plt.title(\"photons\")"
   ]
  },
  {
   "cell_type": "code",
   "execution_count": null,
   "metadata": {},
   "outputs": [],
   "source": [
    "msk = (ygen[:, 0] == 4) & (ycand[:, 0] == 4)\n",
    "plt.figure(figsize=(5,5))\n",
    "plt.hist( (ygen[msk, 2]-ycand[msk, 2])/ygen[msk, 2], bins=np.linspace(-0.5, 0.5, 100))\n",
    "plt.xlabel(\"pT resolution (gen-pf)/gen\")\n",
    "plt.title(\"muons\")"
   ]
  },
  {
   "cell_type": "code",
   "execution_count": null,
   "metadata": {},
   "outputs": [],
   "source": [
    "msk = (ygen[:, 0] == 5) & (ycand[:, 0] == 5)\n",
    "plt.figure(figsize=(5,5))\n",
    "plt.hist( (ygen[msk, 2]-ycand[msk, 2])/ygen[msk, 2], bins=np.linspace(-0.5, 0.5, 100))\n",
    "plt.xlabel(\"pT resolution (gen-pf)/gen\")\n",
    "plt.title(\"electrons\")"
   ]
  },
  {
   "cell_type": "code",
   "execution_count": null,
   "metadata": {},
   "outputs": [],
   "source": [
    "import sklearn\n",
    "import sklearn.metrics"
   ]
  },
  {
   "cell_type": "code",
   "execution_count": null,
   "metadata": {},
   "outputs": [],
   "source": [
    "confusion = sklearn.metrics.confusion_matrix(\n",
    "    ygen[:, 0], ycand[:, 0], normalize=\"true\"\n",
    ")"
   ]
  },
  {
   "cell_type": "code",
   "execution_count": null,
   "metadata": {},
   "outputs": [],
   "source": [
    "msk_a = ycand[:, 0] == 0\n",
    "msk_b = ygen[:, 0] == 2\n",
    "\n",
    "np.sum(msk_a & msk_b)"
   ]
  },
  {
   "cell_type": "code",
   "execution_count": null,
   "metadata": {},
   "outputs": [],
   "source": [
    "plt.imshow(confusion, cmap=\"Blues\")\n",
    "plt.title(\"Reconstructed PID (normed to gen)\")\n",
    "plt.xlabel(\"Delphes PF PID\")\n",
    "plt.ylabel(\"Gen PID\")\n",
    "plt.xticks(range(6), [\"none\", \"ch.had\", \"n.had\", \"g\", \"mu\", \"el\"]);\n",
    "plt.yticks(range(6), [\"none\", \"ch.had\", \"n.had\", \"g\", \"mu\", \"el\"]);\n",
    "plt.colorbar()"
   ]
  }
 ],
 "metadata": {
  "kernelspec": {
   "display_name": "Python 3",
   "language": "python",
   "name": "python3"
  },
  "language_info": {
   "codemirror_mode": {
    "name": "ipython",
    "version": 3
   },
   "file_extension": ".py",
   "mimetype": "text/x-python",
   "name": "python",
   "nbconvert_exporter": "python",
   "pygments_lexer": "ipython3",
   "version": "3.6.9"
  }
 },
 "nbformat": 4,
 "nbformat_minor": 4
}
